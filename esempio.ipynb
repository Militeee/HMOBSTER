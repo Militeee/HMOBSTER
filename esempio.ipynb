{
 "cells": [
  {
   "cell_type": "code",
   "execution_count": 1,
   "outputs": [
    {
     "name": "stderr",
     "text": [
      "\n",
      "Bad key \"text.kerning_factor\" on line 4 in\n",
      "/Users/salvatore/miniconda3/envs/hmobster/lib/python3.7/site-packages/matplotlib/mpl-data/stylelib/_classic_test_patch.mplstyle.\n",
      "You probably need to get an updated matplotlibrc file from\n",
      "https://github.com/matplotlib/matplotlib/blob/v3.1.3/matplotlibrc.template\n",
      "or from the matplotlib source distribution\n"
     ],
     "output_type": "stream"
    }
   ],
   "source": [
    "import mobster as mb\n",
    "\n",
    "import numpy as np\n"
   ],
   "metadata": {
    "collapsed": false,
    "pycharm": {
     "name": "#%%\n",
     "is_executing": false
    }
   }
  },
  {
   "cell_type": "code",
   "execution_count": 2,
   "outputs": [],
   "source": [
    "data = mb.load_example_data(\"./\")\n",
    "\n"
   ],
   "metadata": {
    "collapsed": false,
    "pycharm": {
     "name": "#%%\n",
     "is_executing": false
    }
   }
  },
  {
   "cell_type": "code",
   "execution_count": 9,
   "outputs": [
    {
     "name": "stdout",
     "text": [
      "Running MOBSTER on 3 karyotypes with 1 subclones.\n",
      "Fitting a model with tail\n",
      "\n",
      "Computing cluster assignements.\n",
      "Computing information criteria.\n",
      "Done!\n"
     ],
     "output_type": "stream"
    },
    {
     "name": "stderr",
     "text": [
      "ELBO: -5509.649880096  : 100%|██████████| 500/500 [00:15<00:00, 32.78it/s]\n"
     ],
     "output_type": "stream"
    }
   ],
   "source": [
    "fitted = mb.fit_mobster(data,1,1,purity = 0.95,  truncated_pareto=True, max_it = 500, lr = 0.01,  e = 0.000001, lrd_gamma = 0.1,   \n",
    "        number_of_trials_k= 300, prior_lims_k=[0.1,10000], prior_lims_clonal=[0.1,10000.], number_of_trials_clonal_mean= 300.)"
   ],
   "metadata": {
    "collapsed": false,
    "pycharm": {
     "name": "#%%\n",
     "is_executing": false
    }
   }
  },
  {
   "cell_type": "code",
   "execution_count": 10,
   "outputs": [],
   "source": [
    "\n",
    "\n",
    "mb.plot_results(data, fitted, output= \"cane.png\", drivers=None)"
   ],
   "metadata": {
    "collapsed": false,
    "pycharm": {
     "name": "#%%\n",
     "is_executing": false
    }
   }
  },
  {
   "cell_type": "code",
   "execution_count": 11,
   "outputs": [
    {
     "data": {
      "text/plain": "{'cluster_probs': array([[0.0000000e+00, 5.8719301e-01, 9.2804241e-01, ..., 0.0000000e+00,\n         9.0071982e-01, 0.0000000e+00],\n        [9.6471500e-01, 2.9781558e-31, 0.0000000e+00, ..., 3.1152936e-03,\n         0.0000000e+00, 9.6390641e-01],\n        [3.5284948e-02, 4.1280699e-01, 7.1957573e-02, ..., 9.9688470e-01,\n         9.9280238e-02, 3.6093496e-02]], dtype=float32),\n 'cluster_assignments': array(['C1', 'Tail', 'Tail', ..., 'S1', 'Tail', 'C1'], dtype=object),\n 'cluster_types': array([], dtype=object),\n 'mixture_probs': array([0.11636865, 0.6580406 , 0.22559085], dtype=float32),\n 'beta_concentration1': array([73.84059  ,  2.3722463], dtype=float32),\n 'beta_concentration2': array([84.710495,  6.100928], dtype=float32),\n 'ccf_subclones': array([0.5599428], dtype=float32),\n 'tail_shape': array(1.6814952, dtype=float32),\n 'tail_scale': 0.044045046,\n 'tail_noise': 0.10233135604641769}"
     },
     "metadata": {},
     "output_type": "execute_result",
     "execution_count": 11
    }
   ],
   "source": [
    "fitted[\"model_parameters\"][\"1:1\"]\n",
    "\n"
   ],
   "metadata": {
    "collapsed": false,
    "pycharm": {
     "name": "#%%\n",
     "is_executing": false
    }
   }
  },
  {
   "cell_type": "code",
   "execution_count": 13,
   "outputs": [
    {
     "data": {
      "text/plain": "array([0.4983262 , 0.42455542], dtype=float32)"
     },
     "metadata": {},
     "output_type": "execute_result",
     "execution_count": 13
    }
   ],
   "source": [
    "tot = fitted[\"model_parameters\"][\"1:1\"]['beta_concentration1'] + fitted[\"model_parameters\"][\"1:1\"]['beta_concentration2']\n",
    "\n",
    "fitted[\"model_parameters\"][\"1:1\"]['beta_concentration1'] / tot\n",
    "\n"
   ],
   "metadata": {
    "collapsed": false,
    "pycharm": {
     "name": "#%%\n",
     "is_executing": false
    }
   }
  },
  {
   "cell_type": "code",
   "execution_count": 5,
   "outputs": [
    {
     "data": {
      "text/plain": "{'information_criteria': {'likelihood': array(11192.457, dtype=float32),\n  'AIC': array(-22292.914, dtype=float32),\n  'BIC': array(-21940.354, dtype=float32),\n  'ICL': array(-16157.293, dtype=float32)},\n 'model_parameters': {'1:0': {'cluster_probs': array([[0.        , 0.        , 0.81033456, 0.81033456, 0.        ,\n           0.        , 0.81033456, 0.        , 0.        , 0.81033456,\n           0.81033456, 0.81033456, 0.        , 0.        , 0.        ,\n           0.        , 0.        , 0.        , 0.81033456, 0.        ,\n           0.81033456, 0.        , 0.        , 0.        , 0.        ,\n           0.        , 0.        , 0.        , 0.        , 0.        ,\n           0.        , 0.        , 0.        , 0.        , 0.        ,\n           0.        , 0.        , 0.        , 0.        , 0.        ,\n           0.        , 0.        , 0.        , 0.        , 0.        ,\n           0.        , 0.        , 0.        , 0.81033456, 0.        ,\n           0.        , 0.        , 0.        , 0.81033456, 0.81033456,\n           0.        , 0.        , 0.        , 0.81033456, 0.        ,\n           0.        , 0.        , 0.        , 0.        , 0.        ,\n           0.        , 0.        , 0.        , 0.        , 0.        ,\n           0.        , 0.        , 0.        , 0.        , 0.        ,\n           0.        , 0.        , 0.        , 0.        , 0.        ,\n           0.        , 0.81033456, 0.        , 0.        , 0.        ,\n           0.        , 0.        , 0.        , 0.81033456, 0.        ,\n           0.        , 0.        , 0.        , 0.        , 0.        ,\n           0.        , 0.        , 0.        , 0.        , 0.        ,\n           0.        , 0.        , 0.        , 0.        , 0.        ,\n           0.        , 0.81033456, 0.81033456, 0.        , 0.        ,\n           0.        , 0.        , 0.        , 0.        , 0.        ,\n           0.        , 0.        , 0.        , 0.81033456, 0.        ,\n           0.        , 0.        , 0.        , 0.        , 0.        ,\n           0.        , 0.        , 0.        , 0.81033456, 0.        ,\n           0.81033456, 0.81033456, 0.81033456, 0.        , 0.81033456,\n           0.        , 0.        , 0.81033456, 0.        , 0.81033456,\n           0.81033456, 0.81033456, 0.        , 0.81033456, 0.81033456,\n           0.        , 0.81033456, 0.        , 0.        , 0.        ,\n           0.        , 0.        , 0.81033456, 0.        , 0.81033456,\n           0.        , 0.        , 0.        , 0.        , 0.81033456,\n           0.81033456, 0.81033456, 0.81033456, 0.81033456, 0.81033456,\n           0.81033456, 0.81033456, 0.81033456, 0.        , 0.81033456,\n           0.81033456, 0.81033456, 0.        , 0.        , 0.81033456,\n           0.81033456, 0.81033456, 0.        ],\n          [1.        , 1.        , 0.18966547, 0.18966547, 1.        ,\n           1.        , 0.18966547, 1.        , 1.        , 0.18966547,\n           0.18966547, 0.18966547, 1.        , 1.        , 1.        ,\n           1.        , 1.        , 1.        , 0.18966547, 1.        ,\n           0.18966547, 1.        , 1.        , 1.        , 1.        ,\n           1.        , 1.        , 1.        , 1.        , 1.        ,\n           1.        , 1.        , 1.        , 1.        , 1.        ,\n           1.        , 1.        , 1.        , 1.        , 1.        ,\n           1.        , 1.        , 1.        , 1.        , 1.        ,\n           1.        , 1.        , 1.        , 0.18966547, 1.        ,\n           1.        , 1.        , 1.        , 0.18966547, 0.18966547,\n           1.        , 1.        , 1.        , 0.18966547, 1.        ,\n           1.        , 1.        , 1.        , 1.        , 1.        ,\n           1.        , 1.        , 1.        , 1.        , 1.        ,\n           1.        , 1.        , 1.        , 1.        , 1.        ,\n           1.        , 1.        , 1.        , 1.        , 1.        ,\n           1.        , 0.18966547, 1.        , 1.        , 1.        ,\n           1.        , 1.        , 1.        , 0.18966547, 1.        ,\n           1.        , 1.        , 1.        , 1.        , 1.        ,\n           1.        , 1.        , 1.        , 1.        , 1.        ,\n           1.        , 1.        , 1.        , 1.        , 1.        ,\n           1.        , 0.18966547, 0.18966547, 1.        , 1.        ,\n           1.        , 1.        , 1.        , 1.        , 1.        ,\n           1.        , 1.        , 1.        , 0.18966547, 1.        ,\n           1.        , 1.        , 1.        , 1.        , 1.        ,\n           1.        , 1.        , 1.        , 0.18966547, 1.        ,\n           0.18966547, 0.18966547, 0.18966547, 1.        , 0.18966547,\n           1.        , 1.        , 0.18966547, 1.        , 0.18966547,\n           0.18966547, 0.18966547, 1.        , 0.18966547, 0.18966547,\n           1.        , 0.18966547, 1.        , 1.        , 1.        ,\n           1.        , 1.        , 0.18966547, 1.        , 0.18966547,\n           1.        , 1.        , 1.        , 1.        , 0.18966547,\n           0.18966547, 0.18966547, 0.18966547, 0.18966547, 0.18966547,\n           0.18966547, 0.18966547, 0.18966547, 1.        , 0.18966547,\n           0.18966547, 0.18966547, 1.        , 1.        , 0.18966547,\n           0.18966547, 0.18966547, 1.        ]], dtype=float32),\n   'cluster_assignments': array(['S1', 'S1', 'C1', 'C1', 'S1', 'S1', 'C1', 'S1', 'S1', 'C1', 'C1',\n          'C1', 'S1', 'S1', 'S1', 'S1', 'S1', 'S1', 'C1', 'S1', 'C1', 'S1',\n          'S1', 'S1', 'S1', 'S1', 'S1', 'S1', 'S1', 'S1', 'S1', 'S1', 'S1',\n          'S1', 'S1', 'S1', 'S1', 'S1', 'S1', 'S1', 'S1', 'S1', 'S1', 'S1',\n          'S1', 'S1', 'S1', 'S1', 'C1', 'S1', 'S1', 'S1', 'S1', 'C1', 'C1',\n          'S1', 'S1', 'S1', 'C1', 'S1', 'S1', 'S1', 'S1', 'S1', 'S1', 'S1',\n          'S1', 'S1', 'S1', 'S1', 'S1', 'S1', 'S1', 'S1', 'S1', 'S1', 'S1',\n          'S1', 'S1', 'S1', 'S1', 'C1', 'S1', 'S1', 'S1', 'S1', 'S1', 'S1',\n          'C1', 'S1', 'S1', 'S1', 'S1', 'S1', 'S1', 'S1', 'S1', 'S1', 'S1',\n          'S1', 'S1', 'S1', 'S1', 'S1', 'S1', 'S1', 'C1', 'C1', 'S1', 'S1',\n          'S1', 'S1', 'S1', 'S1', 'S1', 'S1', 'S1', 'S1', 'C1', 'S1', 'S1',\n          'S1', 'S1', 'S1', 'S1', 'S1', 'S1', 'S1', 'C1', 'S1', 'C1', 'C1',\n          'C1', 'S1', 'C1', 'S1', 'S1', 'C1', 'S1', 'C1', 'C1', 'C1', 'S1',\n          'C1', 'C1', 'S1', 'C1', 'S1', 'S1', 'S1', 'S1', 'S1', 'C1', 'S1',\n          'C1', 'S1', 'S1', 'S1', 'S1', 'C1', 'C1', 'C1', 'C1', 'C1', 'C1',\n          'C1', 'C1', 'C1', 'S1', 'C1', 'C1', 'C1', 'S1', 'S1', 'C1', 'C1',\n          'C1', 'S1'], dtype=object),\n   'cluster_types': array([], dtype=object),\n   'mixture_probs': array([0.20966731, 0.79033273], dtype=float32),\n   'beta_concentration1': array([3.8980486e+03, 1.2554643e+00], dtype=float32),\n   'beta_concentration2': array([4.7876997 , 0.22708248], dtype=float32),\n   'ccf_subclones': array([0.8468295], dtype=float32)},\n  '1:1': {'cluster_probs': array([[6.9478476e-09, 4.6770185e-02, 1.0303509e-39, ..., 2.0939897e-05,\n           3.6902770e-07, 7.1019137e-01],\n          [1.0000000e+00, 9.5322978e-01, 1.0000000e+00, ..., 9.9997902e-01,\n           9.9999964e-01, 2.8980863e-01]], dtype=float32),\n   'cluster_assignments': array(['S1', 'S1', 'S1', ..., 'S1', 'S1', 'C1'], dtype=object),\n   'cluster_types': array([], dtype=object),\n   'mixture_probs': array([0.4229146, 0.5770854], dtype=float32),\n   'beta_concentration1': array([19.221039 ,  1.6044266], dtype=float32),\n   'beta_concentration2': array([19.004395,  2.184829], dtype=float32),\n   'ccf_subclones': array([0.8468295], dtype=float32)},\n  '2:0': {'cluster_probs': array([[1.29208956e-36, 1.29208956e-36, 8.82756472e-01, ...,\n           1.29208956e-36, 1.29208956e-36, 1.29208956e-36],\n          [9.99979496e-01, 9.99979496e-01, 0.00000000e+00, ...,\n           9.99979496e-01, 9.99979496e-01, 9.99979496e-01],\n          [2.05570432e-05, 2.05570432e-05, 1.17243566e-01, ...,\n           2.05570432e-05, 2.05570432e-05, 2.05570432e-05]], dtype=float32),\n   'cluster_assignments': array(['C2', 'C2', 'C1', ..., 'C2', 'C2', 'C2'], dtype=object),\n   'cluster_types': array([], dtype=object),\n   'mixture_probs': array([0.51899767, 0.25701058, 0.2239918 ], dtype=float32),\n   'beta_concentration1': array([1.5170585e+01, 3.0617827e+03, 1.2777901e+00], dtype=float32),\n   'beta_concentration2': array([15.398353 ,  3.8630257,  1.7400315], dtype=float32),\n   'ccf_subclones': array([0.8468295], dtype=float32)},\n  '2:1': {'cluster_probs': array([[7.6848769e-01, 4.0024635e-01, 7.2525561e-01, ..., 4.3338165e-01,\n           5.3553393e-09, 7.5620967e-01],\n          [1.0727830e-02, 5.4708507e-04, 3.2260574e-02, ..., 2.2571552e-01,\n           9.9730885e-01, 1.7861523e-02],\n          [2.2078450e-01, 5.9920651e-01, 2.4248388e-01, ..., 3.4090292e-01,\n           2.6912156e-03, 2.2592883e-01]], dtype=float32),\n   'cluster_assignments': array(['C1', 'S1', 'C1', ..., 'C1', 'C2', 'C1'], dtype=object),\n   'cluster_types': array([], dtype=object),\n   'mixture_probs': array([0.40746194, 0.2967894 , 0.29574865], dtype=float32),\n   'beta_concentration1': array([19.531364 , 11.624569 ,  3.7273514], dtype=float32),\n   'beta_concentration2': array([38.383484 ,  5.9236546,  9.490478 ], dtype=float32),\n   'ccf_subclones': array([0.8468295], dtype=float32)},\n  '2:2': {'cluster_probs': array([[9.8081571e-01, 9.9432224e-01, 0.0000000e+00, ..., 6.9118959e-01,\n           1.2226297e-02, 0.0000000e+00],\n          [1.0190146e-13, 2.1823159e-10, 0.0000000e+00, ..., 3.0451331e-01,\n           9.8534155e-01, 0.0000000e+00],\n          [1.9184243e-02, 5.6776879e-03, 1.0000000e+00, ..., 4.2971168e-03,\n           2.4321862e-03, 1.0000000e+00]], dtype=float32),\n   'cluster_assignments': array(['C1', 'C1', 'S1', ..., 'C1', 'C2', 'S1'], dtype=object),\n   'cluster_types': array([], dtype=object),\n   'mixture_probs': array([0.65117157, 0.31882966, 0.02999874], dtype=float32),\n   'beta_concentration1': array([ 6.040998  , 29.566591  ,  0.05253914], dtype=float32),\n   'beta_concentration2': array([18.972485  , 28.71871   ,  0.19562954], dtype=float32),\n   'ccf_subclones': array([0.8468295], dtype=float32)}},\n 'run_parameters': {'K': 1,\n  'tail': 0,\n  'truncated_pareto': True,\n  'purity': 0.95,\n  'alpha_precision_concentration': 5,\n  'alpha_precision_rate': 0.1,\n  'number_of_trials_clonal_mean': 300.0,\n  'number_of_trials_k': 100,\n  'prior_lims_clonal': [0.1, 10000.0],\n  'prior_lims_k': [0.1, 10000]},\n 'loss': array([ 3.42558496e+08,  2.61212208e+08,  2.09255296e+08,  1.70882240e+08,\n         1.37121504e+08,  1.07743648e+08,  8.32620640e+07,  6.36538960e+07,\n         4.77244200e+07,  3.41012480e+07,  2.23630020e+07,  1.24891800e+07,\n         4.41207900e+06, -2.34314700e+06, -8.15440300e+06, -1.31643160e+07,\n        -1.74464260e+07, -2.10743940e+07, -2.40552140e+07, -2.64949360e+07,\n        -2.85123200e+07, -3.02242620e+07, -3.17184080e+07, -3.30296460e+07,\n        -3.41570600e+07, -3.51326000e+07, -3.60149640e+07, -3.68568960e+07,\n        -3.76630600e+07, -3.84065920e+07, -3.90419560e+07, -3.95745240e+07,\n        -4.00429320e+07, -4.04584840e+07, -4.08062480e+07, -4.10764800e+07,\n        -4.13041560e+07, -4.15296640e+07, -4.17535040e+07, -4.19531080e+07,\n        -4.21072640e+07, -4.22391520e+07, -4.23962800e+07, -4.25957200e+07,\n        -4.28211720e+07, -4.30411920e+07, -4.32264920e+07, -4.33870320e+07,\n        -4.35522400e+07, -4.37300680e+07, -4.39090000e+07, -4.40699200e+07,\n        -4.42160720e+07, -4.43626120e+07, -4.45134200e+07, -4.46557000e+07,\n        -4.47759760e+07, -4.48901720e+07, -4.50152480e+07, -4.51452280e+07,\n        -4.52582800e+07, -4.53536360e+07, -4.54482480e+07, -4.55491040e+07,\n        -4.56528280e+07, -4.57499920e+07, -4.58418040e+07, -4.59316520e+07,\n        -4.60269160e+07, -4.61252480e+07, -4.62177000e+07, -4.62997840e+07,\n        -4.63869400e+07, -4.64808480e+07, -4.65765960e+07, -4.66672360e+07,\n        -4.67574480e+07, -4.68453240e+07, -4.69303720e+07, -4.70150640e+07,\n        -4.70966880e+07, -4.71764200e+07, -4.72600760e+07, -4.73391640e+07,\n        -4.74156600e+07, -4.74933920e+07, -4.75675480e+07, -4.76407840e+07,\n        -4.77129680e+07, -4.77849600e+07, -4.78592320e+07, -4.79329440e+07,\n        -4.80037480e+07, -4.80738160e+07, -4.81417440e+07, -4.82087280e+07,\n        -4.82757920e+07, -4.83397120e+07, -4.84048880e+07, -4.84698680e+07,\n        -4.85324880e+07, -4.85949120e+07, -4.86568960e+07, -4.87151360e+07,\n        -4.87727120e+07, -4.88301760e+07, -4.88954400e+07, -4.89549040e+07,\n        -4.90092760e+07, -4.90684520e+07, -4.91203560e+07, -4.91766760e+07,\n        -4.92329480e+07, -4.92822280e+07, -4.93379520e+07, -4.93883080e+07,\n        -4.94421440e+07, -4.94924080e+07, -4.95385800e+07, -4.95914360e+07,\n        -4.96368960e+07, -4.96872640e+07, -4.97328000e+07, -4.97780240e+07,\n        -4.98221800e+07, -4.98755920e+07, -4.99134480e+07, -4.99593240e+07,\n        -5.00074960e+07, -5.00458600e+07, -5.00944720e+07, -5.01310680e+07,\n        -5.01763200e+07, -5.02126440e+07, -5.02544520e+07, -5.02955840e+07,\n        -5.03315400e+07, -5.03779520e+07, -5.04105440e+07, -5.04459840e+07,\n        -5.04825360e+07, -5.05232640e+07, -5.05598520e+07, -5.05921360e+07,\n        -5.06238400e+07, -5.06653000e+07, -5.06970840e+07, -5.07292280e+07,\n        -5.07610560e+07, -5.07977360e+07, -5.08298920e+07, -5.08616960e+07,\n        -5.08899440e+07, -5.09214760e+07, -5.09528840e+07, -5.09855520e+07,\n        -5.10176840e+07, -5.10404720e+07, -5.10728040e+07, -5.11044520e+07,\n        -5.11226520e+07, -5.11548520e+07, -5.11775680e+07, -5.12141360e+07,\n        -5.12372320e+07, -5.12599040e+07, -5.12917520e+07, -5.13104000e+07,\n        -5.13330240e+07, -5.13553960e+07, -5.13829040e+07, -5.14059520e+07,\n        -5.14283880e+07, -5.14470680e+07, -5.14837120e+07, -5.15018480e+07,\n        -5.15208480e+07, -5.15476400e+07, -5.15657720e+07, -5.15842360e+07,\n        -5.16026520e+07, -5.16298240e+07, -5.16482680e+07, -5.16756040e+07,\n        -5.16845080e+07, -5.17121800e+07, -5.17302640e+07, -5.17485640e+07,\n        -5.17579560e+07, -5.17761080e+07, -5.18126440e+07, -5.18216360e+07,\n        -5.18492120e+07, -5.18580440e+07, -5.18675280e+07, -5.18948960e+07,\n        -5.19038520e+07, -5.19225880e+07, -5.19401880e+07, -5.19587360e+07])}"
     },
     "metadata": {},
     "output_type": "execute_result",
     "execution_count": 5
    }
   ],
   "source": [
    "fitted\n"
   ],
   "metadata": {
    "collapsed": false,
    "pycharm": {
     "name": "#%%\n",
     "is_executing": false
    }
   }
  },
  {
   "cell_type": "code",
   "execution_count": null,
   "outputs": [],
   "source": [
    "\n"
   ],
   "metadata": {
    "collapsed": false,
    "pycharm": {
     "name": "#%%\n"
    }
   }
  }
 ],
 "metadata": {
  "kernelspec": {
   "display_name": "Python 3",
   "language": "python",
   "name": "python3"
  },
  "language_info": {
   "codemirror_mode": {
    "name": "ipython",
    "version": 3
   },
   "file_extension": ".py",
   "mimetype": "text/x-python",
   "name": "python",
   "nbconvert_exporter": "python",
   "pygments_lexer": "ipython3",
   "version": "3.8.5"
  },
  "pycharm": {
   "stem_cell": {
    "cell_type": "raw",
    "source": [],
    "metadata": {
     "collapsed": false
    }
   }
  }
 },
 "nbformat": 4,
 "nbformat_minor": 5
}