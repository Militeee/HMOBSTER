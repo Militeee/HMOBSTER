{
 "cells": [
  {
   "cell_type": "code",
   "execution_count": 1,
   "outputs": [],
   "source": [
    "import numpy\n",
    "import torch\n",
    "import mobster as mb\n",
    "\n",
    "import numpy as np\n"
   ],
   "metadata": {
    "collapsed": false,
    "pycharm": {
     "name": "#%%\n"
    }
   }
  },
  {
   "cell_type": "code",
   "execution_count": null,
   "outputs": [],
   "source": [
    "data = mb.load_example_data(\"./\")"
   ],
   "metadata": {
    "collapsed": false,
    "pycharm": {
     "name": "#%%\n"
    }
   }
  },
  {
   "cell_type": "code",
   "execution_count": null,
   "outputs": [],
   "source": [
    "import pyro\n",
    "\n",
    "pyro.enable_validation(True)\n",
    "fitted = mb.fit_mobster(data,1,1,purity = 1,  truncated_pareto=True, max_it = 1000, lr = 0.01,  e = 0.0005, lrd_gamma = 0.1,\n",
    "        number_of_trials_k= 1000, prior_lims_k=[100,1000000], prior_lims_clonal=[100,1000000.], number_of_trials_clonal_mean= 1000)\n"
   ],
   "metadata": {
    "collapsed": false,
    "pycharm": {
     "name": "#%%\n"
    }
   }
  },
  {
   "cell_type": "code",
   "execution_count": 4,
   "outputs": [
    {
     "name": "stdout",
     "output_type": "stream",
     "text": [
      "0.3032043\n",
      "0.18950708\n"
     ]
    }
   ],
   "source": [
    "\n",
    "\n",
    "mb.plot_results(data, fitted, output= \"cane.png\", drivers=None)"
   ],
   "metadata": {
    "collapsed": false,
    "pycharm": {
     "name": "#%%\n"
    }
   }
  },
  {
   "cell_type": "code",
   "execution_count": 8,
   "outputs": [
    {
     "data": {
      "text/plain": "{'cluster_probs': array([[9.9133784e-01, 9.8905963e-01, 9.8382068e-01, ..., 3.5704809e-01,\n         4.0972710e-02, 9.3479693e-02],\n        [4.2058329e-18, 8.1323885e-17, 6.9522605e-17, ..., 6.4294833e-01,\n         9.5902723e-01, 9.0652025e-01],\n        [8.6623905e-03, 1.0940178e-02, 1.6179549e-02, ..., 3.6502088e-06,\n         5.1583488e-13, 4.7019961e-11]], dtype=float32),\n 'cluster_assignments': array(['Tail', 'Tail', 'Tail', 'Tail', 'Tail', 'Tail', 'Tail', 'Tail',\n        'Tail', 'Tail', 'Tail', 'Tail', 'Tail', 'Tail', 'Tail', 'Tail',\n        'Tail', 'Tail', 'Tail', 'Tail', 'Tail', 'Tail', 'Tail', 'Tail',\n        'Tail', 'Tail', 'Tail', 'Tail', 'Tail', 'Tail', 'Tail', 'Tail',\n        'Tail', 'Tail', 'Tail', 'Tail', 'Tail', 'Tail', 'Tail', 'Tail',\n        'Tail', 'Tail', 'Tail', 'Tail', 'Tail', 'Tail', 'Tail', 'Tail',\n        'Tail', 'Tail', 'Tail', 'Tail', 'Tail', 'Tail', 'Tail', 'Tail',\n        'Tail', 'Tail', 'Tail', 'Tail', 'Tail', 'Tail', 'Tail', 'Tail',\n        'S1', 'Tail', 'Tail', 'Tail', 'Tail', 'Tail', 'Tail', 'Tail',\n        'Tail', 'Tail', 'Tail', 'Tail', 'Tail', 'Tail', 'Tail', 'S1',\n        'Tail', 'S1', 'Tail', 'Tail', 'Tail', 'Tail', 'Tail', 'Tail',\n        'Tail', 'Tail', 'Tail', 'Tail', 'Tail', 'Tail', 'Tail', 'Tail',\n        'Tail', 'Tail', 'Tail', 'Tail', 'Tail', 'Tail', 'Tail', 'Tail',\n        'Tail', 'Tail', 'Tail', 'Tail', 'Tail', 'Tail', 'Tail', 'Tail',\n        'Tail', 'Tail', 'Tail', 'Tail', 'Tail', 'Tail', 'Tail', 'Tail',\n        'Tail', 'Tail', 'Tail', 'Tail', 'Tail', 'Tail', 'Tail', 'Tail',\n        'Tail', 'Tail', 'Tail', 'Tail', 'Tail', 'Tail', 'Tail', 'Tail',\n        'Tail', 'Tail', 'Tail', 'Tail', 'Tail', 'Tail', 'Tail', 'Tail',\n        'Tail', 'Tail', 'Tail', 'Tail', 'Tail', 'Tail', 'Tail', 'Tail',\n        'Tail', 'Tail', 'Tail', 'Tail', 'Tail', 'S1', 'S1', 'S1', 'Tail',\n        'S1', 'S1', 'Tail', 'S1', 'Tail', 'S1', 'S1', 'S1', 'S1', 'S1',\n        'S1', 'S1', 'S1', 'Tail', 'S1', 'S1', 'Tail', 'Tail', 'S1', 'S1',\n        'S1', 'S1', 'S1', 'S1', 'S1', 'S1', 'S1', 'Tail', 'Tail', 'Tail',\n        'Tail', 'Tail', 'Tail', 'Tail', 'Tail', 'Tail', 'Tail', 'S1', 'S1',\n        'S1', 'Tail', 'Tail', 'S1', 'S1', 'Tail', 'S1', 'S1', 'S1', 'S1',\n        'Tail', 'S1', 'S1', 'S1', 'S1', 'S1', 'S1', 'S1', 'S1', 'Tail',\n        'S1', 'Tail', 'S1', 'S1', 'S1', 'S1', 'S1', 'S1', 'S1', 'S1', 'S1',\n        'S1', 'S1', 'S1', 'Tail', 'S1', 'S1', 'S1', 'S1', 'S1', 'S1',\n        'Tail', 'S1', 'S1', 'S1', 'S1', 'Tail', 'S1', 'S1', 'S1', 'S1',\n        'S1', 'Tail', 'Tail', 'Tail', 'Tail', 'Tail', 'Tail', 'Tail',\n        'Tail', 'Tail', 'Tail', 'Tail', 'Tail', 'Tail', 'Tail', 'Tail',\n        'Tail', 'Tail', 'Tail', 'Tail', 'Tail', 'Tail', 'Tail', 'Tail',\n        'Tail', 'Tail', 'Tail', 'Tail', 'Tail', 'Tail', 'Tail', 'Tail',\n        'Tail', 'Tail', 'Tail', 'Tail', 'Tail', 'Tail', 'Tail', 'Tail',\n        'Tail', 'Tail', 'Tail', 'Tail', 'Tail', 'Tail', 'Tail', 'Tail',\n        'Tail', 'Tail', 'Tail', 'Tail', 'Tail', 'Tail', 'Tail', 'Tail',\n        'Tail', 'Tail', 'Tail', 'Tail', 'Tail', 'Tail', 'Tail', 'Tail',\n        'Tail', 'Tail', 'Tail', 'Tail', 'Tail', 'Tail', 'Tail', 'Tail',\n        'Tail', 'Tail', 'Tail', 'Tail', 'Tail', 'Tail', 'Tail', 'Tail',\n        'Tail', 'Tail', 'Tail', 'Tail', 'Tail', 'Tail', 'Tail', 'S1', 'S1',\n        'S1', 'Tail', 'Tail', 'S1', 'Tail', 'Tail', 'Tail', 'Tail', 'Tail',\n        'Tail', 'Tail', 'Tail', 'S1', 'Tail', 'Tail', 'S1', 'Tail', 'Tail',\n        'Tail', 'Tail', 'Tail', 'S1', 'Tail', 'Tail', 'Tail', 'Tail',\n        'Tail', 'S1', 'Tail', 'Tail', 'S1', 'Tail', 'Tail', 'Tail', 'Tail',\n        'Tail', 'S1', 'S1', 'Tail', 'Tail', 'S1', 'S1', 'S1', 'S1', 'Tail',\n        'S1', 'S1', 'S1', 'S1', 'S1', 'S1', 'S1', 'S1', 'S1', 'S1', 'S1',\n        'Tail', 'Tail', 'S1', 'S1', 'S1', 'Tail', 'S1', 'Tail', 'S1', 'S1',\n        'S1', 'S1', 'S1', 'S1', 'S1', 'S1', 'S1', 'S1', 'S1', 'S1', 'Tail',\n        'S1', 'S1', 'S1', 'S1', 'Tail', 'S1', 'S1', 'S1', 'C1', 'C1',\n        'Tail', 'Tail', 'Tail', 'C1', 'Tail', 'C1', 'Tail', 'C1', 'C1',\n        'C1', 'Tail', 'C1', 'C1', 'Tail', 'C1', 'Tail', 'Tail', 'Tail',\n        'C1', 'Tail', 'Tail', 'Tail', 'Tail', 'Tail', 'C1', 'C1', 'C1',\n        'C1', 'C1', 'C1', 'C1', 'C1', 'C1', 'C1', 'C1', 'C1', 'C1', 'C1',\n        'C1', 'C1', 'C1', 'C1', 'C1', 'C1', 'C1', 'C1', 'C1', 'C1', 'C1',\n        'C1', 'C1', 'C1', 'C1', 'C1', 'C1', 'C1', 'C1', 'C1', 'C1', 'C1',\n        'C1', 'C1', 'C1', 'C1', 'C1', 'C1', 'C1', 'C1', 'C1', 'C1', 'C1',\n        'C1', 'C1', 'C1', 'C1', 'C1', 'C1', 'C1', 'C1', 'C1', 'C1', 'C1',\n        'C1', 'C1', 'C1', 'C1', 'C1', 'C1', 'C1', 'C1', 'C1', 'C1', 'C1',\n        'C1', 'C1', 'C1', 'C1', 'C1', 'C1', 'C1', 'C1', 'C1', 'C1', 'C1',\n        'C1', 'C1', 'C1', 'C1', 'C1', 'C1', 'C1', 'C1', 'C1', 'C1', 'C1',\n        'C1', 'C1', 'C1', 'C1', 'C1', 'C1', 'C1', 'C1', 'C1', 'C1', 'Tail',\n        'C1', 'C1', 'C1', 'C1', 'C1', 'C1', 'C1', 'C1', 'C1', 'C1', 'C1',\n        'C1', 'C1', 'C1', 'C1', 'C1', 'C1', 'C1', 'C1', 'C1', 'C1', 'C1',\n        'C1', 'C1', 'C1', 'C1', 'C1', 'C1', 'C1', 'C1', 'C1', 'C1', 'C1',\n        'C1', 'C1', 'C1', 'C1', 'C1', 'C1', 'C1', 'C1', 'C1', 'C1', 'C1',\n        'C1', 'C1', 'C1', 'C1', 'C1', 'C1', 'C1', 'C1', 'C1', 'C1', 'C1',\n        'C1', 'C1', 'C1', 'C1', 'C1', 'C1', 'C1', 'C1', 'C1', 'C1', 'C1',\n        'C1', 'C1', 'C1', 'C1', 'C1', 'C1', 'C1', 'C1', 'C1', 'C1', 'C1',\n        'C1', 'C1', 'C1', 'C1', 'C1', 'C1', 'C1', 'C1', 'C1', 'C1', 'C1',\n        'C1', 'C1', 'C1', 'C1', 'C1', 'C1', 'C1', 'C1', 'C1', 'C1', 'C1',\n        'C1', 'C1', 'C1', 'C1', 'C1', 'C1', 'C1', 'C1', 'C1', 'C1', 'C1',\n        'C1', 'C1', 'C1', 'C1', 'C1', 'C1', 'C1', 'C1', 'C1', 'C1', 'C1',\n        'C1', 'C1', 'C1', 'C1', 'C1', 'C1', 'C1', 'C1', 'C1', 'C1', 'C1',\n        'C1', 'C1', 'C1', 'C1', 'C1', 'C1', 'C1', 'C1', 'C1', 'C1', 'C1',\n        'C1', 'C1', 'C1', 'C1', 'C1', 'C1', 'C1', 'C1', 'C1', 'C1', 'C1',\n        'C1', 'C1', 'C1', 'C1', 'C1', 'C1', 'C1', 'C1', 'C1', 'C1', 'C1',\n        'C1', 'C1', 'C1', 'C1', 'C1', 'C1', 'C1', 'C1', 'C1', 'C1', 'C1',\n        'C1', 'C1', 'C1', 'C1', 'C1', 'C1', 'C1', 'C1', 'C1', 'C1', 'C1',\n        'C1', 'C1', 'C1', 'C1', 'C1', 'C1', 'C1', 'C1', 'C1', 'C1', 'C1',\n        'C1', 'C1', 'C1', 'C1', 'C1', 'C1', 'C1', 'C1', 'C1', 'C1', 'C1',\n        'C1', 'C1', 'C1', 'C1', 'C1', 'C1', 'C1', 'C1', 'C1', 'C1', 'C1',\n        'C1', 'C1', 'C1', 'C1', 'C1', 'C1', 'C1', 'C1', 'C1', 'C1', 'C1',\n        'C1', 'C1', 'C1', 'C1', 'C1', 'C1', 'C1', 'C1', 'C1', 'C1', 'C1',\n        'C1', 'C1', 'C1', 'C1', 'C1', 'C1', 'C1', 'C1', 'C1', 'C1', 'C1',\n        'C1', 'C1', 'C1', 'C1', 'C1', 'C1', 'C1', 'C1', 'C1', 'C1', 'C1',\n        'C1', 'C1', 'C1', 'C1', 'C1', 'C1', 'C1', 'C1', 'C1', 'C1', 'C1',\n        'C1', 'C1', 'C1', 'C1', 'C1', 'C1', 'C1', 'C1', 'C1', 'C1', 'C1',\n        'C1', 'C1', 'C1', 'C1', 'C1', 'C1', 'C1', 'C1', 'C1', 'C1', 'C1',\n        'C1', 'C1', 'C1', 'C1', 'C1', 'C1', 'C1', 'C1', 'C1', 'C1', 'C1',\n        'C1', 'C1', 'C1', 'C1', 'C1', 'C1', 'C1', 'C1', 'C1', 'C1', 'C1',\n        'C1', 'C1', 'Tail', 'C1', 'C1', 'C1', 'C1', 'C1', 'C1', 'C1', 'C1',\n        'C1', 'C1', 'C1', 'C1', 'C1', 'C1', 'C1', 'C1', 'C1', 'C1', 'C1',\n        'C1', 'C1', 'C1', 'C1', 'C1', 'C1', 'C1', 'C1', 'C1', 'C1', 'C1',\n        'C1', 'C1', 'C1', 'C1', 'C1', 'C1', 'C1', 'C1', 'C1', 'C1', 'C1',\n        'C1', 'C1', 'C1', 'C1', 'C1', 'C1', 'C1', 'C1', 'C1', 'C1', 'C1',\n        'C1', 'C1', 'C1', 'C1', 'C1', 'C1', 'Tail', 'C1', 'C1', 'C1', 'C1',\n        'C1', 'C1', 'C1', 'C1', 'C1', 'C1', 'C1', 'C1', 'C1', 'C1', 'C1',\n        'C1', 'C1', 'C1', 'C1', 'C1', 'C1', 'C1', 'C1', 'C1', 'C1', 'C1',\n        'C1'], dtype=object),\n 'cluster_types': array(['Tail', 'C1', 'S1'], dtype='<U4'),\n 'mixture_probs': array([0.28833875, 0.5540367 , 0.15762454], dtype=float32),\n 'beta_concentration1': array([270.93625, 104.20774], dtype=float32),\n 'beta_concentration2': array([278.95212, 445.68063], dtype=float32),\n 'dispersion_noise': tensor([0.0778], grad_fn=<MulBackward0>),\n 'tail_shape': array([0.9531633], dtype=float32),\n 'tail_scale': 0.05042017,\n 'tail_noise': 0.01808443038742269,\n 'tail_higher': array([0.3032043 , 0.18950708], dtype=float32),\n 'multi_tail_weights': array([0.3043841, 0.6956159], dtype=float32),\n 'ccf_subclones': array([0.37901416], dtype=float32)}"
     },
     "execution_count": 8,
     "metadata": {},
     "output_type": "execute_result"
    }
   ],
   "source": [
    "fitted[\"model_parameters\"][\"1:1\"]\n",
    "\n"
   ],
   "metadata": {
    "collapsed": false,
    "pycharm": {
     "name": "#%%\n"
    }
   }
  },
  {
   "cell_type": "code",
   "execution_count": 17,
   "outputs": [],
   "source": [
    "moy = mb.Moyal(1.,.5)"
   ],
   "metadata": {
    "collapsed": false,
    "pycharm": {
     "name": "#%%\n"
    }
   }
  },
  {
   "cell_type": "code",
   "execution_count": 18,
   "outputs": [
    {
     "data": {
      "text/plain": "tensor([ 6.5504e+00, -2.3366e-03,  1.9606e+00])"
     },
     "execution_count": 18,
     "metadata": {},
     "output_type": "execute_result"
    }
   ],
   "source": [
    "moy.rsample(torch.ones(3).size())"
   ],
   "metadata": {
    "collapsed": false,
    "pycharm": {
     "name": "#%%\n"
    }
   }
  },
  {
   "cell_type": "code",
   "execution_count": null,
   "outputs": [],
   "source": [],
   "metadata": {
    "collapsed": false,
    "pycharm": {
     "name": "#%%\n"
    }
   }
  }
 ],
 "metadata": {
  "kernelspec": {
   "name": "python3",
   "language": "python",
   "display_name": "Python 3"
  },
  "language_info": {
   "codemirror_mode": {
    "name": "ipython",
    "version": 3
   },
   "file_extension": ".py",
   "mimetype": "text/x-python",
   "name": "python",
   "nbconvert_exporter": "python",
   "pygments_lexer": "ipython3",
   "version": "3.8.5"
  }
 },
 "nbformat": 4,
 "nbformat_minor": 5
}