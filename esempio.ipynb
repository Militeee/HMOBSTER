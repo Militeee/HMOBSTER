{
 "cells": [
  {
   "cell_type": "code",
   "execution_count": 5,
   "id": "saved-junior",
   "metadata": {},
   "outputs": [],
   "source": [
    "import pandas as pd\n",
    "import numpy as np\n",
    "import seaborn as sns\n",
    "import matplotlib.pyplot as plt\n",
    "\n",
    "import pyro as pyro\n",
    "import numpy as np\n",
    "from pyro.infer import MCMC, NUTS, Predictive, HMC, config_enumerate\n",
    "from pyro.infer.autoguide import AutoDelta, init_to_sample\n",
    "import pyro.distributions as dist\n",
    "import pyro.poutine as poutine\n",
    "import torch\n",
    "from torch.distributions import constraints"
   ]
  },
  {
   "cell_type": "code",
   "execution_count": 6,
   "id": "minute-separation",
   "metadata": {},
   "outputs": [
    {
     "data": {
      "text/plain": "tensor([0.8497, 0.9070, 0.9316, 0.1821, 0.9697, 0.9125])"
     },
     "execution_count": 6,
     "metadata": {},
     "output_type": "execute_result"
    }
   ],
   "source": [
    "torch.rand([3,6]).amax(dim = 0)"
   ]
  },
  {
   "cell_type": "code",
   "execution_count": 7,
   "id": "western-association",
   "metadata": {},
   "outputs": [],
   "source": [
    "from pandas.core.common import flatten\n",
    "\n",
    "def flatten_list(l):\n",
    "    return list(flatten(l))\n",
    "\n",
    "\n",
    "def log_sum_exp(args):\n",
    "    c = torch.amax(args, dim = 0)  \n",
    "    return c + torch.log(torch.sum(torch.exp(args - c), axis = 0))\n",
    "                     \n",
    "    \n",
    "def beta_lk(beta_a, beta_b, weights, K, data):\n",
    "    lk = torch.ones(K, len(data))\n",
    "    for k in range(K):\n",
    "        lk[k,:] = torch.log(weights[k]) + dist.Beta(beta_a[k], beta_b[k]).log_prob(data)\n",
    "    return log_sum_exp(lk)\n",
    "\n",
    "def final_lk(pareto, beta, weights):\n",
    "    lk = torch.ones(2, len(beta))\n",
    "    lk[0,:] = torch.log(weights[0]) + pareto\n",
    "    lk[1,:] = torch.log(weights[1]) + beta\n",
    "    return log_sum_exp(lk)\n",
    "\n",
    "def retrieve_posterior_probs():\n",
    "    pass\n",
    "        \n",
    "    \n",
    "@config_enumerate\n",
    "def model(data, K = 1 , tail = 1, purity =  0.96, clonal_beta_var = 1., alpha_prior_sd = 0.3,number_of_trials_clonal_mean = 500.,\n",
    "          number_of_trials_clonal = 900., number_of_trials_k = 300., prior_lims_clonal = [0.1,100000.],\n",
    "          prior_lims_k = [0.1,100000.] ):\n",
    "    \"\"\"\n",
    "    Parameters\n",
    "    ----------\n",
    "    param1 :\n",
    "    The first parameter.\n",
    "    param2 : \n",
    "    The second parameter.\n",
    "    \n",
    "    \"\"\"\n",
    "    karyos = list(data.keys())\n",
    "    major = [int(str(i).split(\":\")[0]) for i in karyos]\n",
    "    minor = [int(str(i).split(\":\")[1]) for i in karyos]\n",
    "    \n",
    "    betas_subclone_mean2 = 0\n",
    "    betas_subclone_n_samples2 = 0\n",
    "    betas_subclone_mean = 0\n",
    "    betas_subclone_n_samples = 0\n",
    "    \n",
    "    lk = np.zeros(len(karyos))\n",
    "    \n",
    "    theoretical_num_clones = [1 if (mn == 0 or mn == mj) else 2 for mj,mn in zip(major,minor)]\n",
    "    theoretical_clonal_means = [(purity - 0.0001) if (mn == 0 or mn == mj) else torch.tensor([(mj/(mj + mn)) * purity, (mn/(mn + mj)) * purity]) for mj,mn in zip(major, minor)]\n",
    "    theoretical_clonal_means = [0.5 * purity if (mn == mj) else j for mj,mn,j in zip(major, minor, theoretical_clonal_means)]\n",
    "\n",
    "    counts_clones = dict()\n",
    "    for i in theoretical_num_clones:\n",
    "        counts_clones[i] = counts_clones.get(i, 0) + 1\n",
    "        \n",
    "    index_2 = [i for i, j in enumerate(theoretical_num_clones) if j == 2]\n",
    "    index_1 = [i for i, j in enumerate(theoretical_num_clones) if j == 1]\n",
    "    \n",
    "\n",
    "    alpha_prior =  pyro.sample('u', dist.Uniform(0.5, 5))\n",
    "\n",
    "    for kr in pyro.plate(\"kr\",len(karyos)):\n",
    "        \n",
    "        \n",
    "        alpha =  pyro.sample('alpha_{}'.format(kr), dist.LogNormal(torch.log(alpha_prior), alpha_prior_sd))\n",
    "\n",
    "        if theoretical_num_clones[kr] == 2:\n",
    "            weights_2 = pyro.sample('weights_{}'.format(kr), dist.Dirichlet(torch.ones(K + 2)))\n",
    "\n",
    "            with pyro.plate(\"clones_{}\".format(kr), 2 + K):\n",
    "                \n",
    "                \n",
    "                k_means = [(torch.min(theoretical_clonal_means[kr] - 0.05) / 2).tolist()] * K\n",
    "                bm_12 = torch.tensor(flatten_list([theoretical_clonal_means[kr].tolist(),k_means])) * number_of_trials_clonal_mean\n",
    "                bm_22 = number_of_trials_clonal_mean - bm_12\n",
    "                betas_subclone_mean2 = pyro.sample('beta_clone_mean_{}'.format(kr), dist.Beta(bm_12, bm_22))\n",
    "                bns_12 = torch.tensor((2 * [prior_lims_clonal[0]]) + (K * [prior_lims_k[0]]))\n",
    "                bns_22 = torch.tensor((2 * [prior_lims_clonal[1]]) + (K * [prior_lims_k[1]]))\n",
    "                betas_subclone_n_samples2 = pyro.sample('beta_clone_n_samples_{}'.format(kr), dist.Uniform(bns_12,bns_22))\n",
    "                \n",
    "        else:\n",
    "            weights_1 = pyro.sample('weights_{}'.format(kr), dist.Dirichlet(torch.ones(K + 1)))\n",
    "\n",
    "            with pyro.plate(\"clones_{}\".format(kr), 1 + K):\n",
    "\n",
    "                k_means = [(theoretical_clonal_means[kr] - 0.05) / 2] * K\n",
    "                bm_11 =  torch.tensor(flatten_list([theoretical_clonal_means[kr],k_means])) * number_of_trials_clonal_mean\n",
    "                bm_21 = number_of_trials_clonal_mean - bm_11\n",
    "                betas_subclone_mean = pyro.sample('beta_clone_mean_{}'.format(kr),dist.Beta(bm_11, bm_21))\n",
    "                bns_11 = torch.tensor((1 * [prior_lims_clonal[0]]) + (K * [prior_lims_k[0]]))\n",
    "                bns_21 = torch.tensor((1 * [prior_lims_clonal[1]]) + (K * [prior_lims_k[1]]))\n",
    "                betas_subclone_n_samples = pyro.sample('beta_clone_n_samples_{}'.format(kr), dist.Uniform(bns_11, bns_21))\n",
    "                \n",
    "                \n",
    "        tail_probs = pyro.sample('weights_tail_{}'.format(kr), dist.Dirichlet(torch.ones(2)))\n",
    "        with pyro.plate('data_{}'.format(kr), len(data[karyos[kr]])):\n",
    "        \n",
    "            if(tail == 1):\n",
    "                if theoretical_num_clones[kr] == 2:\n",
    "                    beta = beta_lk(betas_subclone_mean2 * betas_subclone_n_samples2,\n",
    "                                                                (1 - betas_subclone_mean2) * betas_subclone_n_samples2,\n",
    "                                                                weights_2,K + theoretical_num_clones[kr], \n",
    "                                                                data[karyos[kr]])\n",
    "                    pareto = dist.Pareto(torch.min(data[karyos[kr]]) - 1e-5, alpha).log_prob(data[karyos[kr]])\n",
    "                    pyro.factor(\"lik_{}\".format(kr),torch.sum(final_lk(pareto, beta, tail_probs)))\n",
    "                  \n",
    "\n",
    "                else:                    \n",
    "                    beta = beta_lk(betas_subclone_mean * betas_subclone_n_samples,\n",
    "                                                                (1 - betas_subclone_mean) * betas_subclone_n_samples,\n",
    "                                                                weights_1,K + theoretical_num_clones[kr], \n",
    "                                                                data[karyos[kr]])\n",
    "                    pareto = dist.Pareto(torch.min(data[karyos[kr]]) - 1e-5, alpha).log_prob(data[karyos[kr]])\n",
    "                    pyro.factor(\"lik_{}\".format(kr),torch.sum(final_lk(pareto, beta, tail_probs)))\n",
    "                                \n",
    "            else:\n",
    "\n",
    "                if theoretical_num_clones[kr] == 2:\n",
    "                    pyro.factor(\"lik_{}\".format(kr), torch.sum(beta_lk(betas_subclone_mean2 * betas_subclone_n_samples2,\n",
    "                                                                (1 - betas_subclone_mean2) * betas_subclone_n_samples2,\n",
    "                                                                weights_2,K + theoretical_num_clones[kr], \n",
    "                                                                data[karyos[kr]])))\n",
    "                else:\n",
    "                    pyro.factor(\"lik_{}\".format(kr), torch.sum(beta_lk(betas_subclone_mean * betas_subclone_n_samples, \n",
    "                                                                (1 - betas_subclone_mean) * betas_subclone_n_samples, \n",
    "                                                                weights_1,\n",
    "                                                                K + theoretical_num_clones[kr], \n",
    "                                                                data[karyos[kr]])))\n",
    "                    \n",
    "@config_enumerate\n",
    "def guide(data, K = 1 , tail = 1, purity =  0.96, clonal_beta_var = 1., alpha_prior_sd = 0.3,number_of_trials_clonal_mean = 100.,\n",
    "          number_of_trials_clonal = 900., number_of_trials_k = 300., prior_lims_clonal = [1.,10000.],\n",
    "          prior_lims_k = [1.,10000.]):\n",
    "    \"\"\"\n",
    "    Parameters\n",
    "    ----------\n",
    "    param1 :\n",
    "    The first parameter.\n",
    "    param2 : \n",
    "    The second parameter.\n",
    "    \n",
    "    \"\"\"\n",
    "    karyos = list(data.keys())\n",
    "    major = [int(str(i).split(\":\")[0]) for i in karyos]\n",
    "    minor = [int(str(i).split(\":\")[1]) for i in karyos]\n",
    "    \n",
    "    \n",
    "    lk = np.zeros(len(karyos))\n",
    "    \n",
    "    theoretical_num_clones = [1 if (mn == 0 or mn == mj) else 2 for mj,mn in zip(major,minor)]\n",
    "    theoretical_clonal_means = [(purity - 0.0001) if (mn == 0 or mn == mj) else torch.tensor([(mj/(mj + mn)) * purity, (mn/(mn + mj)) * purity]) for mj,mn in zip(major, minor)]\n",
    "    theoretical_clonal_means = [0.5 * purity if (mn == mj) else j for mj,mn,j in zip(major, minor, theoretical_clonal_means)]\n",
    "    \n",
    "    counts_clones = dict()\n",
    "    for i in theoretical_num_clones:\n",
    "        counts_clones[i] = counts_clones.get(i, 0) + 1\n",
    "        \n",
    "    index_2 = [i for i, j in enumerate(theoretical_num_clones) if j == 2]\n",
    "    index_1 = [i for i, j in enumerate(theoretical_num_clones) if j == 1]\n",
    "    \n",
    "    ap = pyro.param(\"ap\", torch.tensor(1.5),  constraint = constraints.interval(0.5,5))\n",
    "    \n",
    "    alpha_prior =  pyro.sample('u', dist.Delta(ap))\n",
    "    \n",
    "\n",
    "    \n",
    "\n",
    "    \n",
    "        \n",
    "    idx1 = 0\n",
    "    idx2 = 0\n",
    "    \n",
    "    weights_tail = pyro.param(\"param_tail_weights\", 1/torch.ones([len(karyos),2]), constraint = constraints.simplex)\n",
    "    weights_param_2 = pyro.param(\"param_weights_2\", (1/(K + 2)) * torch.ones([ len(index_2), K + 2]), constraint = constraints.simplex)\n",
    "    weights_param_1 = pyro.param(\"param_weights_1\",(1/(K + 1)) * torch.ones([len(index_1), K + 1]), constraint = constraints.simplex)\n",
    "    \n",
    "\n",
    "    for kr in pyro.plate(\"kr\",len(karyos)):\n",
    "                \n",
    "        pyro.sample('alpha_{}'.format(kr), dist.LogNormal(torch.log(alpha_prior), alpha_prior_sd))\n",
    "\n",
    "        \n",
    "        if theoretical_num_clones[kr] == 2:\n",
    "            \n",
    "            pyro.sample('weights_{}'.format(kr), dist.Delta(weights_param_2[idx2]).to_event(1))\n",
    "\n",
    "            # Mean parameter when the number of clonal picks is 2 \n",
    "            a_2_theo = torch.cat([theoretical_clonal_means[i] for i in index_2]).reshape([2, counts_clones[2]])\n",
    "            max_lim_2 = torch.tensor([torch.min(theoretical_clonal_means[i]) for i in index_2])\n",
    "            a_2_k = dist.Uniform(0.1, max_lim_2 - (0.3 * max_lim_2)).sample([K])\n",
    "\n",
    "            # Number of trials parameter when the number of clonal picks is 2 \n",
    "            b_2_theo = torch.ones([2,len(index_2)]) * number_of_trials_clonal_mean\n",
    "            b_2_k = torch.ones([K,len(index_2)]) * number_of_trials_k\n",
    "            \n",
    "            \n",
    "            \n",
    "            a21 =  pyro.param('a_2', \n",
    "                                 torch.cat((a_2_theo, a_2_k)).reshape([2 + K,len(index_2)]), \n",
    "                                 constraint = constraints.unit_interval)\n",
    "            a22 =  pyro.param('b_2', \n",
    "                                 torch.cat((b_2_theo, b_2_k)).reshape([2 + K,len(index_2)]),\n",
    "                                 constraint = constraints.positive)\n",
    "    \n",
    "            \n",
    "            with pyro.plate(\"clones_{}\".format(kr), 2 + K):\n",
    "                pyro.sample('beta_clone_mean_{}'.format(kr),dist.Delta(a21[:,idx2]))\n",
    "                pyro.sample('beta_clone_n_samples_{}'.format(kr),dist.Delta(a22[:,idx2]))\n",
    "            idx2 += 1 \n",
    "                \n",
    "        else:\n",
    "            pyro.sample('weights_{}'.format(kr), dist.Delta(weights_param_1[idx1]).to_event(1))\n",
    "\n",
    "            \n",
    "            # Mean parameter when the number of clonal picks is 1\n",
    "            a_1_theo = torch.tensor([theoretical_clonal_means[i] for i in index_1]).reshape([1, counts_clones[1]])\n",
    "            max_lim_1 = torch.tensor([np.min(theoretical_clonal_means[i]) for i in index_1])\n",
    "            a_1_k = dist.Uniform(0.1, max_lim_1 - (0.3 * max_lim_1)).sample([K])\n",
    "\n",
    "            # Number of trials parameter when the number of clonal picks is 1 \n",
    "            b_1_theo = torch.ones([1,len(index_1)]) * number_of_trials_clonal_mean\n",
    "            b_1_k = torch.ones([K,len(index_1)]) * number_of_trials_k \n",
    "            \n",
    "            \n",
    "            a11 =  pyro.param('a_1', \n",
    "                         torch.cat((a_1_theo, a_1_k)).reshape([1 + K,len(index_1)]), \n",
    "                         constraint = constraints.unit_interval)\n",
    "            a12 =  pyro.param('b_1', \n",
    "                         torch.cat((b_1_theo, b_1_k)).reshape([1 + K,len(index_1)]),\n",
    "                         constraint = constraints.positive)\n",
    "\n",
    "            with pyro.plate(\"clones_{}\".format(kr), 1 + K):\n",
    "                pyro.sample('beta_clone_mean_{}'.format(kr),dist.Delta(a11[:,idx1]))\n",
    "                pyro.sample('beta_clone_n_samples_{}'.format(kr),dist.Delta(a12[:,idx1]))\n",
    "            idx1 += 1 \n",
    "                \n",
    "            \n",
    "        #K = K + tail\n",
    "        pyro.sample('weights_tail_{}'.format(kr), dist.Delta(weights_tail[kr]).to_event(1))\n",
    "        \n",
    "\n",
    "        \n"
   ]
  },
  {
   "cell_type": "code",
   "execution_count": 8,
   "id": "expensive-farming",
   "metadata": {},
   "outputs": [],
   "source": [
    "import pickle\n",
    "flh = open(\"example.pkl\", \"rb\")\n",
    "inp = pickle.load(flh)"
   ]
  },
  {
   "cell_type": "code",
   "execution_count": 9,
   "id": "adequate-aquarium",
   "metadata": {},
   "outputs": [],
   "source": [
    "inp = {k : (torch.tensor(v) - 0.001) for k,v in zip(inp.keys(),inp.values())}\n"
   ]
  },
  {
   "cell_type": "code",
   "execution_count": 10,
   "id": "beneficial-silence",
   "metadata": {},
   "outputs": [],
   "source": [
    "def run(model, data,N_warm = 2000, N_samples = 3000, seed = 3, tail = 1, purity = 1):\n",
    "    pyro.set_rng_seed(seed)\n",
    "    kernel = HMC(model)\n",
    "    mcmc = MCMC(kernel,warmup_steps = N_warm, num_samples = N_samples)\n",
    "    mcmc.run(data , tail = tail, purity = purity)\n",
    "    mcmc.print_summary()\n",
    "    samples = mcmc.get_samples()\n",
    "    return (mcmc, samples)"
   ]
  },
  {
   "cell_type": "code",
   "execution_count": 11,
   "id": "simple-fraction",
   "metadata": {},
   "outputs": [],
   "source": [
    "svi = pyro.infer.SVI(model=model,\n",
    "                     guide=guide,\n",
    "                     optim=pyro.optim.Adam({\"lr\": 0.05}),\n",
    "                     loss=pyro.infer.TraceGraph_ELBO())"
   ]
  },
  {
   "cell_type": "code",
   "execution_count": 12,
   "id": "victorian-bunny",
   "metadata": {},
   "outputs": [
    {
     "name": "stdout",
     "output_type": "stream",
     "text": [
      "\n",
      "...................................................................................................\n",
      "...................................................................................................\n",
      "...................................................................................................\n",
      "...................................................................................................\n",
      "..................................................................................................."
     ]
    }
   ],
   "source": [
    "pyro.clear_param_store()\n",
    "losses = []\n",
    "for i in range(500):\n",
    "    loss = svi.step(inp, tail = 1, K = 1)\n",
    "    losses.append(loss)\n",
    "    #plot_results(inp, tail = True)\n",
    "    print('.' if i % 100 else '\\n', end='')"
   ]
  },
  {
   "cell_type": "code",
   "execution_count": 13,
   "id": "convinced-toner",
   "metadata": {},
   "outputs": [
    {
     "data": {
      "text/plain": "<Figure size 432x288 with 1 Axes>",
      "image/png": "[encoded data removed]"
     },
     "metadata": {
      "needs_background": "light"
     },
     "output_type": "display_data"
    }
   ],
   "source": [
    "plt.plot(losses)\n",
    "plt.xlabel('iters')\n",
    "plt.ylabel('loss')\n",
    "plt.title('Convergence of SVI');"
   ]
  },
  {
   "cell_type": "code",
   "execution_count": 14,
   "id": "connected-parameter",
   "metadata": {},
   "outputs": [],
   "source": [
    "from scipy.stats import beta,pareto\n",
    "import matplotlib.patches as mpatches\n",
    "\n",
    "plt.rcParams[\"figure.figsize\"] = (10,8)\n",
    "\n",
    "def plot_results(data, bins = 50, tail = True):\n",
    "    \n",
    "    fig, axs = plt.subplots(3)\n",
    "    idx1 = 0\n",
    "    idx2 = 0\n",
    "    for i,kr in enumerate(data):\n",
    "        \n",
    "        axs[i].hist(data[kr].detach().numpy(), bins=bins, density=True, alpha=0.48)\n",
    "        xmin, xmax = plt.xlim()\n",
    "        karyos = list(data.keys())\n",
    "        major = [int(str(i).split(\":\")[0]) for i in karyos]\n",
    "        minor = [int(str(i).split(\":\")[1]) for i in karyos]\n",
    "        theoretical_num_clones = [1 if (mn == 0 or mn == mj) else 2 for mj,mn in zip(major,minor)]\n",
    "        assignment_probs = pyro.param('param_weights_{}'.format(theoretical_num_clones[i])).detach().numpy()\n",
    "        if tail:\n",
    "            tail_probs = pyro.param('param_tail_weights').detach().numpy()\n",
    "\n",
    "        \n",
    "        for j in range(assignment_probs.shape[1]):\n",
    "            if theoretical_num_clones[i] == 1:\n",
    "                b1 = pyro.param('b_1') \n",
    "                a1 = pyro.param('a_1') \n",
    "                beta_mean = a1[j,idx1].detach().numpy()\n",
    "                beta_samples = b1[j,idx1].detach().numpy()\n",
    "                iw = idx1\n",
    "                cl = \"tab:green\" if j < 1 else \"tab:red\"\n",
    "                \n",
    "            else:\n",
    "                b2 = pyro.param('b_2') \n",
    "                a2 = pyro.param('a_2') \n",
    "                beta_mean = a2[j,idx2].detach().numpy()\n",
    "                beta_samples = b2[j,idx2].detach().numpy()\n",
    "                iw = idx2\n",
    "                cl = \"tab:green\" if j < 2 else \"tab:red\"\n",
    "             \n",
    "            x = np.linspace(0.05, 1, 200)\n",
    "            if tail:\n",
    "                p = beta.pdf(x, beta_mean * beta_samples, (1 - beta_mean) * beta_samples) * assignment_probs[iw,j] * tail_probs[i,1]\n",
    "            else:\n",
    "                p = beta.pdf(x, beta_mean * beta_samples, (1 - beta_mean) * beta_samples) * assignment_probs[iw,j] \n",
    "\n",
    "            axs[i].plot(x, p, linewidth=3, color = cl)\n",
    "        if tail:\n",
    "            alpha = pyro.param('ap'.format(i)).detach().numpy()\n",
    "            x = np.linspace(0.05, 1, 200)\n",
    "            p = pareto.pdf(x,alpha,scale = torch.min(data[kr])) * tail_probs[i,0]\n",
    "            axs[i].plot(x, p, linewidth=3, color = \"tab:pink\")\n",
    "        if theoretical_num_clones[i] == 1:\n",
    "            idx1+=1\n",
    "        else:\n",
    "            idx2+=1\n",
    "    pink_patch = mpatches.Patch(color='tab:pink', label='Tail')\n",
    "    red_patch = mpatches.Patch(color='tab:red', label='Subclonal')\n",
    "    green_patch = mpatches.Patch(color='tab:green', label='Clonal')\n",
    "\n",
    "    plt.legend(handles = [pink_patch,red_patch, green_patch ])\n",
    "\n",
    "        \n",
    "    plt.savefig(\"results1.png\", dpi = 300)"
   ]
  },
  {
   "cell_type": "code",
   "execution_count": 15,
   "id": "simplified-printer",
   "metadata": {},
   "outputs": [
    {
     "data": {
      "text/plain": "<Figure size 720x576 with 3 Axes>",
      "image/png": "[encoded data removed]"
     },
     "metadata": {
      "needs_background": "light"
     },
     "output_type": "display_data"
    }
   ],
   "source": [
    "plot_results(inp, tail = True, bins = 60)"
   ]
  },
  {
   "cell_type": "code",
   "execution_count": 16,
   "id": "assisted-cycle",
   "metadata": {},
   "outputs": [
    {
     "name": "stderr",
     "output_type": "stream",
     "text": [
      "Warmup:   0%|          | 1/3000 [10:50, 650.67s/it, step size=2.44e-04, acc. prob=0.000]"
     ]
    },
    {
     "ename": "KeyboardInterrupt",
     "evalue": "",
     "output_type": "error",
     "traceback": [
      "\u001B[0;31m---------------------------------------------------------------------------\u001B[0m",
      "\u001B[0;31mKeyboardInterrupt\u001B[0m                         Traceback (most recent call last)",
      "\u001B[0;32m<ipython-input-16-38d0a6d8e260>\u001B[0m in \u001B[0;36m<module>\u001B[0;34m\u001B[0m\n\u001B[0;32m----> 1\u001B[0;31m \u001B[0mrun\u001B[0m\u001B[0;34m(\u001B[0m\u001B[0mmodel\u001B[0m\u001B[0;34m,\u001B[0m \u001B[0minp\u001B[0m\u001B[0;34m,\u001B[0m \u001B[0mN_warm\u001B[0m \u001B[0;34m=\u001B[0m \u001B[0;36m0\u001B[0m\u001B[0;34m)\u001B[0m\u001B[0;34m\u001B[0m\u001B[0;34m\u001B[0m\u001B[0m\n\u001B[0m\u001B[1;32m      2\u001B[0m \u001B[0;34m\u001B[0m\u001B[0m\n",
      "\u001B[0;32m<ipython-input-10-880919b29396>\u001B[0m in \u001B[0;36mrun\u001B[0;34m(model, data, N_warm, N_samples, seed, tail, purity)\u001B[0m\n\u001B[1;32m      3\u001B[0m     \u001B[0mkernel\u001B[0m \u001B[0;34m=\u001B[0m \u001B[0mHMC\u001B[0m\u001B[0;34m(\u001B[0m\u001B[0mmodel\u001B[0m\u001B[0;34m)\u001B[0m\u001B[0;34m\u001B[0m\u001B[0;34m\u001B[0m\u001B[0m\n\u001B[1;32m      4\u001B[0m     \u001B[0mmcmc\u001B[0m \u001B[0;34m=\u001B[0m \u001B[0mMCMC\u001B[0m\u001B[0;34m(\u001B[0m\u001B[0mkernel\u001B[0m\u001B[0;34m,\u001B[0m\u001B[0mwarmup_steps\u001B[0m \u001B[0;34m=\u001B[0m \u001B[0mN_warm\u001B[0m\u001B[0;34m,\u001B[0m \u001B[0mnum_samples\u001B[0m \u001B[0;34m=\u001B[0m \u001B[0mN_samples\u001B[0m\u001B[0;34m)\u001B[0m\u001B[0;34m\u001B[0m\u001B[0;34m\u001B[0m\u001B[0m\n\u001B[0;32m----> 5\u001B[0;31m     \u001B[0mmcmc\u001B[0m\u001B[0;34m.\u001B[0m\u001B[0mrun\u001B[0m\u001B[0;34m(\u001B[0m\u001B[0mdata\u001B[0m \u001B[0;34m,\u001B[0m \u001B[0mtail\u001B[0m \u001B[0;34m=\u001B[0m \u001B[0mtail\u001B[0m\u001B[0;34m,\u001B[0m \u001B[0mpurity\u001B[0m \u001B[0;34m=\u001B[0m \u001B[0mpurity\u001B[0m\u001B[0;34m)\u001B[0m\u001B[0;34m\u001B[0m\u001B[0;34m\u001B[0m\u001B[0m\n\u001B[0m\u001B[1;32m      6\u001B[0m     \u001B[0mmcmc\u001B[0m\u001B[0;34m.\u001B[0m\u001B[0mprint_summary\u001B[0m\u001B[0;34m(\u001B[0m\u001B[0;34m)\u001B[0m\u001B[0;34m\u001B[0m\u001B[0;34m\u001B[0m\u001B[0m\n\u001B[1;32m      7\u001B[0m     \u001B[0msamples\u001B[0m \u001B[0;34m=\u001B[0m \u001B[0mmcmc\u001B[0m\u001B[0;34m.\u001B[0m\u001B[0mget_samples\u001B[0m\u001B[0;34m(\u001B[0m\u001B[0;34m)\u001B[0m\u001B[0;34m\u001B[0m\u001B[0;34m\u001B[0m\u001B[0m\n",
      "\u001B[0;32m~/anaconda3/envs/mobster_hierarchical/lib/python3.8/site-packages/pyro/poutine/messenger.py\u001B[0m in \u001B[0;36m_context_wrap\u001B[0;34m(context, fn, *args, **kwargs)\u001B[0m\n\u001B[1;32m     10\u001B[0m \u001B[0;32mdef\u001B[0m \u001B[0m_context_wrap\u001B[0m\u001B[0;34m(\u001B[0m\u001B[0mcontext\u001B[0m\u001B[0;34m,\u001B[0m \u001B[0mfn\u001B[0m\u001B[0;34m,\u001B[0m \u001B[0;34m*\u001B[0m\u001B[0margs\u001B[0m\u001B[0;34m,\u001B[0m \u001B[0;34m**\u001B[0m\u001B[0mkwargs\u001B[0m\u001B[0;34m)\u001B[0m\u001B[0;34m:\u001B[0m\u001B[0;34m\u001B[0m\u001B[0;34m\u001B[0m\u001B[0m\n\u001B[1;32m     11\u001B[0m     \u001B[0;32mwith\u001B[0m \u001B[0mcontext\u001B[0m\u001B[0;34m:\u001B[0m\u001B[0;34m\u001B[0m\u001B[0;34m\u001B[0m\u001B[0m\n\u001B[0;32m---> 12\u001B[0;31m         \u001B[0;32mreturn\u001B[0m \u001B[0mfn\u001B[0m\u001B[0;34m(\u001B[0m\u001B[0;34m*\u001B[0m\u001B[0margs\u001B[0m\u001B[0;34m,\u001B[0m \u001B[0;34m**\u001B[0m\u001B[0mkwargs\u001B[0m\u001B[0;34m)\u001B[0m\u001B[0;34m\u001B[0m\u001B[0;34m\u001B[0m\u001B[0m\n\u001B[0m\u001B[1;32m     13\u001B[0m \u001B[0;34m\u001B[0m\u001B[0m\n\u001B[1;32m     14\u001B[0m \u001B[0;34m\u001B[0m\u001B[0m\n",
      "\u001B[0;32m~/anaconda3/envs/mobster_hierarchical/lib/python3.8/site-packages/pyro/infer/mcmc/api.py\u001B[0m in \u001B[0;36mrun\u001B[0;34m(self, *args, **kwargs)\u001B[0m\n\u001B[1;32m    380\u001B[0m             \u001B[0;31m# requires_grad\", which happens with `jit_compile` under PyTorch 1.7\u001B[0m\u001B[0;34m\u001B[0m\u001B[0;34m\u001B[0m\u001B[0;34m\u001B[0m\u001B[0m\n\u001B[1;32m    381\u001B[0m             \u001B[0margs\u001B[0m \u001B[0;34m=\u001B[0m \u001B[0;34m[\u001B[0m\u001B[0marg\u001B[0m\u001B[0;34m.\u001B[0m\u001B[0mdetach\u001B[0m\u001B[0;34m(\u001B[0m\u001B[0;34m)\u001B[0m \u001B[0;32mif\u001B[0m \u001B[0mtorch\u001B[0m\u001B[0;34m.\u001B[0m\u001B[0mis_tensor\u001B[0m\u001B[0;34m(\u001B[0m\u001B[0marg\u001B[0m\u001B[0;34m)\u001B[0m \u001B[0;32melse\u001B[0m \u001B[0marg\u001B[0m \u001B[0;32mfor\u001B[0m \u001B[0marg\u001B[0m \u001B[0;32min\u001B[0m \u001B[0margs\u001B[0m\u001B[0;34m]\u001B[0m\u001B[0;34m\u001B[0m\u001B[0;34m\u001B[0m\u001B[0m\n\u001B[0;32m--> 382\u001B[0;31m             \u001B[0;32mfor\u001B[0m \u001B[0mx\u001B[0m\u001B[0;34m,\u001B[0m \u001B[0mchain_id\u001B[0m \u001B[0;32min\u001B[0m \u001B[0mself\u001B[0m\u001B[0;34m.\u001B[0m\u001B[0msampler\u001B[0m\u001B[0;34m.\u001B[0m\u001B[0mrun\u001B[0m\u001B[0;34m(\u001B[0m\u001B[0;34m*\u001B[0m\u001B[0margs\u001B[0m\u001B[0;34m,\u001B[0m \u001B[0;34m**\u001B[0m\u001B[0mkwargs\u001B[0m\u001B[0;34m)\u001B[0m\u001B[0;34m:\u001B[0m\u001B[0;34m\u001B[0m\u001B[0;34m\u001B[0m\u001B[0m\n\u001B[0m\u001B[1;32m    383\u001B[0m                 \u001B[0;32mif\u001B[0m \u001B[0mnum_samples\u001B[0m\u001B[0;34m[\u001B[0m\u001B[0mchain_id\u001B[0m\u001B[0;34m]\u001B[0m \u001B[0;34m==\u001B[0m \u001B[0;36m0\u001B[0m\u001B[0;34m:\u001B[0m\u001B[0;34m\u001B[0m\u001B[0;34m\u001B[0m\u001B[0m\n\u001B[1;32m    384\u001B[0m                     \u001B[0mnum_samples\u001B[0m\u001B[0;34m[\u001B[0m\u001B[0mchain_id\u001B[0m\u001B[0;34m]\u001B[0m \u001B[0;34m+=\u001B[0m \u001B[0;36m1\u001B[0m\u001B[0;34m\u001B[0m\u001B[0;34m\u001B[0m\u001B[0m\n",
      "\u001B[0;32m~/anaconda3/envs/mobster_hierarchical/lib/python3.8/site-packages/pyro/infer/mcmc/api.py\u001B[0m in \u001B[0;36mrun\u001B[0;34m(self, *args, **kwargs)\u001B[0m\n\u001B[1;32m    162\u001B[0m             \u001B[0mlogger\u001B[0m \u001B[0;34m=\u001B[0m \u001B[0minitialize_logger\u001B[0m\u001B[0;34m(\u001B[0m\u001B[0mlogger\u001B[0m\u001B[0;34m,\u001B[0m \u001B[0;34m\"\"\u001B[0m\u001B[0;34m,\u001B[0m \u001B[0mprogress_bar\u001B[0m\u001B[0;34m)\u001B[0m\u001B[0;34m\u001B[0m\u001B[0;34m\u001B[0m\u001B[0m\n\u001B[1;32m    163\u001B[0m             \u001B[0mhook_w_logging\u001B[0m \u001B[0;34m=\u001B[0m \u001B[0m_add_logging_hook\u001B[0m\u001B[0;34m(\u001B[0m\u001B[0mlogger\u001B[0m\u001B[0;34m,\u001B[0m \u001B[0mprogress_bar\u001B[0m\u001B[0;34m,\u001B[0m \u001B[0mself\u001B[0m\u001B[0;34m.\u001B[0m\u001B[0mhook\u001B[0m\u001B[0;34m)\u001B[0m\u001B[0;34m\u001B[0m\u001B[0;34m\u001B[0m\u001B[0m\n\u001B[0;32m--> 164\u001B[0;31m             for sample in _gen_samples(self.kernel, self.warmup_steps, self.num_samples, hook_w_logging,\n\u001B[0m\u001B[1;32m    165\u001B[0m                                        \u001B[0mi\u001B[0m \u001B[0;32mif\u001B[0m \u001B[0mself\u001B[0m\u001B[0;34m.\u001B[0m\u001B[0mnum_chains\u001B[0m \u001B[0;34m>\u001B[0m \u001B[0;36m1\u001B[0m \u001B[0;32melse\u001B[0m \u001B[0;32mNone\u001B[0m\u001B[0;34m,\u001B[0m\u001B[0;34m\u001B[0m\u001B[0;34m\u001B[0m\u001B[0m\n\u001B[1;32m    166\u001B[0m                                        *args, **kwargs):\n",
      "\u001B[0;32m~/anaconda3/envs/mobster_hierarchical/lib/python3.8/site-packages/pyro/infer/mcmc/api.py\u001B[0m in \u001B[0;36m_gen_samples\u001B[0;34m(kernel, warmup_steps, num_samples, hook, chain_id, *args, **kwargs)\u001B[0m\n\u001B[1;32m    114\u001B[0m         \u001B[0mhook\u001B[0m\u001B[0;34m(\u001B[0m\u001B[0mkernel\u001B[0m\u001B[0;34m,\u001B[0m \u001B[0mparams\u001B[0m\u001B[0;34m,\u001B[0m \u001B[0;34m'Warmup [{}]'\u001B[0m\u001B[0;34m.\u001B[0m\u001B[0mformat\u001B[0m\u001B[0;34m(\u001B[0m\u001B[0mchain_id\u001B[0m\u001B[0;34m)\u001B[0m \u001B[0;32mif\u001B[0m \u001B[0mchain_id\u001B[0m \u001B[0;32mis\u001B[0m \u001B[0;32mnot\u001B[0m \u001B[0;32mNone\u001B[0m \u001B[0;32melse\u001B[0m \u001B[0;34m'Warmup'\u001B[0m\u001B[0;34m,\u001B[0m \u001B[0mi\u001B[0m\u001B[0;34m)\u001B[0m\u001B[0;34m\u001B[0m\u001B[0;34m\u001B[0m\u001B[0m\n\u001B[1;32m    115\u001B[0m     \u001B[0;32mfor\u001B[0m \u001B[0mi\u001B[0m \u001B[0;32min\u001B[0m \u001B[0mrange\u001B[0m\u001B[0;34m(\u001B[0m\u001B[0mnum_samples\u001B[0m\u001B[0;34m)\u001B[0m\u001B[0;34m:\u001B[0m\u001B[0;34m\u001B[0m\u001B[0;34m\u001B[0m\u001B[0m\n\u001B[0;32m--> 116\u001B[0;31m         \u001B[0mparams\u001B[0m \u001B[0;34m=\u001B[0m \u001B[0mkernel\u001B[0m\u001B[0;34m.\u001B[0m\u001B[0msample\u001B[0m\u001B[0;34m(\u001B[0m\u001B[0mparams\u001B[0m\u001B[0;34m)\u001B[0m\u001B[0;34m\u001B[0m\u001B[0;34m\u001B[0m\u001B[0m\n\u001B[0m\u001B[1;32m    117\u001B[0m         \u001B[0mhook\u001B[0m\u001B[0;34m(\u001B[0m\u001B[0mkernel\u001B[0m\u001B[0;34m,\u001B[0m \u001B[0mparams\u001B[0m\u001B[0;34m,\u001B[0m \u001B[0;34m'Sample [{}]'\u001B[0m\u001B[0;34m.\u001B[0m\u001B[0mformat\u001B[0m\u001B[0;34m(\u001B[0m\u001B[0mchain_id\u001B[0m\u001B[0;34m)\u001B[0m \u001B[0;32mif\u001B[0m \u001B[0mchain_id\u001B[0m \u001B[0;32mis\u001B[0m \u001B[0;32mnot\u001B[0m \u001B[0;32mNone\u001B[0m \u001B[0;32melse\u001B[0m \u001B[0;34m'Sample'\u001B[0m\u001B[0;34m,\u001B[0m \u001B[0mi\u001B[0m\u001B[0;34m)\u001B[0m\u001B[0;34m\u001B[0m\u001B[0;34m\u001B[0m\u001B[0m\n\u001B[1;32m    118\u001B[0m         \u001B[0;32myield\u001B[0m \u001B[0mtorch\u001B[0m\u001B[0;34m.\u001B[0m\u001B[0mcat\u001B[0m\u001B[0;34m(\u001B[0m\u001B[0;34m[\u001B[0m\u001B[0mparams\u001B[0m\u001B[0;34m[\u001B[0m\u001B[0msite\u001B[0m\u001B[0;34m]\u001B[0m\u001B[0;34m.\u001B[0m\u001B[0mreshape\u001B[0m\u001B[0;34m(\u001B[0m\u001B[0;34m-\u001B[0m\u001B[0;36m1\u001B[0m\u001B[0;34m)\u001B[0m \u001B[0;32mfor\u001B[0m \u001B[0msite\u001B[0m \u001B[0;32min\u001B[0m \u001B[0msorted\u001B[0m\u001B[0;34m(\u001B[0m\u001B[0mparams\u001B[0m\u001B[0;34m)\u001B[0m\u001B[0;34m]\u001B[0m\u001B[0;34m)\u001B[0m \u001B[0;32mif\u001B[0m \u001B[0mparams\u001B[0m \u001B[0;32melse\u001B[0m \u001B[0mtorch\u001B[0m\u001B[0;34m.\u001B[0m\u001B[0mtensor\u001B[0m\u001B[0;34m(\u001B[0m\u001B[0;34m[\u001B[0m\u001B[0;34m]\u001B[0m\u001B[0;34m)\u001B[0m\u001B[0;34m\u001B[0m\u001B[0;34m\u001B[0m\u001B[0m\n",
      "\u001B[0;32m~/anaconda3/envs/mobster_hierarchical/lib/python3.8/site-packages/pyro/infer/mcmc/hmc.py\u001B[0m in \u001B[0;36msample\u001B[0;34m(self, params)\u001B[0m\n\u001B[1;32m    347\u001B[0m         \u001B[0;31m# NaNs are expected during step size adaptation\u001B[0m\u001B[0;34m\u001B[0m\u001B[0;34m\u001B[0m\u001B[0;34m\u001B[0m\u001B[0m\n\u001B[1;32m    348\u001B[0m         \u001B[0;32mwith\u001B[0m \u001B[0moptional\u001B[0m\u001B[0;34m(\u001B[0m\u001B[0mpyro\u001B[0m\u001B[0;34m.\u001B[0m\u001B[0mvalidation_enabled\u001B[0m\u001B[0;34m(\u001B[0m\u001B[0;32mFalse\u001B[0m\u001B[0;34m)\u001B[0m\u001B[0;34m,\u001B[0m \u001B[0mself\u001B[0m\u001B[0;34m.\u001B[0m\u001B[0m_t\u001B[0m \u001B[0;34m<\u001B[0m \u001B[0mself\u001B[0m\u001B[0;34m.\u001B[0m\u001B[0m_warmup_steps\u001B[0m\u001B[0;34m)\u001B[0m\u001B[0;34m:\u001B[0m\u001B[0;34m\u001B[0m\u001B[0;34m\u001B[0m\u001B[0m\n\u001B[0;32m--> 349\u001B[0;31m             z_new, r_new, z_grads_new, potential_energy_new = velocity_verlet(\n\u001B[0m\u001B[1;32m    350\u001B[0m                 \u001B[0mz\u001B[0m\u001B[0;34m,\u001B[0m \u001B[0mr\u001B[0m\u001B[0;34m,\u001B[0m \u001B[0mself\u001B[0m\u001B[0;34m.\u001B[0m\u001B[0mpotential_fn\u001B[0m\u001B[0;34m,\u001B[0m \u001B[0mself\u001B[0m\u001B[0;34m.\u001B[0m\u001B[0mmass_matrix_adapter\u001B[0m\u001B[0;34m.\u001B[0m\u001B[0mkinetic_grad\u001B[0m\u001B[0;34m,\u001B[0m\u001B[0;34m\u001B[0m\u001B[0;34m\u001B[0m\u001B[0m\n\u001B[1;32m    351\u001B[0m                 self.step_size, self.num_steps, z_grads=z_grads)\n",
      "\u001B[0;32m~/anaconda3/envs/mobster_hierarchical/lib/python3.8/site-packages/pyro/ops/integrator.py\u001B[0m in \u001B[0;36mvelocity_verlet\u001B[0;34m(z, r, potential_fn, kinetic_grad, step_size, num_steps, z_grads)\u001B[0m\n\u001B[1;32m     28\u001B[0m     \u001B[0mr_next\u001B[0m \u001B[0;34m=\u001B[0m \u001B[0mr\u001B[0m\u001B[0;34m.\u001B[0m\u001B[0mcopy\u001B[0m\u001B[0;34m(\u001B[0m\u001B[0;34m)\u001B[0m\u001B[0;34m\u001B[0m\u001B[0;34m\u001B[0m\u001B[0m\n\u001B[1;32m     29\u001B[0m     \u001B[0;32mfor\u001B[0m \u001B[0m_\u001B[0m \u001B[0;32min\u001B[0m \u001B[0mrange\u001B[0m\u001B[0;34m(\u001B[0m\u001B[0mnum_steps\u001B[0m\u001B[0;34m)\u001B[0m\u001B[0;34m:\u001B[0m\u001B[0;34m\u001B[0m\u001B[0;34m\u001B[0m\u001B[0m\n\u001B[0;32m---> 30\u001B[0;31m         z_next, r_next, z_grads, potential_energy = _single_step_verlet(z_next,\n\u001B[0m\u001B[1;32m     31\u001B[0m                                                                         \u001B[0mr_next\u001B[0m\u001B[0;34m,\u001B[0m\u001B[0;34m\u001B[0m\u001B[0;34m\u001B[0m\u001B[0m\n\u001B[1;32m     32\u001B[0m                                                                         \u001B[0mpotential_fn\u001B[0m\u001B[0;34m,\u001B[0m\u001B[0;34m\u001B[0m\u001B[0;34m\u001B[0m\u001B[0m\n",
      "\u001B[0;32m~/anaconda3/envs/mobster_hierarchical/lib/python3.8/site-packages/pyro/ops/integrator.py\u001B[0m in \u001B[0;36m_single_step_verlet\u001B[0;34m(z, r, potential_fn, kinetic_grad, step_size, z_grads)\u001B[0m\n\u001B[1;32m     51\u001B[0m         \u001B[0mz\u001B[0m\u001B[0;34m[\u001B[0m\u001B[0msite_name\u001B[0m\u001B[0;34m]\u001B[0m \u001B[0;34m=\u001B[0m \u001B[0mz\u001B[0m\u001B[0;34m[\u001B[0m\u001B[0msite_name\u001B[0m\u001B[0;34m]\u001B[0m \u001B[0;34m+\u001B[0m \u001B[0mstep_size\u001B[0m \u001B[0;34m*\u001B[0m \u001B[0mr_grads\u001B[0m\u001B[0;34m[\u001B[0m\u001B[0msite_name\u001B[0m\u001B[0;34m]\u001B[0m  \u001B[0;31m# z(n+1)\u001B[0m\u001B[0;34m\u001B[0m\u001B[0;34m\u001B[0m\u001B[0m\n\u001B[1;32m     52\u001B[0m \u001B[0;34m\u001B[0m\u001B[0m\n\u001B[0;32m---> 53\u001B[0;31m     \u001B[0mz_grads\u001B[0m\u001B[0;34m,\u001B[0m \u001B[0mpotential_energy\u001B[0m \u001B[0;34m=\u001B[0m \u001B[0mpotential_grad\u001B[0m\u001B[0;34m(\u001B[0m\u001B[0mpotential_fn\u001B[0m\u001B[0;34m,\u001B[0m \u001B[0mz\u001B[0m\u001B[0;34m)\u001B[0m\u001B[0;34m\u001B[0m\u001B[0;34m\u001B[0m\u001B[0m\n\u001B[0m\u001B[1;32m     54\u001B[0m     \u001B[0;32mfor\u001B[0m \u001B[0msite_name\u001B[0m \u001B[0;32min\u001B[0m \u001B[0mr\u001B[0m\u001B[0;34m:\u001B[0m\u001B[0;34m\u001B[0m\u001B[0;34m\u001B[0m\u001B[0m\n\u001B[1;32m     55\u001B[0m         \u001B[0mr\u001B[0m\u001B[0;34m[\u001B[0m\u001B[0msite_name\u001B[0m\u001B[0;34m]\u001B[0m \u001B[0;34m=\u001B[0m \u001B[0mr\u001B[0m\u001B[0;34m[\u001B[0m\u001B[0msite_name\u001B[0m\u001B[0;34m]\u001B[0m \u001B[0;34m+\u001B[0m \u001B[0;36m0.5\u001B[0m \u001B[0;34m*\u001B[0m \u001B[0mstep_size\u001B[0m \u001B[0;34m*\u001B[0m \u001B[0;34m(\u001B[0m\u001B[0;34m-\u001B[0m\u001B[0mz_grads\u001B[0m\u001B[0;34m[\u001B[0m\u001B[0msite_name\u001B[0m\u001B[0;34m]\u001B[0m\u001B[0;34m)\u001B[0m  \u001B[0;31m# r(n+1)\u001B[0m\u001B[0;34m\u001B[0m\u001B[0;34m\u001B[0m\u001B[0m\n",
      "\u001B[0;32m~/anaconda3/envs/mobster_hierarchical/lib/python3.8/site-packages/pyro/ops/integrator.py\u001B[0m in \u001B[0;36mpotential_grad\u001B[0;34m(potential_fn, z)\u001B[0m\n\u001B[1;32m     73\u001B[0m         \u001B[0mnode\u001B[0m\u001B[0;34m.\u001B[0m\u001B[0mrequires_grad_\u001B[0m\u001B[0;34m(\u001B[0m\u001B[0;32mTrue\u001B[0m\u001B[0;34m)\u001B[0m\u001B[0;34m\u001B[0m\u001B[0;34m\u001B[0m\u001B[0m\n\u001B[1;32m     74\u001B[0m     \u001B[0;32mtry\u001B[0m\u001B[0;34m:\u001B[0m\u001B[0;34m\u001B[0m\u001B[0;34m\u001B[0m\u001B[0m\n\u001B[0;32m---> 75\u001B[0;31m         \u001B[0mpotential_energy\u001B[0m \u001B[0;34m=\u001B[0m \u001B[0mpotential_fn\u001B[0m\u001B[0;34m(\u001B[0m\u001B[0mz\u001B[0m\u001B[0;34m)\u001B[0m\u001B[0;34m\u001B[0m\u001B[0;34m\u001B[0m\u001B[0m\n\u001B[0m\u001B[1;32m     76\u001B[0m     \u001B[0;31m# deal with singular matrices\u001B[0m\u001B[0;34m\u001B[0m\u001B[0;34m\u001B[0m\u001B[0;34m\u001B[0m\u001B[0m\n\u001B[1;32m     77\u001B[0m     \u001B[0;32mexcept\u001B[0m \u001B[0mRuntimeError\u001B[0m \u001B[0;32mas\u001B[0m \u001B[0me\u001B[0m\u001B[0;34m:\u001B[0m\u001B[0;34m\u001B[0m\u001B[0;34m\u001B[0m\u001B[0m\n",
      "\u001B[0;32m~/anaconda3/envs/mobster_hierarchical/lib/python3.8/site-packages/pyro/infer/mcmc/util.py\u001B[0m in \u001B[0;36m_potential_fn\u001B[0;34m(self, params)\u001B[0m\n\u001B[1;32m    258\u001B[0m         \u001B[0mparams_constrained\u001B[0m \u001B[0;34m=\u001B[0m \u001B[0;34m{\u001B[0m\u001B[0mk\u001B[0m\u001B[0;34m:\u001B[0m \u001B[0mself\u001B[0m\u001B[0;34m.\u001B[0m\u001B[0mtransforms\u001B[0m\u001B[0;34m[\u001B[0m\u001B[0mk\u001B[0m\u001B[0;34m]\u001B[0m\u001B[0;34m.\u001B[0m\u001B[0minv\u001B[0m\u001B[0;34m(\u001B[0m\u001B[0mv\u001B[0m\u001B[0;34m)\u001B[0m \u001B[0;32mfor\u001B[0m \u001B[0mk\u001B[0m\u001B[0;34m,\u001B[0m \u001B[0mv\u001B[0m \u001B[0;32min\u001B[0m \u001B[0mparams\u001B[0m\u001B[0;34m.\u001B[0m\u001B[0mitems\u001B[0m\u001B[0;34m(\u001B[0m\u001B[0;34m)\u001B[0m\u001B[0;34m}\u001B[0m\u001B[0;34m\u001B[0m\u001B[0;34m\u001B[0m\u001B[0m\n\u001B[1;32m    259\u001B[0m         \u001B[0mcond_model\u001B[0m \u001B[0;34m=\u001B[0m \u001B[0mpoutine\u001B[0m\u001B[0;34m.\u001B[0m\u001B[0mcondition\u001B[0m\u001B[0;34m(\u001B[0m\u001B[0mself\u001B[0m\u001B[0;34m.\u001B[0m\u001B[0mmodel\u001B[0m\u001B[0;34m,\u001B[0m \u001B[0mparams_constrained\u001B[0m\u001B[0;34m)\u001B[0m\u001B[0;34m\u001B[0m\u001B[0;34m\u001B[0m\u001B[0m\n\u001B[0;32m--> 260\u001B[0;31m         model_trace = poutine.trace(cond_model).get_trace(*self.model_args,\n\u001B[0m\u001B[1;32m    261\u001B[0m                                                           **self.model_kwargs)\n\u001B[1;32m    262\u001B[0m         \u001B[0mlog_joint\u001B[0m \u001B[0;34m=\u001B[0m \u001B[0mself\u001B[0m\u001B[0;34m.\u001B[0m\u001B[0mtrace_prob_evaluator\u001B[0m\u001B[0;34m.\u001B[0m\u001B[0mlog_prob\u001B[0m\u001B[0;34m(\u001B[0m\u001B[0mmodel_trace\u001B[0m\u001B[0;34m)\u001B[0m\u001B[0;34m\u001B[0m\u001B[0;34m\u001B[0m\u001B[0m\n",
      "\u001B[0;32m~/anaconda3/envs/mobster_hierarchical/lib/python3.8/site-packages/pyro/poutine/trace_messenger.py\u001B[0m in \u001B[0;36mget_trace\u001B[0;34m(self, *args, **kwargs)\u001B[0m\n\u001B[1;32m    185\u001B[0m         \u001B[0mCalls\u001B[0m \u001B[0mthis\u001B[0m \u001B[0mpoutine\u001B[0m \u001B[0;32mand\u001B[0m \u001B[0mreturns\u001B[0m \u001B[0mits\u001B[0m \u001B[0mtrace\u001B[0m \u001B[0minstead\u001B[0m \u001B[0mof\u001B[0m \u001B[0mthe\u001B[0m \u001B[0mfunction\u001B[0m\u001B[0;31m'\u001B[0m\u001B[0ms\u001B[0m \u001B[0;32mreturn\u001B[0m \u001B[0mvalue\u001B[0m\u001B[0;34m.\u001B[0m\u001B[0;34m\u001B[0m\u001B[0;34m\u001B[0m\u001B[0m\n\u001B[1;32m    186\u001B[0m         \"\"\"\n\u001B[0;32m--> 187\u001B[0;31m         \u001B[0mself\u001B[0m\u001B[0;34m(\u001B[0m\u001B[0;34m*\u001B[0m\u001B[0margs\u001B[0m\u001B[0;34m,\u001B[0m \u001B[0;34m**\u001B[0m\u001B[0mkwargs\u001B[0m\u001B[0;34m)\u001B[0m\u001B[0;34m\u001B[0m\u001B[0;34m\u001B[0m\u001B[0m\n\u001B[0m\u001B[1;32m    188\u001B[0m         \u001B[0;32mreturn\u001B[0m \u001B[0mself\u001B[0m\u001B[0;34m.\u001B[0m\u001B[0mmsngr\u001B[0m\u001B[0;34m.\u001B[0m\u001B[0mget_trace\u001B[0m\u001B[0;34m(\u001B[0m\u001B[0;34m)\u001B[0m\u001B[0;34m\u001B[0m\u001B[0;34m\u001B[0m\u001B[0m\n",
      "\u001B[0;32m~/anaconda3/envs/mobster_hierarchical/lib/python3.8/site-packages/pyro/poutine/trace_messenger.py\u001B[0m in \u001B[0;36m__call__\u001B[0;34m(self, *args, **kwargs)\u001B[0m\n\u001B[1;32m    163\u001B[0m                                       args=args, kwargs=kwargs)\n\u001B[1;32m    164\u001B[0m             \u001B[0;32mtry\u001B[0m\u001B[0;34m:\u001B[0m\u001B[0;34m\u001B[0m\u001B[0;34m\u001B[0m\u001B[0m\n\u001B[0;32m--> 165\u001B[0;31m                 \u001B[0mret\u001B[0m \u001B[0;34m=\u001B[0m \u001B[0mself\u001B[0m\u001B[0;34m.\u001B[0m\u001B[0mfn\u001B[0m\u001B[0;34m(\u001B[0m\u001B[0;34m*\u001B[0m\u001B[0margs\u001B[0m\u001B[0;34m,\u001B[0m \u001B[0;34m**\u001B[0m\u001B[0mkwargs\u001B[0m\u001B[0;34m)\u001B[0m\u001B[0;34m\u001B[0m\u001B[0;34m\u001B[0m\u001B[0m\n\u001B[0m\u001B[1;32m    166\u001B[0m             \u001B[0;32mexcept\u001B[0m \u001B[0;34m(\u001B[0m\u001B[0mValueError\u001B[0m\u001B[0;34m,\u001B[0m \u001B[0mRuntimeError\u001B[0m\u001B[0;34m)\u001B[0m \u001B[0;32mas\u001B[0m \u001B[0me\u001B[0m\u001B[0;34m:\u001B[0m\u001B[0;34m\u001B[0m\u001B[0;34m\u001B[0m\u001B[0m\n\u001B[1;32m    167\u001B[0m                 \u001B[0mexc_type\u001B[0m\u001B[0;34m,\u001B[0m \u001B[0mexc_value\u001B[0m\u001B[0;34m,\u001B[0m \u001B[0mtraceback\u001B[0m \u001B[0;34m=\u001B[0m \u001B[0msys\u001B[0m\u001B[0;34m.\u001B[0m\u001B[0mexc_info\u001B[0m\u001B[0;34m(\u001B[0m\u001B[0;34m)\u001B[0m\u001B[0;34m\u001B[0m\u001B[0;34m\u001B[0m\u001B[0m\n",
      "\u001B[0;32m~/anaconda3/envs/mobster_hierarchical/lib/python3.8/site-packages/pyro/poutine/messenger.py\u001B[0m in \u001B[0;36m_context_wrap\u001B[0;34m(context, fn, *args, **kwargs)\u001B[0m\n\u001B[1;32m     10\u001B[0m \u001B[0;32mdef\u001B[0m \u001B[0m_context_wrap\u001B[0m\u001B[0;34m(\u001B[0m\u001B[0mcontext\u001B[0m\u001B[0;34m,\u001B[0m \u001B[0mfn\u001B[0m\u001B[0;34m,\u001B[0m \u001B[0;34m*\u001B[0m\u001B[0margs\u001B[0m\u001B[0;34m,\u001B[0m \u001B[0;34m**\u001B[0m\u001B[0mkwargs\u001B[0m\u001B[0;34m)\u001B[0m\u001B[0;34m:\u001B[0m\u001B[0;34m\u001B[0m\u001B[0;34m\u001B[0m\u001B[0m\n\u001B[1;32m     11\u001B[0m     \u001B[0;32mwith\u001B[0m \u001B[0mcontext\u001B[0m\u001B[0;34m:\u001B[0m\u001B[0;34m\u001B[0m\u001B[0;34m\u001B[0m\u001B[0m\n\u001B[0;32m---> 12\u001B[0;31m         \u001B[0;32mreturn\u001B[0m \u001B[0mfn\u001B[0m\u001B[0;34m(\u001B[0m\u001B[0;34m*\u001B[0m\u001B[0margs\u001B[0m\u001B[0;34m,\u001B[0m \u001B[0;34m**\u001B[0m\u001B[0mkwargs\u001B[0m\u001B[0;34m)\u001B[0m\u001B[0;34m\u001B[0m\u001B[0;34m\u001B[0m\u001B[0m\n\u001B[0m\u001B[1;32m     13\u001B[0m \u001B[0;34m\u001B[0m\u001B[0m\n\u001B[1;32m     14\u001B[0m \u001B[0;34m\u001B[0m\u001B[0m\n",
      "\u001B[0;32m~/anaconda3/envs/mobster_hierarchical/lib/python3.8/site-packages/pyro/poutine/messenger.py\u001B[0m in \u001B[0;36m_context_wrap\u001B[0;34m(context, fn, *args, **kwargs)\u001B[0m\n\u001B[1;32m     10\u001B[0m \u001B[0;32mdef\u001B[0m \u001B[0m_context_wrap\u001B[0m\u001B[0;34m(\u001B[0m\u001B[0mcontext\u001B[0m\u001B[0;34m,\u001B[0m \u001B[0mfn\u001B[0m\u001B[0;34m,\u001B[0m \u001B[0;34m*\u001B[0m\u001B[0margs\u001B[0m\u001B[0;34m,\u001B[0m \u001B[0;34m**\u001B[0m\u001B[0mkwargs\u001B[0m\u001B[0;34m)\u001B[0m\u001B[0;34m:\u001B[0m\u001B[0;34m\u001B[0m\u001B[0;34m\u001B[0m\u001B[0m\n\u001B[1;32m     11\u001B[0m     \u001B[0;32mwith\u001B[0m \u001B[0mcontext\u001B[0m\u001B[0;34m:\u001B[0m\u001B[0;34m\u001B[0m\u001B[0;34m\u001B[0m\u001B[0m\n\u001B[0;32m---> 12\u001B[0;31m         \u001B[0;32mreturn\u001B[0m \u001B[0mfn\u001B[0m\u001B[0;34m(\u001B[0m\u001B[0;34m*\u001B[0m\u001B[0margs\u001B[0m\u001B[0;34m,\u001B[0m \u001B[0;34m**\u001B[0m\u001B[0mkwargs\u001B[0m\u001B[0;34m)\u001B[0m\u001B[0;34m\u001B[0m\u001B[0;34m\u001B[0m\u001B[0m\n\u001B[0m\u001B[1;32m     13\u001B[0m \u001B[0;34m\u001B[0m\u001B[0m\n\u001B[1;32m     14\u001B[0m \u001B[0;34m\u001B[0m\u001B[0m\n",
      "\u001B[0;32m~/anaconda3/envs/mobster_hierarchical/lib/python3.8/site-packages/pyro/poutine/messenger.py\u001B[0m in \u001B[0;36m_context_wrap\u001B[0;34m(context, fn, *args, **kwargs)\u001B[0m\n\u001B[1;32m     10\u001B[0m \u001B[0;32mdef\u001B[0m \u001B[0m_context_wrap\u001B[0m\u001B[0;34m(\u001B[0m\u001B[0mcontext\u001B[0m\u001B[0;34m,\u001B[0m \u001B[0mfn\u001B[0m\u001B[0;34m,\u001B[0m \u001B[0;34m*\u001B[0m\u001B[0margs\u001B[0m\u001B[0;34m,\u001B[0m \u001B[0;34m**\u001B[0m\u001B[0mkwargs\u001B[0m\u001B[0;34m)\u001B[0m\u001B[0;34m:\u001B[0m\u001B[0;34m\u001B[0m\u001B[0;34m\u001B[0m\u001B[0m\n\u001B[1;32m     11\u001B[0m     \u001B[0;32mwith\u001B[0m \u001B[0mcontext\u001B[0m\u001B[0;34m:\u001B[0m\u001B[0;34m\u001B[0m\u001B[0;34m\u001B[0m\u001B[0m\n\u001B[0;32m---> 12\u001B[0;31m         \u001B[0;32mreturn\u001B[0m \u001B[0mfn\u001B[0m\u001B[0;34m(\u001B[0m\u001B[0;34m*\u001B[0m\u001B[0margs\u001B[0m\u001B[0;34m,\u001B[0m \u001B[0;34m**\u001B[0m\u001B[0mkwargs\u001B[0m\u001B[0;34m)\u001B[0m\u001B[0;34m\u001B[0m\u001B[0;34m\u001B[0m\u001B[0m\n\u001B[0m\u001B[1;32m     13\u001B[0m \u001B[0;34m\u001B[0m\u001B[0m\n\u001B[1;32m     14\u001B[0m \u001B[0;34m\u001B[0m\u001B[0m\n",
      "\u001B[0;32m~/anaconda3/envs/mobster_hierarchical/lib/python3.8/site-packages/pyro/poutine/messenger.py\u001B[0m in \u001B[0;36m_context_wrap\u001B[0;34m(context, fn, *args, **kwargs)\u001B[0m\n\u001B[1;32m     10\u001B[0m \u001B[0;32mdef\u001B[0m \u001B[0m_context_wrap\u001B[0m\u001B[0;34m(\u001B[0m\u001B[0mcontext\u001B[0m\u001B[0;34m,\u001B[0m \u001B[0mfn\u001B[0m\u001B[0;34m,\u001B[0m \u001B[0;34m*\u001B[0m\u001B[0margs\u001B[0m\u001B[0;34m,\u001B[0m \u001B[0;34m**\u001B[0m\u001B[0mkwargs\u001B[0m\u001B[0;34m)\u001B[0m\u001B[0;34m:\u001B[0m\u001B[0;34m\u001B[0m\u001B[0;34m\u001B[0m\u001B[0m\n\u001B[1;32m     11\u001B[0m     \u001B[0;32mwith\u001B[0m \u001B[0mcontext\u001B[0m\u001B[0;34m:\u001B[0m\u001B[0;34m\u001B[0m\u001B[0;34m\u001B[0m\u001B[0m\n\u001B[0;32m---> 12\u001B[0;31m         \u001B[0;32mreturn\u001B[0m \u001B[0mfn\u001B[0m\u001B[0;34m(\u001B[0m\u001B[0;34m*\u001B[0m\u001B[0margs\u001B[0m\u001B[0;34m,\u001B[0m \u001B[0;34m**\u001B[0m\u001B[0mkwargs\u001B[0m\u001B[0;34m)\u001B[0m\u001B[0;34m\u001B[0m\u001B[0;34m\u001B[0m\u001B[0m\n\u001B[0m\u001B[1;32m     13\u001B[0m \u001B[0;34m\u001B[0m\u001B[0m\n\u001B[1;32m     14\u001B[0m \u001B[0;34m\u001B[0m\u001B[0m\n",
      "\u001B[0;32m<ipython-input-7-b7cb2cca297e>\u001B[0m in \u001B[0;36mmodel\u001B[0;34m(data, K, tail, purity, clonal_beta_var, alpha_prior_sd, number_of_trials_clonal_mean, number_of_trials_clonal, number_of_trials_k, prior_lims_clonal, prior_lims_k)\u001B[0m\n\u001B[1;32m    111\u001B[0m \u001B[0;34m\u001B[0m\u001B[0m\n\u001B[1;32m    112\u001B[0m                 \u001B[0;32melse\u001B[0m\u001B[0;34m:\u001B[0m\u001B[0;34m\u001B[0m\u001B[0;34m\u001B[0m\u001B[0m\n\u001B[0;32m--> 113\u001B[0;31m                     beta = beta_lk(betas_subclone_mean * betas_subclone_n_samples,\n\u001B[0m\u001B[1;32m    114\u001B[0m                                                                 \u001B[0;34m(\u001B[0m\u001B[0;36m1\u001B[0m \u001B[0;34m-\u001B[0m \u001B[0mbetas_subclone_mean\u001B[0m\u001B[0;34m)\u001B[0m \u001B[0;34m*\u001B[0m \u001B[0mbetas_subclone_n_samples\u001B[0m\u001B[0;34m,\u001B[0m\u001B[0;34m\u001B[0m\u001B[0;34m\u001B[0m\u001B[0m\n\u001B[1;32m    115\u001B[0m                                                                 \u001B[0mweights_1\u001B[0m\u001B[0;34m,\u001B[0m\u001B[0mK\u001B[0m \u001B[0;34m+\u001B[0m \u001B[0mtheoretical_num_clones\u001B[0m\u001B[0;34m[\u001B[0m\u001B[0mkr\u001B[0m\u001B[0;34m]\u001B[0m\u001B[0;34m,\u001B[0m\u001B[0;34m\u001B[0m\u001B[0;34m\u001B[0m\u001B[0m\n",
      "\u001B[0;32m<ipython-input-7-b7cb2cca297e>\u001B[0m in \u001B[0;36mbeta_lk\u001B[0;34m(beta_a, beta_b, weights, K, data)\u001B[0m\n\u001B[1;32m     14\u001B[0m     \u001B[0;32mfor\u001B[0m \u001B[0mk\u001B[0m \u001B[0;32min\u001B[0m \u001B[0mrange\u001B[0m\u001B[0;34m(\u001B[0m\u001B[0mK\u001B[0m\u001B[0;34m)\u001B[0m\u001B[0;34m:\u001B[0m\u001B[0;34m\u001B[0m\u001B[0;34m\u001B[0m\u001B[0m\n\u001B[1;32m     15\u001B[0m         \u001B[0mlk\u001B[0m\u001B[0;34m[\u001B[0m\u001B[0mk\u001B[0m\u001B[0;34m,\u001B[0m\u001B[0;34m:\u001B[0m\u001B[0;34m]\u001B[0m \u001B[0;34m=\u001B[0m \u001B[0mtorch\u001B[0m\u001B[0;34m.\u001B[0m\u001B[0mlog\u001B[0m\u001B[0;34m(\u001B[0m\u001B[0mweights\u001B[0m\u001B[0;34m[\u001B[0m\u001B[0mk\u001B[0m\u001B[0;34m]\u001B[0m\u001B[0;34m)\u001B[0m \u001B[0;34m+\u001B[0m \u001B[0mdist\u001B[0m\u001B[0;34m.\u001B[0m\u001B[0mBeta\u001B[0m\u001B[0;34m(\u001B[0m\u001B[0mbeta_a\u001B[0m\u001B[0;34m[\u001B[0m\u001B[0mk\u001B[0m\u001B[0;34m]\u001B[0m\u001B[0;34m,\u001B[0m \u001B[0mbeta_b\u001B[0m\u001B[0;34m[\u001B[0m\u001B[0mk\u001B[0m\u001B[0;34m]\u001B[0m\u001B[0;34m)\u001B[0m\u001B[0;34m.\u001B[0m\u001B[0mlog_prob\u001B[0m\u001B[0;34m(\u001B[0m\u001B[0mdata\u001B[0m\u001B[0;34m)\u001B[0m\u001B[0;34m\u001B[0m\u001B[0;34m\u001B[0m\u001B[0m\n\u001B[0;32m---> 16\u001B[0;31m     \u001B[0;32mreturn\u001B[0m \u001B[0mlog_sum_exp\u001B[0m\u001B[0;34m(\u001B[0m\u001B[0mlk\u001B[0m\u001B[0;34m)\u001B[0m\u001B[0;34m\u001B[0m\u001B[0;34m\u001B[0m\u001B[0m\n\u001B[0m\u001B[1;32m     17\u001B[0m \u001B[0;34m\u001B[0m\u001B[0m\n\u001B[1;32m     18\u001B[0m \u001B[0;32mdef\u001B[0m \u001B[0mfinal_lk\u001B[0m\u001B[0;34m(\u001B[0m\u001B[0mpareto\u001B[0m\u001B[0;34m,\u001B[0m \u001B[0mbeta\u001B[0m\u001B[0;34m,\u001B[0m \u001B[0mweights\u001B[0m\u001B[0;34m)\u001B[0m\u001B[0;34m:\u001B[0m\u001B[0;34m\u001B[0m\u001B[0;34m\u001B[0m\u001B[0m\n",
      "\u001B[0;32m<ipython-input-7-b7cb2cca297e>\u001B[0m in \u001B[0;36mlog_sum_exp\u001B[0;34m(args)\u001B[0m\n\u001B[1;32m      6\u001B[0m \u001B[0;34m\u001B[0m\u001B[0m\n\u001B[1;32m      7\u001B[0m \u001B[0;32mdef\u001B[0m \u001B[0mlog_sum_exp\u001B[0m\u001B[0;34m(\u001B[0m\u001B[0margs\u001B[0m\u001B[0;34m)\u001B[0m\u001B[0;34m:\u001B[0m\u001B[0;34m\u001B[0m\u001B[0;34m\u001B[0m\u001B[0m\n\u001B[0;32m----> 8\u001B[0;31m     \u001B[0mc\u001B[0m \u001B[0;34m=\u001B[0m \u001B[0mtorch\u001B[0m\u001B[0;34m.\u001B[0m\u001B[0mamax\u001B[0m\u001B[0;34m(\u001B[0m\u001B[0margs\u001B[0m\u001B[0;34m,\u001B[0m \u001B[0mdim\u001B[0m \u001B[0;34m=\u001B[0m \u001B[0;36m0\u001B[0m\u001B[0;34m)\u001B[0m\u001B[0;34m\u001B[0m\u001B[0;34m\u001B[0m\u001B[0m\n\u001B[0m\u001B[1;32m      9\u001B[0m     \u001B[0;32mreturn\u001B[0m \u001B[0mc\u001B[0m \u001B[0;34m+\u001B[0m \u001B[0mtorch\u001B[0m\u001B[0;34m.\u001B[0m\u001B[0mlog\u001B[0m\u001B[0;34m(\u001B[0m\u001B[0mtorch\u001B[0m\u001B[0;34m.\u001B[0m\u001B[0msum\u001B[0m\u001B[0;34m(\u001B[0m\u001B[0mtorch\u001B[0m\u001B[0;34m.\u001B[0m\u001B[0mexp\u001B[0m\u001B[0;34m(\u001B[0m\u001B[0margs\u001B[0m \u001B[0;34m-\u001B[0m \u001B[0mc\u001B[0m\u001B[0;34m)\u001B[0m\u001B[0;34m,\u001B[0m \u001B[0maxis\u001B[0m \u001B[0;34m=\u001B[0m \u001B[0;36m0\u001B[0m\u001B[0;34m)\u001B[0m\u001B[0;34m)\u001B[0m\u001B[0;34m\u001B[0m\u001B[0;34m\u001B[0m\u001B[0m\n\u001B[1;32m     10\u001B[0m \u001B[0;34m\u001B[0m\u001B[0m\n",
      "\u001B[0;31mKeyboardInterrupt\u001B[0m: "
     ]
    }
   ],
   "source": [
    "#run(model, inp, N_warm = 0)"
   ]
  },
  {
   "cell_type": "code",
   "execution_count": 17,
   "id": "postal-tuition",
   "metadata": {},
   "outputs": [
    {
     "data": {
      "text/plain": "tensor([[0.9565, 0.0435],\n        [0.8599, 0.1401]], grad_fn=<DivBackward0>)"
     },
     "execution_count": 17,
     "metadata": {},
     "output_type": "execute_result"
    }
   ],
   "source": [
    "pyro.param('param_weights_1') "
   ]
  },
  {
   "cell_type": "code",
   "execution_count": 18,
   "id": "pregnant-volume",
   "metadata": {},
   "outputs": [
    {
     "data": {
      "text/plain": "tensor(1.5379, grad_fn=<AddBackward0>)"
     },
     "execution_count": 18,
     "metadata": {},
     "output_type": "execute_result"
    }
   ],
   "source": [
    "pyro.param('ap') "
   ]
  },
  {
   "cell_type": "code",
   "execution_count": 19,
   "id": "furnished-narrative",
   "metadata": {},
   "outputs": [
    {
     "data": {
      "text/plain": "(array([8.780e+02, 4.870e+02, 3.110e+02, 8.150e+02, 3.102e+03, 3.880e+02,\n        5.000e+00, 3.000e+00, 2.000e+00, 8.000e+00]),\n array([0.04404505, 0.13954054, 0.23503605, 0.33053154, 0.42602703,\n        0.5215225 , 0.61701804, 0.7125135 , 0.808009  , 0.9035045 ,\n        0.999     ], dtype=float32),\n <BarContainer object of 10 artists>)"
     },
     "execution_count": 19,
     "metadata": {},
     "output_type": "execute_result"
    },
    {
     "data": {
      "text/plain": "<Figure size 720x576 with 1 Axes>",
      "image/png": "[encoded data removed]"
     },
     "metadata": {
      "needs_background": "light"
     },
     "output_type": "display_data"
    }
   ],
   "source": [
    "plt.hist(inp[\"1:1\"].detach().numpy())"
   ]
  },
  {
   "cell_type": "code",
   "execution_count": 28,
   "id": "challenging-satin",
   "metadata": {},
   "outputs": [
    {
     "data": {
      "text/plain": "{'ap': tensor(1.5379, grad_fn=<AddBackward0>),\n 'param_tail_weights': tensor([[0.2858, 0.7142],\n         [0.1677, 0.8323],\n         [0.2578, 0.7422]], grad_fn=<DivBackward0>),\n 'param_weights_2': tensor([[0.2139, 0.5600, 0.2261]], grad_fn=<DivBackward0>),\n 'param_weights_1': tensor([[0.9565, 0.0435],\n         [0.8599, 0.1401]], grad_fn=<DivBackward0>),\n 'a_1': tensor([[0.9051, 0.4640],\n         [0.1018, 0.2265]], dtype=torch.float64, grad_fn=<ClampBackward>),\n 'b_1': tensor([[  64.2426,  135.5838],\n         [1163.1294,  108.5413]], grad_fn=<AddBackward0>),\n 'a_2': tensor([[0.6407],\n         [0.3124],\n         [0.1475]], grad_fn=<ClampBackward>),\n 'b_2': tensor([[161.1578],\n         [217.7212],\n         [222.3971]], grad_fn=<AddBackward0>)}"
     },
     "execution_count": 28,
     "metadata": {},
     "output_type": "execute_result"
    }
   ],
   "source": [
    "param_names = pyro.get_param_store()\n",
    "res = {nms: pyro.param(nms) for nms in param_names}\n",
    "res"
   ]
  },
  {
   "cell_type": "code",
   "execution_count": 21,
   "outputs": [],
   "source": [
    "\n",
    "def compute_likelihood_from_params_tail(data, params, i, theo_clones, counts_clone):\n",
    "    j = counts_clone[i]\n",
    "    if theo_clones[i] == 2:\n",
    "        beta = beta_lk(params['a_2'][:,j] * params['b_2'][:,j],\n",
    "                       (1 - params['a_2'][:,j]) * params['b_2'][:, j],\n",
    "                       params['param_weights_{}'.format(theo_clones[i])][j, :],\n",
    "                       len(params['a_2'][:, j]),\n",
    "                       data)\n",
    "        pareto = dist.Pareto(torch.min(data) - 1e-5, params['ap']).log_prob(data)\n",
    "        lk = final_lk(pareto, beta, params['param_tail_weights'][i, :])\n",
    "    else:\n",
    "        beta = beta_lk(params['a_1'][:, j] * params['b_1'][:, j],\n",
    "                       (1 - params['a_1'][:, i]) * params['b_1'][:, j],\n",
    "                       params['param_weights_{}'.format(theo_clones[i])][j,:],\n",
    "                       len(params['a_1'][:, j]),\n",
    "                       data)\n",
    "        pareto = dist.Pareto(torch.min(data) - 1e-5, params['ap']).log_prob(data)\n",
    "        lk = final_lk(pareto, beta, params['param_tail_weights'][i, :])\n",
    "    return lk"
   ],
   "metadata": {
    "collapsed": false,
    "pycharm": {
     "name": "#%%\n"
    }
   }
  },
  {
   "cell_type": "code",
   "execution_count": 26,
   "outputs": [
    {
     "data": {
      "text/plain": "tensor([ 1.1767,  1.8259,  1.2462,  2.0404,  1.3214,  0.8809,  1.9891,  0.2849,\n         0.4963,  0.4918,  1.4422,  0.6641,  1.1970,  1.4656,  1.7592,  1.6170,\n         0.9522,  1.9783,  2.1563,  1.6190,  1.1294,  1.4727,  0.7257, -0.3881,\n         2.1563,  1.1710,  1.6399,  0.4212,  0.6235,  0.9152,  0.8287,  1.3352,\n         1.1661,  1.0436,  1.6236,  1.5572,  1.6640,  0.8891,  1.6755, -0.6652,\n         1.3802,  1.2226,  0.9821,  0.7567,  1.5586,  1.4354,  1.6049,  1.3782,\n         1.6136,  1.5956,  1.0892,  1.6465,  0.3081,  1.9674, -0.2728,  1.6703,\n         1.4159,  0.8239,  0.6221,  1.6763,  0.0711,  1.2467,  0.4054,  1.6731,\n         1.2064,  0.8311,  1.5648,  1.6503,  1.1095,  1.0935,  0.4212,  0.3948,\n         0.0711,  0.5058,  0.5206,  0.9357,  0.4412,  0.4655,  0.4913,  1.6449,\n         1.1958,  1.1949,  1.6040,  0.2063,  1.4596, -0.5022, -0.1861, -0.1283,\n         0.5166,  0.0182,  1.1951,  0.4693,  0.4591,  0.9972,  0.5013,  1.2687,\n         0.1796,  1.0542,  0.1456,  1.2756,  1.1544,  2.0688,  1.5987,  1.1896,\n         0.4687,  0.3555, -2.3439,  0.9138,  1.5271,  1.6525,  0.9194,  1.2968,\n         1.1655, -0.1444,  0.4275,  1.3802,  0.9357,  0.6465,  1.1973,  0.9143,\n         0.4755,  1.6756,  1.2985, -0.7463,  1.1873,  0.2369,  0.5092,  1.3846,\n         1.4467,  1.4159,  0.9961,  1.0743,  1.1591,  1.5448, -1.8672,  1.4911,\n         1.1800,  0.5202,  1.6549,  0.1844,  1.2250,  1.1838,  0.5033, -0.0218,\n         1.2996,  1.4995,  0.8593,  0.5302,  0.8194,  0.4235,  2.1505, -2.0338,\n         0.7172,  0.4922,  0.4284], grad_fn=<AddBackward0>)"
     },
     "execution_count": 26,
     "metadata": {},
     "output_type": "execute_result"
    }
   ],
   "source": [
    "compute_likelihood_from_params_tail(inp[\"2:1\"], res, 2,get_theo_clones(inp), get_clones_counts(get_theo_clones(inp)))"
   ],
   "metadata": {
    "collapsed": false,
    "pycharm": {
     "name": "#%%\n"
    }
   }
  },
  {
   "cell_type": "code",
   "execution_count": null,
   "outputs": [],
   "source": [
    "res['param_tail_weights'][0,:]"
   ],
   "metadata": {
    "collapsed": false,
    "pycharm": {
     "name": "#%%\n"
    }
   }
  },
  {
   "cell_type": "code",
   "execution_count": null,
   "outputs": [],
   "source": [
    "params = res\n"
   ],
   "metadata": {
    "collapsed": false,
    "pycharm": {
     "name": "#%%\n"
    }
   }
  },
  {
   "cell_type": "code",
   "execution_count": 23,
   "outputs": [],
   "source": [
    "def get_clones_counts(theoretical_num_clones):\n",
    "    uniques = list(set(theoretical_num_clones))\n",
    "    uniques = {k : 0 for k in uniques}\n",
    "    res = [None] * len(theoretical_num_clones)\n",
    "    for i in range(len(theoretical_num_clones)):\n",
    "        res[i] = uniques[theoretical_num_clones[i]]\n",
    "        uniques[theoretical_num_clones[i]] += 1\n",
    "    return(res)"
   ],
   "metadata": {
    "collapsed": false,
    "pycharm": {
     "name": "#%%\n"
    }
   }
  },
  {
   "cell_type": "code",
   "execution_count": 24,
   "outputs": [],
   "source": [
    "def get_theo_clones(data):\n",
    "    karyos = list(data.keys())\n",
    "    major = [int(str(i).split(\":\")[0]) for i in karyos]\n",
    "    minor = [int(str(i).split(\":\")[1]) for i in karyos]\n",
    "    theoretical_num_clones = [1 if (mn == 0 or mn == mj) else 2 for mj, mn in zip(major, minor)]\n",
    "    return theoretical_num_clones\n"
   ],
   "metadata": {
    "collapsed": false,
    "pycharm": {
     "name": "#%%\n"
    }
   }
  },
  {
   "cell_type": "code",
   "execution_count": 67,
   "outputs": [],
   "source": [
    "theo_clones = get_clones_counts(get_theo_clones(inp))"
   ],
   "metadata": {
    "collapsed": false,
    "pycharm": {
     "name": "#%%\n"
    }
   }
  },
  {
   "cell_type": "code",
   "execution_count": 75,
   "outputs": [],
   "source": [
    "beta = beta_lk(params['a_2'][:,0] * params['b_2'][:,0],\n",
    "                       (1 - params['a_2'][:,0]) * params['b_2'][:, 0],\n",
    "                       params['param_weights_{}'.format(get_theo_clones(inp)[2])][0, :],\n",
    "                       len(params['a_2'][:,0]),\n",
    "                       inp[\"2:1\"])"
   ],
   "metadata": {
    "collapsed": false,
    "pycharm": {
     "name": "#%%\n"
    }
   }
  },
  {
   "cell_type": "code",
   "execution_count": 76,
   "outputs": [
    {
     "data": {
      "text/plain": "tensor(-117.1100, grad_fn=<SumBackward0>)"
     },
     "execution_count": 76,
     "metadata": {},
     "output_type": "execute_result"
    }
   ],
   "source": [
    "log_sum_exp(beta).sum()"
   ],
   "metadata": {
    "collapsed": false,
    "pycharm": {
     "name": "#%%\n"
    }
   }
  },
  {
   "cell_type": "code",
   "execution_count": null,
   "outputs": [],
   "source": [
    "def beta_lk(beta_a, beta_b, weights, K, data):\n",
    "    lk = torch.ones(K, len(data))\n",
    "    if K == 1:\n",
    "        return torch.log(weights) + dist.Beta(beta_a, beta_b).log_prob(data)\n",
    "    for k in range(K):\n",
    "        lk[k, :] = torch.log(weights[k]) + dist.Beta(beta_a[k], beta_b[k]).log_prob(data)\n",
    "    return lk"
   ],
   "metadata": {
    "collapsed": false,
    "pycharm": {
     "name": "#%%\n"
    }
   }
  },
  {
   "cell_type": "code",
   "execution_count": null,
   "outputs": [],
   "source": [],
   "metadata": {
    "collapsed": false,
    "pycharm": {
     "name": "#%%\n"
    }
   }
  }
 ],
 "metadata": {
  "kernelspec": {
   "display_name": "Python 3",
   "language": "python",
   "name": "python3"
  },
  "language_info": {
   "codemirror_mode": {
    "name": "ipython",
    "version": 3
   },
   "file_extension": ".py",
   "mimetype": "text/x-python",
   "name": "python",
   "nbconvert_exporter": "python",
   "pygments_lexer": "ipython3",
   "version": "3.8.5"
  }
 },
 "nbformat": 4,
 "nbformat_minor": 5
}