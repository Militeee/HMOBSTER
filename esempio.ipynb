{
 "cells": [
  {
   "cell_type": "code",
   "execution_count": 5,
   "id": "bf79dfec",
   "metadata": {
    "pycharm": {
     "name": "#%%\n"
    }
   },
   "outputs": [
    {
     "name": "stdout",
     "output_type": "stream",
     "text": [
      "The autoreload extension is already loaded. To reload it, use:\n",
      "  %reload_ext autoreload\n"
     ]
    }
   ],
   "source": [
    "import numpy\n",
    "import torch\n",
    "import mobster as mb\n",
    "\n",
    "import numpy as np\n",
    "\n",
    "%load_ext autoreload\n",
    "%autoreload 2\n",
    "%aimport mobster"
   ]
  },
  {
   "cell_type": "code",
   "execution_count": 8,
   "id": "3e61590f",
   "metadata": {
    "pycharm": {
     "name": "#%%\n"
    }
   },
   "outputs": [
    {
     "data": {
      "text/plain": [
       "dict_keys(['1:0', '1:1', '2:0', '2:1', '2:2'])"
      ]
     },
     "execution_count": 8,
     "metadata": {},
     "output_type": "execute_result"
    }
   ],
   "source": [
    "data = mb.load_example_data(\"./\")\n",
    "data.keys()"
   ]
  },
  {
   "cell_type": "code",
   "execution_count": 7,
   "id": "fe899da3",
   "metadata": {
    "pycharm": {
     "name": "#%%\n"
    }
   },
   "outputs": [
    {
     "name": "stdout",
     "output_type": "stream",
     "text": [
      "Running MOBSTER on 5 karyotypes with 0 subclones.\n",
      "Fitting a model with tail\n"
     ]
    },
    {
     "name": "stderr",
     "output_type": "stream",
     "text": [
      "ELBO: 800.964904672  : 100%|██████████| 500/500 [00:26<00:00, 18.99it/s]"
     ]
    },
    {
     "name": "stdout",
     "output_type": "stream",
     "text": [
      "Computing cluster assignements.\n",
      "tensor([0.9802])\n",
      "tensor([0.2475])\n",
      "tensor([0.2475, 0.4950])\n",
      "tensor([0.1104, 0.2207])\n",
      "tensor([0.0622, 0.1244])\n",
      "Computing information criteria.\n",
      "Done!\n",
      "\n"
     ]
    },
    {
     "name": "stderr",
     "output_type": "stream",
     "text": [
      "\n"
     ]
    }
   ],
   "source": [
    "import pyro\n",
    "\n",
    "pyro.enable_validation(True)\n",
    "fitted = mb.fit_mobster(data,0,1, subclonal_prior=\"Moyal\", multi_tail = False,\n",
    "                        purity = 0.99,  truncated_pareto=True, max_it = 500,\n",
    "                        lr = 0.01,  e = 1e-10, lrd_gamma = 0.01,k_means_init = True,\n",
    "        number_of_trials_subclonal= 500, prior_lims_k=[0.1,100000.],alpha_precision_concentration = 2,\n",
    "                        alpha_precision_rate = 0.01,\n",
    "                        prior_lims_clonal=[0.1,100000.],\n",
    "                        number_of_trials_clonal_mean= 300, CUDA = False)\n"
   ]
  },
  {
   "cell_type": "code",
   "execution_count": 4,
   "id": "254f51db",
   "metadata": {
    "pycharm": {
     "name": "#%%\n"
    }
   },
   "outputs": [],
   "source": [
    "\n",
    "\n",
    "\n",
    "mb.plot_results(data, fitted, output= \"cane.png\", drivers=None)"
   ]
  },
  {
   "cell_type": "code",
   "execution_count": 9,
   "id": "5b4b6f32",
   "metadata": {},
   "outputs": [],
   "source": [
    "import pyro.distributions as dist\n",
    "torch.autograd.set_detect_anomaly(True)\n",
    "alpha = torch.tensor(1., requires_grad = True)\n",
    "pp = mb.ParetoBinomial.ParetoBinomial(alpha,0.25,0.06,data[\"2:2\"][:,1] ).log_prob(data[\"2:2\"][:,0])\n",
    "#pp"
   ]
  },
  {
   "cell_type": "code",
   "execution_count": 15,
   "id": "f9471a43",
   "metadata": {
    "pycharm": {
     "name": "#%%\n"
    }
   },
   "outputs": [
    {
     "data": {
      "text/plain": [
       "tensor([0.5000])"
      ]
     },
     "execution_count": 15,
     "metadata": {},
     "output_type": "execute_result"
    }
   ],
   "source": [
    "mb.theo_clonal_num(\"1:1\") / mb.theo_clonal_tot(\"1:1\")"
   ]
  },
  {
   "cell_type": "code",
   "execution_count": 22,
   "id": "e21417e8",
   "metadata": {},
   "outputs": [
    {
     "data": {
      "text/plain": [
       "tensor(1.0050)"
      ]
     },
     "execution_count": 22,
     "metadata": {},
     "output_type": "execute_result"
    }
   ],
   "source": [
    "import pyro.distributions as dist\n",
    "\n",
    "dist.LogNormal(0,0.1).mean"
   ]
  },
  {
   "cell_type": "code",
   "execution_count": 5,
   "id": "6c8da191",
   "metadata": {},
   "outputs": [
    {
     "data": {
      "text/plain": [
       "tensor(0.9941)"
      ]
     },
     "execution_count": 5,
     "metadata": {},
     "output_type": "execute_result"
    }
   ],
   "source": [
    "torch.trapz(mb.ParetoBinomial.ParetoBinomial(torch.tensor(1),0.25,0.06,torch.tensor(50) ).log_prob(torch.arange(0,51)).exp(), torch.arange(0,51))\n",
    "#pp"
   ]
  },
  {
   "cell_type": "code",
   "execution_count": 5,
   "id": "343e420e",
   "metadata": {},
   "outputs": [
    {
     "name": "stdout",
     "output_type": "stream",
     "text": [
      "tensor([[0.0600],\n",
      "        [0.0616],\n",
      "        [0.0632],\n",
      "        [0.0648],\n",
      "        [0.0664],\n",
      "        [0.0680],\n",
      "        [0.0696],\n",
      "        [0.0712],\n",
      "        [0.0728],\n",
      "        [0.0744],\n",
      "        [0.0760],\n",
      "        [0.0776],\n",
      "        [0.0792],\n",
      "        [0.0808],\n",
      "        [0.0824],\n",
      "        [0.0839],\n",
      "        [0.0855],\n",
      "        [0.0871],\n",
      "        [0.0887],\n",
      "        [0.0903],\n",
      "        [0.0919],\n",
      "        [0.0935],\n",
      "        [0.0951],\n",
      "        [0.0967],\n",
      "        [0.0983],\n",
      "        [0.0999],\n",
      "        [0.1015],\n",
      "        [0.1031],\n",
      "        [0.1047],\n",
      "        [0.1063],\n",
      "        [0.1079],\n",
      "        [0.1095],\n",
      "        [0.1111],\n",
      "        [0.1127],\n",
      "        [0.1143],\n",
      "        [0.1159],\n",
      "        [0.1175],\n",
      "        [0.1191],\n",
      "        [0.1207],\n",
      "        [0.1223],\n",
      "        [0.1239],\n",
      "        [0.1255],\n",
      "        [0.1271],\n",
      "        [0.1287],\n",
      "        [0.1303],\n",
      "        [0.1318],\n",
      "        [0.1334],\n",
      "        [0.1350],\n",
      "        [0.1366],\n",
      "        [0.1382],\n",
      "        [0.1398],\n",
      "        [0.1414],\n",
      "        [0.1430],\n",
      "        [0.1446],\n",
      "        [0.1462],\n",
      "        [0.1478],\n",
      "        [0.1494],\n",
      "        [0.1510],\n",
      "        [0.1526],\n",
      "        [0.1542],\n",
      "        [0.1558],\n",
      "        [0.1574],\n",
      "        [0.1590],\n",
      "        [0.1606],\n",
      "        [0.1622],\n",
      "        [0.1638],\n",
      "        [0.1654],\n",
      "        [0.1670],\n",
      "        [0.1686],\n",
      "        [0.1702],\n",
      "        [0.1718],\n",
      "        [0.1734],\n",
      "        [0.1750],\n",
      "        [0.1766],\n",
      "        [0.1782],\n",
      "        [0.1797],\n",
      "        [0.1813],\n",
      "        [0.1829],\n",
      "        [0.1845],\n",
      "        [0.1861],\n",
      "        [0.1877],\n",
      "        [0.1893],\n",
      "        [0.1909],\n",
      "        [0.1925],\n",
      "        [0.1941],\n",
      "        [0.1957],\n",
      "        [0.1973],\n",
      "        [0.1989],\n",
      "        [0.2005],\n",
      "        [0.2021],\n",
      "        [0.2037],\n",
      "        [0.2053],\n",
      "        [0.2069],\n",
      "        [0.2085],\n",
      "        [0.2101],\n",
      "        [0.2117],\n",
      "        [0.2133],\n",
      "        [0.2149],\n",
      "        [0.2165],\n",
      "        [0.2181],\n",
      "        [0.2197],\n",
      "        [0.2213],\n",
      "        [0.2229],\n",
      "        [0.2245],\n",
      "        [0.2261],\n",
      "        [0.2276],\n",
      "        [0.2292],\n",
      "        [0.2308],\n",
      "        [0.2324],\n",
      "        [0.2340],\n",
      "        [0.2356],\n",
      "        [0.2372],\n",
      "        [0.2388],\n",
      "        [0.2404],\n",
      "        [0.2420],\n",
      "        [0.2436],\n",
      "        [0.2452],\n",
      "        [0.2468],\n",
      "        [0.2484],\n",
      "        [0.2500]])\n",
      "torch.Size([51])\n"
     ]
    },
    {
     "data": {
      "text/plain": [
       "tensor([  0.3661,   1.7340,   2.4277,   2.7464,   2.8234,   2.7417,   2.5624,\n",
       "          2.3307,   2.0763,   1.8126,   1.5393,   1.2484,   0.9288,   0.5701,\n",
       "          0.1634,  -0.2979,  -0.8189,  -1.4030,  -2.0527,  -2.7698,  -3.5555,\n",
       "         -4.4108,  -5.3363,  -6.3328,  -7.4008,  -8.5410,  -9.7540, -11.0406,\n",
       "        -12.4018, -13.8387, -15.3526, -16.9449, -18.6174, -20.3722, -22.2117,\n",
       "        -24.1387, -26.1564, -28.2687, -30.4801, -32.7960, -35.2228, -37.7682,\n",
       "        -40.4419, -43.2557, -46.2249, -49.3697, -52.7179, -56.3097, -60.2095,\n",
       "        -64.5345, -69.5721])"
      ]
     },
     "execution_count": 5,
     "metadata": {},
     "output_type": "execute_result"
    }
   ],
   "source": [
    "mb.ParetoBinomial.ParetoBinomial(torch.tensor(1),0.25,0.06,torch.tensor(50) ).log_prob(torch.arange(0,51))"
   ]
  },
  {
   "cell_type": "code",
   "execution_count": 14,
   "id": "2df88c17",
   "metadata": {},
   "outputs": [],
   "source": [
    "kk = torch.ones(120,51)"
   ]
  },
  {
   "cell_type": "code",
   "execution_count": 28,
   "id": "28bfb15a",
   "metadata": {},
   "outputs": [
    {
     "data": {
      "text/plain": [
       "torch.Size([119, 51, 2])"
      ]
     },
     "execution_count": 28,
     "metadata": {},
     "output_type": "execute_result"
    }
   ],
   "source": [
    "torch.cat([kk[0:-1].unsqueeze(-1),kk[1:].unsqueeze(-1)],2).shape"
   ]
  },
  {
   "cell_type": "code",
   "execution_count": null,
   "id": "73fd324a",
   "metadata": {},
   "outputs": [],
   "source": [
    "logsumexp()"
   ]
  }
 ],
 "metadata": {
  "kernelspec": {
   "display_name": "Python [conda env:mobsterh]",
   "language": "python",
   "name": "conda-env-mobsterh-py"
  },
  "language_info": {
   "codemirror_mode": {
    "name": "ipython",
    "version": 3
   },
   "file_extension": ".py",
   "mimetype": "text/x-python",
   "name": "python",
   "nbconvert_exporter": "python",
   "pygments_lexer": "ipython3",
   "version": "3.9.7"
  }
 },
 "nbformat": 4,
 "nbformat_minor": 5
}
