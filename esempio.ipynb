{
 "cells": [
  {
   "cell_type": "code",
   "execution_count": 1,
   "outputs": [
    {
     "name": "stderr",
     "text": [
      "\n",
      "Bad key \"text.kerning_factor\" on line 4 in\n",
      "/Users/salvatore/miniconda3/envs/hmobster/lib/python3.7/site-packages/matplotlib/mpl-data/stylelib/_classic_test_patch.mplstyle.\n",
      "You probably need to get an updated matplotlibrc file from\n",
      "https://github.com/matplotlib/matplotlib/blob/v3.1.3/matplotlibrc.template\n",
      "or from the matplotlib source distribution\n"
     ],
     "output_type": "stream"
    }
   ],
   "source": [
    "\n",
    "\n",
    "import mobster as mb\n",
    "\n",
    "\n"
   ],
   "metadata": {
    "collapsed": false,
    "pycharm": {
     "name": "#%%\n",
     "is_executing": false
    }
   }
  },
  {
   "cell_type": "code",
   "execution_count": 2,
   "outputs": [],
   "source": [
    "data = mb.load_example_data(\"./\")\n",
    "\n",
    "#data = data[\"1:1\"]"
   ],
   "metadata": {
    "collapsed": false,
    "pycharm": {
     "name": "#%%\n",
     "is_executing": false
    }
   }
  },
  {
   "cell_type": "code",
   "execution_count": 3,
   "outputs": [],
   "source": [
    "#data = { \"1:1\" : data}"
   ],
   "metadata": {
    "collapsed": false,
    "pycharm": {
     "name": "#%%\n",
     "is_executing": false
    }
   }
  },
  {
   "cell_type": "code",
   "execution_count": 6,
   "outputs": [
    {
     "name": "stdout",
     "text": [
      "Running MOBSTER on 3 karyotypes with 1 subclones.\n",
      "Fitting a model with tail\n",
      "\n",
      "Computing cluster assignements.\n",
      "Computing information criteria.\n",
      "Done!\n"
     ],
     "output_type": "stream"
    },
    {
     "name": "stderr",
     "text": [
      "ELBO: -4805.549160671  :  12%|█▏        | 23/200 [00:00<00:05, 31.32it/s]\n"
     ],
     "output_type": "stream"
    }
   ],
   "source": [
    "fitted = mb.fit_mobster(data, 1,1,True, max_it = 200, lr = 0.1,  e = 0.00001, lrd_gamma = 0.1,   \n",
    "        number_of_trials_k= 800, prior_lims_k=[100,10000])"
   ],
   "metadata": {
    "collapsed": false,
    "pycharm": {
     "name": "#%%\n",
     "is_executing": false
    }
   }
  },
  {
   "cell_type": "code",
   "execution_count": 7,
   "outputs": [],
   "source": [
    "mb.plot_results(data, fitted, output= \"cane.png\", drivers=None)"
   ],
   "metadata": {
    "collapsed": false,
    "pycharm": {
     "name": "#%%\n",
     "is_executing": false
    }
   }
  },
  {
   "cell_type": "code",
   "execution_count": 9,
   "outputs": [
    {
     "data": {
      "text/plain": "{'cluster_probs': array([[0.0000000e+00, 9.9999845e-01, 1.0000000e+00, ..., 0.0000000e+00,\n         1.0000000e+00, 0.0000000e+00],\n        [1.0000000e+00, 0.0000000e+00, 0.0000000e+00, ..., 1.7246192e-14,\n         0.0000000e+00, 1.0000000e+00],\n        [0.0000000e+00, 1.5628425e-06, 1.3151456e-25, ..., 6.2069166e-23,\n         4.0646544e-22, 0.0000000e+00],\n        [2.2063994e-24, 0.0000000e+00, 0.0000000e+00, ..., 1.0000000e+00,\n         0.0000000e+00, 7.8615097e-20]], dtype=float32),\n 'cluster_assignments': array(['C1', 'Tail', 'Tail', ..., 'S2', 'Tail', 'C1'], dtype=object),\n 'cluster_types': array([], dtype=object),\n 'mixture_probs': array([0.499945  , 0.16670947, 0.16667278, 0.16667278], dtype=float32),\n 'beta_concentration1': array([239.9873 , 123.58945, 241.24413], dtype=float32),\n 'beta_concentration2': array([259.95767, 676.32245, 558.6678 ], dtype=float32),\n 'tail_shape': array(1.0000489, dtype=float32),\n 'tail_scale': 0.044045046,\n 'tail_noise': 0.020002197507050335}"
     },
     "metadata": {},
     "output_type": "execute_result",
     "execution_count": 9
    }
   ],
   "source": [
    "fitted[\"model_parameters\"][\"1:1\"]\n",
    "\n"
   ],
   "metadata": {
    "collapsed": false,
    "pycharm": {
     "name": "#%%\n",
     "is_executing": false
    }
   }
  },
  {
   "cell_type": "code",
   "execution_count": 6,
   "outputs": [
    {
     "data": {
      "text/plain": "0.01"
     },
     "metadata": {},
     "output_type": "execute_result",
     "execution_count": 6
    }
   ],
   "source": [],
   "metadata": {
    "collapsed": false,
    "pycharm": {
     "name": "#%%\n",
     "is_executing": false
    }
   }
  },
  {
   "cell_type": "code",
   "execution_count": 8,
   "outputs": [
    {
     "data": {
      "text/plain": "1"
     },
     "metadata": {},
     "output_type": "execute_result",
     "execution_count": 8
    }
   ],
   "source": [],
   "metadata": {
    "collapsed": false,
    "pycharm": {
     "name": "#%%\n",
     "is_executing": false
    }
   }
  },
  {
   "cell_type": "code",
   "execution_count": null,
   "outputs": [],
   "source": [
    "\n"
   ],
   "metadata": {
    "collapsed": false,
    "pycharm": {
     "name": "#%%\n"
    }
   }
  }
 ],
 "metadata": {
  "kernelspec": {
   "display_name": "Python 3",
   "language": "python",
   "name": "python3"
  },
  "language_info": {
   "codemirror_mode": {
    "name": "ipython",
    "version": 3
   },
   "file_extension": ".py",
   "mimetype": "text/x-python",
   "name": "python",
   "nbconvert_exporter": "python",
   "pygments_lexer": "ipython3",
   "version": "3.8.5"
  },
  "pycharm": {
   "stem_cell": {
    "cell_type": "raw",
    "source": [],
    "metadata": {
     "collapsed": false
    }
   }
  }
 },
 "nbformat": 4,
 "nbformat_minor": 5
}