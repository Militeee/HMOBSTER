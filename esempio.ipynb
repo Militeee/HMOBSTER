{
 "cells": [
  {
   "cell_type": "code",
   "execution_count": 3,
   "id": "saved-junior",
   "metadata": {
    "pycharm": {
     "is_executing": false
    }
   },
   "outputs": [],
   "source": [
    "import pandas as pd\n",
    "import numpy as np\n",
    "import seaborn as sns\n",
    "import matplotlib.pyplot as plt\n",
    "\n",
    "import pyro as pyro\n",
    "import numpy as np\n",
    "from pyro.infer import MCMC, NUTS, Predictive, HMC, config_enumerate\n",
    "from pyro.infer.autoguide import AutoDelta, init_to_sample\n",
    "import pyro.distributions as dist\n",
    "import pyro.poutine as poutine\n",
    "import torch\n",
    "from torch.distributions import constraints"
   ]
  },
  {
   "cell_type": "code",
   "execution_count": 4,
   "id": "minute-separation",
   "metadata": {
    "pycharm": {
     "is_executing": false
    }
   },
   "outputs": [
    {
     "data": {
      "text/plain": "tensor([0.9707, 0.8129, 0.5573, 0.8221, 0.7768, 0.4676])"
     },
     "metadata": {},
     "output_type": "execute_result",
     "execution_count": 4
    }
   ],
   "source": [
    "torch.rand([3,6]).amax(dim = 0)\n"
   ]
  },
  {
   "cell_type": "code",
   "execution_count": 5,
   "id": "western-association",
   "metadata": {
    "pycharm": {
     "is_executing": false
    }
   },
   "outputs": [],
   "source": [
    "from pandas.core.common import flatten\n",
    "\n",
    "def flatten_list(l):\n",
    "    return list(flatten(l))\n",
    "\n",
    "\n",
    "def log_sum_exp(args):\n",
    "    c = torch.amax(args, dim = 0)  \n",
    "    return c + torch.log(torch.sum(torch.exp(args - c), axis = 0))\n",
    "                     \n",
    "    \n",
    "def beta_lk(beta_a, beta_b, weights, K, data):\n",
    "    lk = torch.ones(K, len(data))\n",
    "    for k in range(K):\n",
    "        lk[k,:] = torch.log(weights[k]) + dist.Beta(beta_a[k], beta_b[k]).log_prob(data)\n",
    "    return log_sum_exp(lk)\n",
    "\n",
    "def final_lk(pareto, beta, weights):\n",
    "    lk = torch.ones(2, len(beta))\n",
    "    lk[0,:] = torch.log(weights[0]) + pareto\n",
    "    lk[1,:] = torch.log(weights[1]) + beta\n",
    "    return log_sum_exp(lk)\n",
    "\n",
    "def retrieve_posterior_probs():\n",
    "    pass\n",
    "        \n",
    "    \n",
    "@config_enumerate\n",
    "def model(data, K = 1 , tail = 1, purity =  0.96, clonal_beta_var = 1., alpha_prior_sd = 0.3,number_of_trials_clonal_mean = 500.,\n",
    "          number_of_trials_clonal = 900., number_of_trials_k = 300., prior_lims_clonal = [0.1,100000.],\n",
    "          prior_lims_k = [0.1,100000.] ):\n",
    "    \"\"\"\n",
    "    Parameters\n",
    "    ----------\n",
    "    param1 :\n",
    "    The first parameter.\n",
    "    param2 : \n",
    "    The second parameter.\n",
    "    \n",
    "    \"\"\"\n",
    "    karyos = list(data.keys())\n",
    "    major = [int(str(i).split(\":\")[0]) for i in karyos]\n",
    "    minor = [int(str(i).split(\":\")[1]) for i in karyos]\n",
    "    \n",
    "    betas_subclone_mean2 = 0\n",
    "    betas_subclone_n_samples2 = 0\n",
    "    betas_subclone_mean = 0\n",
    "    betas_subclone_n_samples = 0\n",
    "    \n",
    "    lk = np.zeros(len(karyos))\n",
    "    \n",
    "    theoretical_num_clones = [1 if (mn == 0 or mn == mj) else 2 for mj,mn in zip(major,minor)]\n",
    "    theoretical_clonal_means = [(purity - 0.0001) if (mn == 0 or mn == mj) else torch.tensor([(mj/(mj + mn)) * purity, (mn/(mn + mj)) * purity]) for mj,mn in zip(major, minor)]\n",
    "    theoretical_clonal_means = [0.5 * purity if (mn == mj) else j for mj,mn,j in zip(major, minor, theoretical_clonal_means)]\n",
    "\n",
    "    counts_clones = dict()\n",
    "    for i in theoretical_num_clones:\n",
    "        counts_clones[i] = counts_clones.get(i, 0) + 1\n",
    "        \n",
    "    index_2 = [i for i, j in enumerate(theoretical_num_clones) if j == 2]\n",
    "    index_1 = [i for i, j in enumerate(theoretical_num_clones) if j == 1]\n",
    "    \n",
    "\n",
    "    alpha_prior =  pyro.sample('u', dist.Uniform(0.5, 5))\n",
    "\n",
    "    for kr in pyro.plate(\"kr\",len(karyos)):\n",
    "        \n",
    "        \n",
    "        alpha =  pyro.sample('alpha_{}'.format(kr), dist.LogNormal(torch.log(alpha_prior), alpha_prior_sd))\n",
    "\n",
    "        if theoretical_num_clones[kr] == 2:\n",
    "            weights_2 = pyro.sample('weights_{}'.format(kr), dist.Dirichlet(torch.ones(K + 2)))\n",
    "\n",
    "            with pyro.plate(\"clones_{}\".format(kr), 2 + K):\n",
    "                \n",
    "                \n",
    "                k_means = [(torch.min(theoretical_clonal_means[kr] - 0.05) / 2).tolist()] * K\n",
    "                bm_12 = torch.tensor(flatten_list([theoretical_clonal_means[kr].tolist(),k_means])) * number_of_trials_clonal_mean\n",
    "                bm_22 = number_of_trials_clonal_mean - bm_12\n",
    "                betas_subclone_mean2 = pyro.sample('beta_clone_mean_{}'.format(kr), dist.Beta(bm_12, bm_22))\n",
    "                bns_12 = torch.tensor((2 * [prior_lims_clonal[0]]) + (K * [prior_lims_k[0]]))\n",
    "                bns_22 = torch.tensor((2 * [prior_lims_clonal[1]]) + (K * [prior_lims_k[1]]))\n",
    "                betas_subclone_n_samples2 = pyro.sample('beta_clone_n_samples_{}'.format(kr), dist.Uniform(bns_12,bns_22))\n",
    "                \n",
    "        else:\n",
    "            weights_1 = pyro.sample('weights_{}'.format(kr), dist.Dirichlet(torch.ones(K + 1)))\n",
    "\n",
    "            with pyro.plate(\"clones_{}\".format(kr), 1 + K):\n",
    "\n",
    "                k_means = [(theoretical_clonal_means[kr] - 0.05) / 2] * K\n",
    "                bm_11 =  torch.tensor(flatten_list([theoretical_clonal_means[kr],k_means])) * number_of_trials_clonal_mean\n",
    "                bm_21 = number_of_trials_clonal_mean - bm_11\n",
    "                betas_subclone_mean = pyro.sample('beta_clone_mean_{}'.format(kr),dist.Beta(bm_11, bm_21))\n",
    "                bns_11 = torch.tensor((1 * [prior_lims_clonal[0]]) + (K * [prior_lims_k[0]]))\n",
    "                bns_21 = torch.tensor((1 * [prior_lims_clonal[1]]) + (K * [prior_lims_k[1]]))\n",
    "                betas_subclone_n_samples = pyro.sample('beta_clone_n_samples_{}'.format(kr), dist.Uniform(bns_11, bns_21))\n",
    "                \n",
    "                \n",
    "        tail_probs = pyro.sample('weights_tail_{}'.format(kr), dist.Dirichlet(torch.ones(2)))\n",
    "        with pyro.plate('data_{}'.format(kr), len(data[karyos[kr]])):\n",
    "        \n",
    "            if(tail == 1):\n",
    "                if theoretical_num_clones[kr] == 2:\n",
    "                    beta = beta_lk(betas_subclone_mean2 * betas_subclone_n_samples2,\n",
    "                                                                (1 - betas_subclone_mean2) * betas_subclone_n_samples2,\n",
    "                                                                weights_2,K + theoretical_num_clones[kr], \n",
    "                                                                data[karyos[kr]])\n",
    "                    pareto = dist.Pareto(torch.min(data[karyos[kr]]) - 1e-5, alpha).log_prob(data[karyos[kr]])\n",
    "                    pyro.factor(\"lik_{}\".format(kr),torch.sum(final_lk(pareto, beta, tail_probs)))\n",
    "                  \n",
    "\n",
    "                else:                    \n",
    "                    beta = beta_lk(betas_subclone_mean * betas_subclone_n_samples,\n",
    "                                                                (1 - betas_subclone_mean) * betas_subclone_n_samples,\n",
    "                                                                weights_1,K + theoretical_num_clones[kr], \n",
    "                                                                data[karyos[kr]])\n",
    "                    pareto = dist.Pareto(torch.min(data[karyos[kr]]) - 1e-5, alpha).log_prob(data[karyos[kr]])\n",
    "                    pyro.factor(\"lik_{}\".format(kr),torch.sum(final_lk(pareto, beta, tail_probs)))\n",
    "                                \n",
    "            else:\n",
    "\n",
    "                if theoretical_num_clones[kr] == 2:\n",
    "                    pyro.factor(\"lik_{}\".format(kr), torch.sum(beta_lk(betas_subclone_mean2 * betas_subclone_n_samples2,\n",
    "                                                                (1 - betas_subclone_mean2) * betas_subclone_n_samples2,\n",
    "                                                                weights_2,K + theoretical_num_clones[kr], \n",
    "                                                                data[karyos[kr]])))\n",
    "                else:\n",
    "                    pyro.factor(\"lik_{}\".format(kr), torch.sum(beta_lk(betas_subclone_mean * betas_subclone_n_samples, \n",
    "                                                                (1 - betas_subclone_mean) * betas_subclone_n_samples, \n",
    "                                                                weights_1,\n",
    "                                                                K + theoretical_num_clones[kr], \n",
    "                                                                data[karyos[kr]])))\n",
    "                    \n",
    "@config_enumerate\n",
    "def guide(data, K = 1 , tail = 1, purity =  0.96, clonal_beta_var = 1., alpha_prior_sd = 0.3,number_of_trials_clonal_mean = 100.,\n",
    "          number_of_trials_clonal = 900., number_of_trials_k = 300., prior_lims_clonal = [1.,10000.],\n",
    "          prior_lims_k = [1.,10000.]):\n",
    "    \"\"\"\n",
    "    Parameters\n",
    "    ----------\n",
    "    param1 :\n",
    "    The first parameter.\n",
    "    param2 : \n",
    "    The second parameter.\n",
    "    \n",
    "    \"\"\"\n",
    "    karyos = list(data.keys())\n",
    "    major = [int(str(i).split(\":\")[0]) for i in karyos]\n",
    "    minor = [int(str(i).split(\":\")[1]) for i in karyos]\n",
    "    \n",
    "    \n",
    "    lk = np.zeros(len(karyos))\n",
    "    \n",
    "    theoretical_num_clones = [1 if (mn == 0 or mn == mj) else 2 for mj,mn in zip(major,minor)]\n",
    "    theoretical_clonal_means = [(purity - 0.0001) if (mn == 0 or mn == mj) else torch.tensor([(mj/(mj + mn)) * purity, (mn/(mn + mj)) * purity]) for mj,mn in zip(major, minor)]\n",
    "    theoretical_clonal_means = [0.5 * purity if (mn == mj) else j for mj,mn,j in zip(major, minor, theoretical_clonal_means)]\n",
    "    \n",
    "    counts_clones = dict()\n",
    "    for i in theoretical_num_clones:\n",
    "        counts_clones[i] = counts_clones.get(i, 0) + 1\n",
    "        \n",
    "    index_2 = [i for i, j in enumerate(theoretical_num_clones) if j == 2]\n",
    "    index_1 = [i for i, j in enumerate(theoretical_num_clones) if j == 1]\n",
    "    \n",
    "    ap = pyro.param(\"ap\", torch.tensor(1.5),  constraint = constraints.interval(0.5,5))\n",
    "    \n",
    "    alpha_prior =  pyro.sample('u', dist.Delta(ap))\n",
    "    \n",
    "\n",
    "    \n",
    "\n",
    "    \n",
    "        \n",
    "    idx1 = 0\n",
    "    idx2 = 0\n",
    "    \n",
    "    weights_tail = pyro.param(\"param_tail_weights\", 1/torch.ones([len(karyos),2]), constraint = constraints.simplex)\n",
    "    weights_param_2 = pyro.param(\"param_weights_2\", (1/(K + 2)) * torch.ones([ len(index_2), K + 2]), constraint = constraints.simplex)\n",
    "    weights_param_1 = pyro.param(\"param_weights_1\",(1/(K + 1)) * torch.ones([len(index_1), K + 1]), constraint = constraints.simplex)\n",
    "    \n",
    "\n",
    "    for kr in pyro.plate(\"kr\",len(karyos)):\n",
    "                \n",
    "        pyro.sample('alpha_{}'.format(kr), dist.LogNormal(torch.log(alpha_prior), alpha_prior_sd))\n",
    "\n",
    "        \n",
    "        if theoretical_num_clones[kr] == 2:\n",
    "            \n",
    "            pyro.sample('weights_{}'.format(kr), dist.Delta(weights_param_2[idx2]).to_event(1))\n",
    "\n",
    "            # Mean parameter when the number of clonal picks is 2 \n",
    "            a_2_theo = torch.cat([theoretical_clonal_means[i] for i in index_2]).reshape([2, counts_clones[2]])\n",
    "            max_lim_2 = torch.tensor([torch.min(theoretical_clonal_means[i]) for i in index_2])\n",
    "            a_2_k = dist.Uniform(0.1, max_lim_2 - (0.3 * max_lim_2)).sample([K])\n",
    "\n",
    "            # Number of trials parameter when the number of clonal picks is 2 \n",
    "            b_2_theo = torch.ones([2,len(index_2)]) * number_of_trials_clonal_mean\n",
    "            b_2_k = torch.ones([K,len(index_2)]) * number_of_trials_k\n",
    "            \n",
    "            \n",
    "            \n",
    "            a21 =  pyro.param('a_2', \n",
    "                                 torch.cat((a_2_theo, a_2_k)).reshape([2 + K,len(index_2)]), \n",
    "                                 constraint = constraints.unit_interval)\n",
    "            a22 =  pyro.param('b_2', \n",
    "                                 torch.cat((b_2_theo, b_2_k)).reshape([2 + K,len(index_2)]),\n",
    "                                 constraint = constraints.positive)\n",
    "    \n",
    "            \n",
    "            with pyro.plate(\"clones_{}\".format(kr), 2 + K):\n",
    "                pyro.sample('beta_clone_mean_{}'.format(kr),dist.Delta(a21[:,idx2]))\n",
    "                pyro.sample('beta_clone_n_samples_{}'.format(kr),dist.Delta(a22[:,idx2]))\n",
    "            idx2 += 1 \n",
    "                \n",
    "        else:\n",
    "            pyro.sample('weights_{}'.format(kr), dist.Delta(weights_param_1[idx1]).to_event(1))\n",
    "\n",
    "            \n",
    "            # Mean parameter when the number of clonal picks is 1\n",
    "            a_1_theo = torch.tensor([theoretical_clonal_means[i] for i in index_1]).reshape([1, counts_clones[1]])\n",
    "            max_lim_1 = torch.tensor([np.min(theoretical_clonal_means[i]) for i in index_1])\n",
    "            a_1_k = dist.Uniform(0.1, max_lim_1 - (0.3 * max_lim_1)).sample([K])\n",
    "\n",
    "            # Number of trials parameter when the number of clonal picks is 1 \n",
    "            b_1_theo = torch.ones([1,len(index_1)]) * number_of_trials_clonal_mean\n",
    "            b_1_k = torch.ones([K,len(index_1)]) * number_of_trials_k \n",
    "            \n",
    "            \n",
    "            a11 =  pyro.param('a_1', \n",
    "                         torch.cat((a_1_theo, a_1_k)).reshape([1 + K,len(index_1)]), \n",
    "                         constraint = constraints.unit_interval)\n",
    "            a12 =  pyro.param('b_1', \n",
    "                         torch.cat((b_1_theo, b_1_k)).reshape([1 + K,len(index_1)]),\n",
    "                         constraint = constraints.positive)\n",
    "\n",
    "            with pyro.plate(\"clones_{}\".format(kr), 1 + K):\n",
    "                pyro.sample('beta_clone_mean_{}'.format(kr),dist.Delta(a11[:,idx1]))\n",
    "                pyro.sample('beta_clone_n_samples_{}'.format(kr),dist.Delta(a12[:,idx1]))\n",
    "            idx1 += 1 \n",
    "                \n",
    "            \n",
    "        #K = K + tail\n",
    "        pyro.sample('weights_tail_{}'.format(kr), dist.Delta(weights_tail[kr]).to_event(1))\n",
    "        \n",
    "\n",
    "        \n"
   ]
  },
  {
   "cell_type": "code",
   "execution_count": 6,
   "id": "expensive-farming",
   "metadata": {
    "pycharm": {
     "is_executing": false
    }
   },
   "outputs": [],
   "source": [
    "import pickle\n",
    "flh = open(\"example.pkl\", \"rb\")\n",
    "inp = pickle.load(flh)"
   ]
  },
  {
   "cell_type": "code",
   "execution_count": 7,
   "id": "adequate-aquarium",
   "metadata": {
    "pycharm": {
     "is_executing": false
    }
   },
   "outputs": [],
   "source": [
    "inp = {k : (torch.tensor(v) - 0.001) for k,v in zip(inp.keys(),inp.values())}\n"
   ]
  },
  {
   "cell_type": "code",
   "execution_count": 8,
   "id": "beneficial-silence",
   "metadata": {
    "pycharm": {
     "is_executing": false
    }
   },
   "outputs": [],
   "source": [
    "def run(model, data,N_warm = 2000, N_samples = 3000, seed = 3, tail = 1, purity = 1):\n",
    "    pyro.set_rng_seed(seed)\n",
    "    kernel = HMC(model)\n",
    "    mcmc = MCMC(kernel,warmup_steps = N_warm, num_samples = N_samples)\n",
    "    mcmc.run(data , tail = tail, purity = purity)\n",
    "    mcmc.print_summary()\n",
    "    samples = mcmc.get_samples()\n",
    "    return (mcmc, samples)"
   ]
  },
  {
   "cell_type": "code",
   "execution_count": 9,
   "id": "simple-fraction",
   "metadata": {
    "pycharm": {
     "is_executing": false
    }
   },
   "outputs": [],
   "source": [
    "svi = pyro.infer.SVI(model=model,\n",
    "                     guide=guide,\n",
    "                     optim=pyro.optim.Adam({\"lr\": 0.02}),\n",
    "                     loss=pyro.infer.TraceGraph_ELBO())"
   ]
  },
  {
   "cell_type": "code",
   "execution_count": 13,
   "id": "victorian-bunny",
   "metadata": {
    "pycharm": {
     "is_executing": false
    }
   },
   "outputs": [
    {
     "name": "stdout",
     "text": [
      "-21139866.0\n",
      "-22517854.0\n",
      "-22461912.0\n",
      "-24267466.0\n",
      "-25633216.0\n",
      "-26057116.0\n",
      "-26920874.0\n",
      "-27584304.0\n",
      "-28282748.0\n",
      "-28780230.0\n",
      "-29717026.0\n",
      "-30103606.0\n",
      "-30821120.0\n",
      "-31343280.0\n",
      "-31785278.0\n",
      "-31772826.0\n",
      "-32742974.0\n",
      "-33107838.0\n",
      "-32952654.0\n",
      "-33976052.0\n",
      "-34306660.0\n",
      "-34350880.0\n",
      "-34985344.0\n",
      "-35076728.0\n",
      "-35397064.0\n",
      "-35585388.0\n",
      "-35915024.0\n",
      "-36241404.0\n",
      "-36457820.0\n",
      "-36634464.0\n",
      "-36385324.0\n",
      "-36878916.0\n",
      "-37106492.0\n",
      "-37271460.0\n",
      "-37319876.0\n",
      "-37366672.0\n",
      "-37659080.0\n",
      "-37696348.0\n",
      "-37560232.0\n",
      "-37841536.0\n",
      "-37333464.0\n",
      "-37709712.0\n",
      "-37969912.0\n",
      "-38052932.0\n",
      "-38143164.0\n",
      "-38132632.0\n",
      "-38097280.0\n",
      "-38397192.0\n",
      "-38087000.0\n",
      "-38204448.0\n",
      "-36722908.0\n",
      "-38368320.0\n",
      "-38318976.0\n",
      "-38546744.0\n",
      "-38424516.0\n",
      "-38593512.0\n",
      "-38522028.0\n",
      "-38163336.0\n",
      "-38428864.0\n",
      "-38495272.0\n",
      "-38639688.0\n",
      "-38676644.0\n",
      "-38378208.0\n",
      "-38648480.0\n",
      "-38227760.0\n",
      "-38686728.0\n",
      "-38705388.0\n",
      "-38460500.0\n",
      "-38693784.0\n",
      "-38662616.0\n",
      "-37538216.0\n",
      "-38584340.0\n",
      "-38718488.0\n",
      "-38229048.0\n",
      "-38670800.0\n",
      "-38705716.0\n",
      "-38710808.0\n",
      "-38646204.0\n",
      "-38534140.0\n",
      "-37948556.0\n",
      "-38728172.0\n",
      "-38504628.0\n",
      "-38554016.0\n",
      "-38733428.0\n",
      "-38737132.0\n",
      "-38682468.0\n",
      "-38488872.0\n",
      "-38761296.0\n",
      "-38709180.0\n",
      "-37743896.0\n",
      "-38716328.0\n",
      "-38756300.0\n",
      "-38319732.0\n",
      "-38299552.0\n",
      "-38697724.0\n",
      "-38718876.0\n",
      "-38591900.0\n",
      "-38766604.0\n",
      "-38481628.0\n",
      "-38090088.0\n",
      "-38691544.0\n",
      "-38751748.0\n",
      "-38750324.0\n",
      "-38525164.0\n",
      "-38583660.0\n",
      "-38590188.0\n",
      "-38323184.0\n",
      "-38741632.0\n",
      "-38780064.0\n",
      "-38769708.0\n",
      "-38335528.0\n",
      "-38780188.0\n",
      "-37936408.0\n",
      "-38704912.0\n",
      "-38416600.0\n",
      "-38783276.0\n",
      "-38730436.0\n",
      "-37951520.0\n",
      "-38698604.0\n",
      "-38776148.0\n",
      "-38710984.0\n",
      "-37501956.0\n",
      "-38783492.0\n",
      "-38625632.0\n",
      "-38603224.0\n",
      "-38695348.0\n",
      "-38721752.0\n",
      "-38446936.0\n",
      "-38496256.0\n",
      "-38685756.0\n",
      "-38779808.0\n",
      "-38662268.0\n",
      "-38741152.0\n",
      "-38782048.0\n",
      "-38661916.0\n",
      "-38775480.0\n",
      "-38782036.0\n",
      "-38786548.0\n",
      "-38633704.0\n",
      "-38785212.0\n",
      "-38785672.0\n",
      "-38618236.0\n",
      "-37249920.0\n",
      "-38726272.0\n",
      "-38715796.0\n",
      "-38779468.0\n",
      "-38732508.0\n",
      "-37156556.0\n",
      "-38742824.0\n",
      "-38773428.0\n",
      "-38451412.0\n",
      "-38499260.0\n",
      "-38770920.0\n",
      "-38777184.0\n",
      "-38742640.0\n",
      "-38657668.0\n",
      "-38783160.0\n",
      "-38565776.0\n",
      "-38738004.0\n",
      "-38758676.0\n",
      "-38739712.0\n",
      "-38749720.0\n",
      "-38723152.0\n",
      "-38583268.0\n",
      "-38608128.0\n",
      "-37306560.0\n",
      "-38781620.0\n",
      "-36527312.0\n",
      "-38782124.0\n",
      "-38773372.0\n",
      "-38458548.0\n",
      "-38471684.0\n",
      "-38762412.0\n",
      "-38627664.0\n",
      "-38424852.0\n",
      "-38402872.0\n",
      "-38664548.0\n",
      "-38635104.0\n",
      "-38768816.0\n",
      "-38744484.0\n",
      "-38474912.0\n",
      "-38780144.0\n",
      "-38776168.0\n",
      "-38596352.0\n",
      "-38456772.0\n",
      "-38641024.0\n",
      "-38778128.0\n",
      "-38748320.0\n",
      "-38703648.0\n",
      "-38609064.0\n",
      "-38040040.0\n",
      "-38625044.0\n",
      "-38321488.0\n",
      "-38608712.0\n",
      "-38735796.0\n",
      "-38427348.0\n",
      "-38734864.0\n",
      "-38724904.0\n",
      "-38520772.0\n",
      "-38782820.0\n",
      "-38760752.0\n",
      "-38508556.0\n",
      "-38349616.0\n",
      "-38783752.0\n",
      "-38770460.0\n",
      "-38521396.0\n",
      "-38748964.0\n",
      "-38580820.0\n",
      "-38768064.0\n",
      "-38493196.0\n",
      "-38710816.0\n",
      "-38772028.0\n",
      "-38784300.0\n",
      "-38785508.0\n",
      "-37901140.0\n",
      "-38528124.0\n",
      "-38710620.0\n",
      "-38601004.0\n",
      "-38621596.0\n",
      "-37548152.0\n",
      "-38781672.0\n",
      "-38738624.0\n",
      "-38029208.0\n",
      "-38762420.0\n",
      "-38732912.0\n",
      "-38563800.0\n",
      "-38774708.0\n",
      "-38551836.0\n",
      "-38716960.0\n",
      "-38684788.0\n",
      "-38663716.0\n",
      "-38616896.0\n",
      "-38413180.0\n",
      "-38458296.0\n",
      "-38686076.0\n",
      "-38734688.0\n",
      "-38773552.0\n",
      "-38025576.0\n",
      "-38345064.0\n",
      "-38586332.0\n",
      "-37709548.0\n",
      "-38687816.0\n",
      "-37662032.0\n",
      "-38742144.0\n",
      "-38720584.0\n",
      "-38657128.0\n",
      "-38762736.0\n",
      "-38739920.0\n",
      "-38744144.0\n",
      "-38761256.0\n",
      "-38709576.0\n",
      "-38323500.0\n",
      "-38546620.0\n",
      "-38734180.0\n",
      "-38716800.0\n",
      "-38770948.0\n",
      "-38778088.0\n",
      "-38773800.0\n",
      "-38715504.0\n",
      "-38634532.0\n",
      "-38768252.0\n",
      "-38757944.0\n",
      "-38544064.0\n",
      "-38480544.0\n",
      "-37971744.0\n",
      "-38607020.0\n",
      "-38588120.0\n",
      "-38717644.0\n",
      "-38609748.0\n",
      "-37972636.0\n",
      "-38692508.0\n",
      "-38667596.0\n",
      "-38658696.0\n",
      "-38772264.0\n",
      "-38465156.0\n",
      "-38635848.0\n",
      "-38479768.0\n",
      "-38483424.0\n",
      "-38719192.0\n",
      "-37980152.0\n",
      "-38546424.0\n",
      "-38166728.0\n",
      "-38729788.0\n",
      "-38758944.0\n",
      "-38772596.0\n",
      "-37823728.0\n",
      "-38566712.0\n",
      "-38388844.0\n",
      "-38765096.0\n",
      "-38692320.0\n",
      "-37275884.0\n",
      "-38678592.0\n",
      "-38753912.0\n",
      "-38784192.0\n",
      "-38753380.0\n",
      "-38775192.0\n",
      "-37908244.0\n",
      "-37714936.0\n",
      "-38196840.0\n",
      "-38783948.0\n",
      "-38311968.0\n",
      "-38778380.0\n",
      "-38515444.0\n",
      "-38692636.0\n",
      "-38300692.0\n",
      "-38605376.0\n",
      "-38591520.0\n",
      "-38281732.0\n",
      "-38780076.0\n",
      "-38677092.0\n",
      "-38780512.0\n",
      "-37908240.0\n",
      "-38743256.0\n",
      "-38499252.0\n",
      "-38593356.0\n",
      "-38721668.0\n",
      "-38767136.0\n",
      "-38762424.0\n",
      "-38693576.0\n",
      "-38443008.0\n",
      "-38759964.0\n",
      "-38657288.0\n",
      "-38665964.0\n",
      "-38621900.0\n",
      "-37551136.0\n",
      "-37903572.0\n",
      "-38365436.0\n",
      "-38636328.0\n",
      "-38583336.0\n",
      "-38616468.0\n",
      "-38602820.0\n",
      "-38570284.0\n",
      "-38167044.0\n",
      "-38657700.0\n",
      "-38746452.0\n",
      "-38575872.0\n",
      "-38744160.0\n",
      "-38759840.0\n",
      "-38664420.0\n",
      "-38718452.0\n",
      "-38496188.0\n",
      "-38739408.0\n",
      "-38745148.0\n",
      "-38751068.0\n",
      "-38474620.0\n",
      "-38590664.0\n",
      "-38643416.0\n",
      "-38582484.0\n",
      "-38780612.0\n",
      "-38690616.0\n",
      "-38765100.0\n",
      "-38767984.0\n",
      "-38037504.0\n",
      "-38599396.0\n",
      "-38708576.0\n",
      "-38779200.0\n",
      "-38093832.0\n",
      "-38741468.0\n",
      "-38784420.0\n",
      "-38559100.0\n",
      "-38446864.0\n",
      "-38742404.0\n",
      "-38710232.0\n",
      "-38377832.0\n",
      "-38285188.0\n",
      "-38431616.0\n",
      "-38734052.0\n",
      "-38768100.0\n",
      "-38782752.0\n",
      "-38764804.0\n",
      "-38468972.0\n",
      "-38502772.0\n",
      "-38782832.0\n",
      "-38259192.0\n",
      "-38757840.0\n",
      "-38765880.0\n",
      "-38662476.0\n",
      "-38776344.0\n",
      "-38688052.0\n",
      "-38747556.0\n",
      "-38725360.0\n",
      "-38534704.0\n",
      "-38618216.0\n",
      "-38751052.0\n",
      "-38526736.0\n",
      "-38757604.0\n",
      "-38568780.0\n",
      "-38595872.0\n",
      "-38756060.0\n",
      "-38145984.0\n",
      "-38774620.0\n",
      "-38770796.0\n",
      "-38568696.0\n",
      "-38274084.0\n",
      "-38781880.0\n",
      "-38050656.0\n",
      "-38422856.0\n",
      "-38475636.0\n",
      "-38765808.0\n",
      "-38737440.0\n",
      "-38707972.0\n",
      "-38774840.0\n",
      "-38513692.0\n",
      "-38755256.0\n",
      "-38695480.0\n",
      "-38783516.0\n",
      "-38742392.0\n",
      "-38745504.0\n",
      "-38631972.0\n",
      "-38631420.0\n",
      "-38735524.0\n",
      "-38725732.0\n",
      "-38729020.0\n",
      "-38258688.0\n",
      "-38768960.0\n",
      "-38134756.0\n",
      "-37790884.0\n",
      "-38670200.0\n",
      "-38724116.0\n",
      "-38313296.0\n",
      "-38617080.0\n",
      "-38691792.0\n",
      "-38184368.0\n",
      "-38762420.0\n",
      "-38738268.0\n",
      "-38682352.0\n",
      "-38613036.0\n",
      "-38607760.0\n",
      "-38520468.0\n",
      "-38362032.0\n",
      "-38448564.0\n",
      "-38761460.0\n",
      "-38270276.0\n",
      "-38673636.0\n",
      "-38753096.0\n",
      "-38778844.0\n",
      "-38490620.0\n",
      "-38776084.0\n",
      "-38775972.0\n",
      "-38780160.0\n",
      "-38742148.0\n",
      "-38775628.0\n",
      "-38663184.0\n",
      "-38008896.0\n",
      "-38677056.0\n",
      "-38717848.0\n",
      "-38212540.0\n",
      "-38512484.0\n",
      "-38781144.0\n",
      "-38624092.0\n",
      "-38626780.0\n",
      "-38776732.0\n",
      "-38336264.0\n",
      "-38687132.0\n",
      "-38600560.0\n",
      "-38723336.0\n",
      "-38751004.0\n",
      "-38745532.0\n",
      "-38761936.0\n",
      "-38730640.0\n",
      "-38786968.0\n",
      "-38776952.0\n",
      "-38755188.0\n",
      "-38781424.0\n",
      "-38772116.0\n",
      "-38781324.0\n",
      "-38674548.0\n",
      "-38759904.0\n",
      "-38787044.0\n",
      "-38409032.0\n",
      "-38740336.0\n",
      "-38729220.0\n",
      "-38717912.0\n",
      "-38779832.0\n",
      "-38772304.0\n",
      "-38408620.0\n",
      "-38758668.0\n",
      "-38745064.0\n",
      "-38549480.0\n",
      "-38473564.0\n",
      "-38726872.0\n",
      "-38718020.0\n",
      "-38754936.0\n",
      "-38776572.0\n",
      "-38680340.0\n",
      "-38749280.0\n",
      "-38778196.0\n",
      "-38748356.0\n",
      "-38770836.0\n",
      "-38405116.0\n",
      "-38739152.0\n",
      "-38786948.0\n",
      "-38104920.0\n",
      "-38765680.0\n",
      "-38736572.0\n"
     ],
     "output_type": "stream"
    }
   ],
   "source": [
    "pyro.clear_param_store()\n",
    "losses = []\n",
    "for i in range(500):\n",
    "    loss = svi.step(inp, tail = 1, K = 1)\n",
    "    losses.append(loss)\n",
    "    #plot_results(inp, tail = True)\n",
    "    if i % 100:\n",
    "        print(loss, end='\\n')"
   ]
  },
  {
   "cell_type": "code",
   "execution_count": 14,
   "id": "convinced-toner",
   "metadata": {
    "pycharm": {
     "is_executing": false
    }
   },
   "outputs": [
    {
     "data": {
      "text/plain": "<Figure size 432x288 with 1 Axes>",
      "image/png": "[encoded data removed]"
     },
     "metadata": {
      "needs_background": "light"
     },
     "output_type": "display_data"
    }
   ],
   "source": [
    "plt.plot(losses)\n",
    "plt.xlabel('iters')\n",
    "plt.ylabel('loss')\n",
    "plt.title('Convergence of SVI');"
   ]
  },
  {
   "cell_type": "code",
   "execution_count": 15,
   "id": "connected-parameter",
   "metadata": {
    "pycharm": {
     "is_executing": false
    }
   },
   "outputs": [],
   "source": [
    "from scipy.stats import beta,pareto\n",
    "import matplotlib.patches as mpatches\n",
    "\n",
    "plt.rcParams[\"figure.figsize\"] = (10,8)\n",
    "\n",
    "def plot_results(data, bins = 50, tail = True):\n",
    "    \n",
    "    fig, axs = plt.subplots(3)\n",
    "    idx1 = 0\n",
    "    idx2 = 0\n",
    "    for i,kr in enumerate(data):\n",
    "        \n",
    "        axs[i].hist(data[kr].detach().numpy(), bins=bins, density=True, alpha=0.48)\n",
    "        xmin, xmax = plt.xlim()\n",
    "        karyos = list(data.keys())\n",
    "        major = [int(str(i).split(\":\")[0]) for i in karyos]\n",
    "        minor = [int(str(i).split(\":\")[1]) for i in karyos]\n",
    "        theoretical_num_clones = [1 if (mn == 0 or mn == mj) else 2 for mj,mn in zip(major,minor)]\n",
    "        assignment_probs = pyro.param('param_weights_{}'.format(theoretical_num_clones[i])).detach().numpy()\n",
    "        if tail:\n",
    "            tail_probs = pyro.param('param_tail_weights').detach().numpy()\n",
    "\n",
    "        \n",
    "        for j in range(assignment_probs.shape[1]):\n",
    "            if theoretical_num_clones[i] == 1:\n",
    "                b1 = pyro.param('b_1') \n",
    "                a1 = pyro.param('a_1') \n",
    "                beta_mean = a1[j,idx1].detach().numpy()\n",
    "                beta_samples = b1[j,idx1].detach().numpy()\n",
    "                iw = idx1\n",
    "                cl = \"tab:green\" if j < 1 else \"tab:red\"\n",
    "                \n",
    "            else:\n",
    "                b2 = pyro.param('b_2') \n",
    "                a2 = pyro.param('a_2') \n",
    "                beta_mean = a2[j,idx2].detach().numpy()\n",
    "                beta_samples = b2[j,idx2].detach().numpy()\n",
    "                iw = idx2\n",
    "                cl = \"tab:green\" if j < 2 else \"tab:red\"\n",
    "             \n",
    "            x = np.linspace(0.05, 1, 200)\n",
    "            if tail:\n",
    "                p = beta.pdf(x, beta_mean * beta_samples, (1 - beta_mean) * beta_samples) * assignment_probs[iw,j] * tail_probs[i,1]\n",
    "            else:\n",
    "                p = beta.pdf(x, beta_mean * beta_samples, (1 - beta_mean) * beta_samples) * assignment_probs[iw,j] \n",
    "\n",
    "            axs[i].plot(x, p, linewidth=3, color = cl)\n",
    "        if tail:\n",
    "            alpha = pyro.param('ap'.format(i)).detach().numpy()\n",
    "            x = np.linspace(0.05, 1, 200)\n",
    "            p = pareto.pdf(x,alpha,scale = torch.min(data[kr])) * tail_probs[i,0]\n",
    "            axs[i].plot(x, p, linewidth=3, color = \"tab:pink\")\n",
    "        if theoretical_num_clones[i] == 1:\n",
    "            idx1+=1\n",
    "        else:\n",
    "            idx2+=1\n",
    "    pink_patch = mpatches.Patch(color='tab:pink', label='Tail')\n",
    "    red_patch = mpatches.Patch(color='tab:red', label='Subclonal')\n",
    "    green_patch = mpatches.Patch(color='tab:green', label='Clonal')\n",
    "\n",
    "    plt.legend(handles = [pink_patch,red_patch, green_patch ])\n",
    "\n",
    "        \n",
    "    plt.savefig(\"results1.png\", dpi = 300)"
   ]
  },
  {
   "cell_type": "code",
   "execution_count": 16,
   "id": "simplified-printer",
   "metadata": {
    "pycharm": {
     "is_executing": false
    }
   },
   "outputs": [
    {
     "data": {
      "text/plain": "<Figure size 720x576 with 3 Axes>",
      "image/png": "[encoded data removed]"
     },
     "metadata": {
      "needs_background": "light"
     },
     "output_type": "display_data"
    }
   ],
   "source": [
    "plot_results(inp, tail = True, bins = 60)"
   ]
  },
  {
   "cell_type": "code",
   "execution_count": 12,
   "id": "assisted-cycle",
   "metadata": {
    "pycharm": {
     "is_executing": false
    }
   },
   "outputs": [],
   "source": [
    "#run(model, inp, N_warm = 0)"
   ]
  },
  {
   "cell_type": "code",
   "execution_count": 17,
   "id": "postal-tuition",
   "metadata": {
    "pycharm": {
     "is_executing": false
    }
   },
   "outputs": [
    {
     "data": {
      "text/plain": "tensor([[0.8484, 0.1516],\n        [0.8627, 0.1373]], grad_fn=<DivBackward0>)"
     },
     "metadata": {},
     "output_type": "execute_result",
     "execution_count": 17
    }
   ],
   "source": [
    "pyro.param('param_weights_1') "
   ]
  },
  {
   "cell_type": "code",
   "execution_count": 18,
   "id": "pregnant-volume",
   "metadata": {
    "pycharm": {
     "is_executing": false
    }
   },
   "outputs": [
    {
     "data": {
      "text/plain": "tensor(1.5720, grad_fn=<AddBackward0>)"
     },
     "metadata": {},
     "output_type": "execute_result",
     "execution_count": 18
    }
   ],
   "source": [
    "pyro.param('ap') "
   ]
  },
  {
   "cell_type": "code",
   "execution_count": 19,
   "id": "furnished-narrative",
   "metadata": {
    "pycharm": {
     "is_executing": false
    }
   },
   "outputs": [
    {
     "data": {
      "text/plain": "(array([8.780e+02, 4.870e+02, 3.110e+02, 8.150e+02, 3.102e+03, 3.880e+02,\n        5.000e+00, 3.000e+00, 2.000e+00, 8.000e+00]),\n array([0.04404505, 0.13954054, 0.23503605, 0.33053154, 0.42602703,\n        0.5215225 , 0.61701804, 0.7125135 , 0.808009  , 0.9035045 ,\n        0.999     ], dtype=float32),\n <BarContainer object of 10 artists>)"
     },
     "metadata": {},
     "output_type": "execute_result",
     "execution_count": 19
    },
    {
     "data": {
      "text/plain": "<Figure size 720x576 with 1 Axes>",
      "image/png": "[encoded data removed]"
     },
     "metadata": {
      "needs_background": "light"
     },
     "output_type": "display_data"
    }
   ],
   "source": [
    "plt.hist(inp[\"1:1\"].detach().numpy())"
   ]
  },
  {
   "cell_type": "code",
   "execution_count": 20,
   "id": "challenging-satin",
   "metadata": {
    "pycharm": {
     "is_executing": false
    }
   },
   "outputs": [
    {
     "data": {
      "text/plain": "{'ap': tensor(1.5720, grad_fn=<AddBackward0>),\n 'param_tail_weights': tensor([[0.1954, 0.8046],\n         [0.1733, 0.8267],\n         [0.2464, 0.7536]], grad_fn=<DivBackward0>),\n 'param_weights_2': tensor([[0.2116, 0.5541, 0.2342]], grad_fn=<DivBackward0>),\n 'param_weights_1': tensor([[0.8484, 0.1516],\n         [0.8627, 0.1373]], grad_fn=<DivBackward0>),\n 'a_1': tensor([[0.9051, 0.4642],\n         [0.4437, 0.2266]], dtype=torch.float64, grad_fn=<ClampBackward>),\n 'b_1': tensor([[ 64.1880, 135.4739],\n         [ 77.2097, 112.3022]], grad_fn=<AddBackward0>),\n 'a_2': tensor([[0.6408],\n         [0.3120],\n         [0.1475]], grad_fn=<ClampBackward>),\n 'b_2': tensor([[159.9687],\n         [217.0518],\n         [203.2849]], grad_fn=<AddBackward0>)}"
     },
     "metadata": {},
     "output_type": "execute_result",
     "execution_count": 20
    }
   ],
   "source": [
    "param_names = pyro.get_param_store()\n",
    "res = {nms: pyro.param(nms) for nms in param_names}\n",
    "res"
   ]
  },
  {
   "cell_type": "code",
   "execution_count": 17,
   "outputs": [],
   "source": [
    "\n",
    "def compute_likelihood_from_params_tail(data, params, i, theo_clones, counts_clone):\n",
    "    j = counts_clone[i]\n",
    "    if theo_clones[i] == 2:\n",
    "        beta = beta_lk(params['a_2'][:,j] * params['b_2'][:,j],\n",
    "                       (1 - params['a_2'][:,j]) * params['b_2'][:, j],\n",
    "                       params['param_weights_{}'.format(theo_clones[i])][j, :],\n",
    "                       len(params['a_2'][:, j]),\n",
    "                       data)\n",
    "        pareto = dist.Pareto(torch.min(data) - 1e-5, params['ap']).log_prob(data)\n",
    "        lk = final_lk(pareto, beta, params['param_tail_weights'][i, :])\n",
    "    else:\n",
    "        beta = beta_lk(params['a_1'][:, j] * params['b_1'][:, j],\n",
    "                       (1 - params['a_1'][:, i]) * params['b_1'][:, j],\n",
    "                       params['param_weights_{}'.format(theo_clones[i])][j,:],\n",
    "                       len(params['a_1'][:, j]),\n",
    "                       data)\n",
    "        pareto = dist.Pareto(torch.min(data) - 1e-5, params['ap']).log_prob(data)\n",
    "        lk = final_lk(pareto, beta, params['param_tail_weights'][i, :])\n",
    "    return lk"
   ],
   "metadata": {
    "collapsed": false,
    "pycharm": {
     "name": "#%%\n",
     "is_executing": false
    }
   }
  },
  {
   "cell_type": "code",
   "execution_count": 18,
   "outputs": [
    {
     "traceback": [
      "\u001b[0;31m---------------------------------------------------------------------------\u001b[0m",
      "\u001b[0;31mNameError\u001b[0m                                 Traceback (most recent call last)",
      "\u001b[0;32m<ipython-input-18-456236e80af3>\u001b[0m in \u001b[0;36m<module>\u001b[0;34m\u001b[0m\n\u001b[0;32m----> 1\u001b[0;31m \u001b[0mcompute_likelihood_from_params_tail\u001b[0m\u001b[0;34m(\u001b[0m\u001b[0minp\u001b[0m\u001b[0;34m[\u001b[0m\u001b[0;34m\"2:1\"\u001b[0m\u001b[0;34m]\u001b[0m\u001b[0;34m,\u001b[0m \u001b[0mres\u001b[0m\u001b[0;34m,\u001b[0m \u001b[0;36m2\u001b[0m\u001b[0;34m,\u001b[0m\u001b[0mget_theo_clones\u001b[0m\u001b[0;34m(\u001b[0m\u001b[0minp\u001b[0m\u001b[0;34m)\u001b[0m\u001b[0;34m,\u001b[0m \u001b[0mget_clones_counts\u001b[0m\u001b[0;34m(\u001b[0m\u001b[0mget_theo_clones\u001b[0m\u001b[0;34m(\u001b[0m\u001b[0minp\u001b[0m\u001b[0;34m)\u001b[0m\u001b[0;34m)\u001b[0m\u001b[0;34m)\u001b[0m\u001b[0;34m\u001b[0m\u001b[0;34m\u001b[0m\u001b[0m\n\u001b[0m\u001b[1;32m      2\u001b[0m \u001b[0;34m\u001b[0m\u001b[0m\n",
      "\u001b[0;31mNameError\u001b[0m: name 'get_theo_clones' is not defined"
     ],
     "ename": "NameError",
     "evalue": "name 'get_theo_clones' is not defined",
     "output_type": "error"
    }
   ],
   "source": [
    "compute_likelihood_from_params_tail(inp[\"2:1\"], res, 2,get_theo_clones(inp), get_clones_counts(get_theo_clones(inp)))"
   ],
   "metadata": {
    "collapsed": false,
    "pycharm": {
     "name": "#%%\n",
     "is_executing": false
    }
   }
  },
  {
   "cell_type": "code",
   "execution_count": null,
   "outputs": [],
   "source": [
    "res['param_tail_weights'][0,:]"
   ],
   "metadata": {
    "collapsed": false,
    "pycharm": {
     "name": "#%%\n",
     "is_executing": false
    }
   }
  },
  {
   "cell_type": "code",
   "execution_count": 19,
   "outputs": [],
   "source": [
    "params = res\n"
   ],
   "metadata": {
    "collapsed": false,
    "pycharm": {
     "name": "#%%\n",
     "is_executing": false
    }
   }
  },
  {
   "cell_type": "code",
   "execution_count": 21,
   "outputs": [],
   "source": [
    "def get_clones_counts(theoretical_num_clones):\n",
    "    uniques = list(set(theoretical_num_clones))\n",
    "    uniques = {k : 0 for k in uniques}\n",
    "    res = [None] * len(theoretical_num_clones)\n",
    "    for i in range(len(theoretical_num_clones)):\n",
    "        res[i] = uniques[theoretical_num_clones[i]]\n",
    "        uniques[theoretical_num_clones[i]] += 1\n",
    "    return(res)"
   ],
   "metadata": {
    "collapsed": false,
    "pycharm": {
     "name": "#%%\n",
     "is_executing": false
    }
   }
  },
  {
   "cell_type": "code",
   "execution_count": 22,
   "outputs": [],
   "source": [
    "def get_theo_clones(data):\n",
    "    karyos = list(data.keys())\n",
    "    major = [int(str(i).split(\":\")[0]) for i in karyos]\n",
    "    minor = [int(str(i).split(\":\")[1]) for i in karyos]\n",
    "    theoretical_num_clones = [1 if (mn == 0 or mn == mj) else 2 for mj, mn in zip(major, minor)]\n",
    "    return theoretical_num_clones\n"
   ],
   "metadata": {
    "collapsed": false,
    "pycharm": {
     "name": "#%%\n",
     "is_executing": false
    }
   }
  },
  {
   "cell_type": "code",
   "execution_count": 23,
   "outputs": [],
   "source": [
    "theo_clones = get_clones_counts(get_theo_clones(inp))"
   ],
   "metadata": {
    "collapsed": false,
    "pycharm": {
     "name": "#%%\n",
     "is_executing": false
    }
   }
  },
  {
   "cell_type": "code",
   "execution_count": null,
   "outputs": [],
   "source": [
    "beta = beta_lk(params['a_2'][:,0] * params['b_2'][:,0],\n",
    "                       (1 - params['a_2'][:,0]) * params['b_2'][:, 0],\n",
    "                       params['param_weights_{}'.format(get_theo_clones(inp)[2])][0, :],\n",
    "                       len(params['a_2'][:,0]),\n",
    "                       inp[\"2:1\"])"
   ],
   "metadata": {
    "collapsed": false,
    "pycharm": {
     "name": "#%%\n",
     "is_executing": false
    }
   }
  },
  {
   "cell_type": "code",
   "execution_count": 34,
   "outputs": [
    {
     "name": "stdout",
     "text": [
      "torch.Size([3, 518])\n",
      "torch.Size([3, 5999])\n",
      "torch.Size([4, 155])\n"
     ],
     "output_type": "stream"
    },
    {
     "data": {
      "text/plain": "{'ap': tensor(1.5720, grad_fn=<AddBackward0>),\n 'param_tail_weights': tensor([[0.1954, 0.8046],\n         [0.1733, 0.8267],\n         [0.2464, 0.7536]], grad_fn=<DivBackward0>),\n 'param_weights_2': tensor([[0.2116, 0.5541, 0.2342]], grad_fn=<DivBackward0>),\n 'param_weights_1': tensor([[0.8484, 0.1516],\n         [0.8627, 0.1373]], grad_fn=<DivBackward0>),\n 'a_1': tensor([[0.9051, 0.4642],\n         [0.4437, 0.2266]], dtype=torch.float64, grad_fn=<ClampBackward>),\n 'b_1': tensor([[ 64.1880, 135.4739],\n         [ 77.2097, 112.3022]], grad_fn=<AddBackward0>),\n 'a_2': tensor([[0.6408],\n         [0.3120],\n         [0.1475]], grad_fn=<ClampBackward>),\n 'b_2': tensor([[159.9687],\n         [217.0518],\n         [203.2849]], grad_fn=<AddBackward0>),\n 'posteriors': {'1:0': tensor([[3.5018e-02, 3.0426e-02, 3.9042e-02,  ..., 6.5347e-04, 4.1045e-04,\n           4.2288e-04],\n          [7.4760e-10, 5.4476e-15, 8.3559e-16,  ..., 9.9935e-01, 9.9959e-01,\n           9.9958e-01],\n          [9.6498e-01, 9.6957e-01, 9.6096e-01,  ..., 2.4709e-34, 1.3652e-25,\n           1.0799e-24]], grad_fn=<ExpBackward>),\n  '1:1': tensor([[2.1792e-03, 9.9951e-01, 1.0000e+00,  ..., 2.1996e-01, 1.0000e+00,\n           2.1724e-03],\n          [9.9782e-01, 2.2296e-26, 8.5942e-42,  ..., 3.4271e-02, 2.4286e-39,\n           9.9783e-01],\n          [1.9147e-08, 4.8927e-04, 2.1989e-09,  ..., 7.4577e-01, 1.7381e-08,\n           1.3682e-07]], grad_fn=<ExpBackward>),\n  '2:1': tensor([[9.9933e-01, 1.0000e+00, 9.9961e-01, 1.0000e+00, 9.9978e-01, 9.9430e-01,\n           1.0000e+00, 7.2633e-02, 5.6484e-02, 5.7790e-01, 1.7332e-02, 9.7469e-01,\n           1.3652e-01, 9.9993e-01, 9.9999e-01, 1.1212e-02, 2.4663e-01, 1.0000e+00,\n           1.0000e+00, 9.9998e-01, 9.9905e-01, 1.6607e-02, 4.2894e-02, 2.8405e-01,\n           1.0000e+00, 2.4765e-02, 1.2779e-02, 7.5797e-01, 4.8508e-02, 1.2931e-01,\n           1.9629e-02, 2.0024e-02, 1.5993e-01, 2.0887e-01, 1.3172e-02, 9.9997e-01,\n           1.1201e-02, 1.8681e-02, 1.1391e-02, 3.4676e-01, 1.2819e-02, 1.4369e-02,\n           1.2654e-01, 9.8656e-01, 1.4647e-02, 9.9991e-01, 1.1256e-02, 1.2836e-02,\n           1.3403e-02, 1.1296e-02, 1.5919e-02, 1.2611e-02, 7.0658e-02, 1.0000e+00,\n           2.6192e-01, 1.1908e-02, 1.2512e-02, 3.8076e-02, 4.8592e-02, 1.1453e-02,\n           2.0736e-01, 1.4111e-02, 2.8019e-02, 1.1312e-02, 1.4544e-02, 3.0423e-01,\n           1.1451e-02, 1.2513e-02, 1.2449e-01, 1.2436e-01, 7.5797e-01, 1.6895e-01,\n           2.0736e-01, 9.2070e-01, 5.6995e-03, 9.9612e-01, 5.7517e-03, 5.8602e-02,\n           6.0473e-03, 1.1157e-02, 1.3486e-01, 1.4312e-01, 1.3624e-02, 3.3266e-02,\n           1.6916e-02, 1.9792e-02, 1.2672e-01, 1.2969e-02, 5.7659e-03, 1.0952e-02,\n           1.3430e-01, 5.6583e-03, 6.3515e-03, 9.9750e-01, 5.5824e-03, 2.1848e-02,\n           7.0078e-03, 2.0473e-01, 9.4309e-03, 1.3812e-02, 1.6510e-01, 1.0000e+00,\n           1.3745e-02, 1.4751e-01, 5.6601e-03, 1.7303e-01, 7.0069e-02, 1.2938e-01,\n           1.5357e-02, 1.1161e-02, 1.8227e-02, 2.1061e-02, 1.2713e-01, 9.2317e-03,\n           6.6382e-03, 1.2819e-02, 9.9612e-01, 4.7187e-02, 1.3712e-01, 2.6354e-01,\n           5.7909e-02, 1.1641e-02, 9.9974e-01, 7.7318e-02, 1.3082e-01, 8.4533e-03,\n           5.5756e-03, 1.2780e-02, 1.2261e-02, 1.2512e-02, 1.7136e-02, 1.2442e-01,\n           9.9924e-01, 1.1567e-02, 4.4680e-02, 1.6181e-02, 1.5317e-01, 5.5994e-03,\n           1.1165e-02, 6.9800e-03, 1.4342e-02, 1.4796e-02, 5.9246e-03, 4.0592e-02,\n           1.3572e-02, 1.1866e-02, 9.9337e-01, 5.2897e-01, 3.1040e-01, 6.6744e-03,\n           1.0000e+00, 1.0711e-01, 3.7059e-01, 6.0390e-03, 7.1052e-01],\n          [0.0000e+00, 0.0000e+00, 0.0000e+00, 0.0000e+00, 0.0000e+00, 0.0000e+00,\n           0.0000e+00, 7.3799e-23, 2.1773e-22, 0.0000e+00, 1.7702e-19, 0.0000e+00,\n           1.4013e-45, 0.0000e+00, 0.0000e+00, 5.2991e-16, 0.0000e+00, 0.0000e+00,\n           0.0000e+00, 0.0000e+00, 0.0000e+00, 2.5326e-19, 7.7052e-22, 2.5026e-33,\n           0.0000e+00, 1.4570e-20, 4.3940e-18, 0.0000e+00, 4.3266e-22, 1.2614e-40,\n           1.0092e-12, 5.8933e-20, 0.0000e+00, 0.0000e+00, 2.8722e-18, 0.0000e+00,\n           1.2325e-16, 6.9193e-13, 5.0754e-17, 3.9382e-32, 1.4854e-14, 6.2976e-14,\n           2.7789e-41, 0.0000e+00, 8.2879e-19, 0.0000e+00, 6.8769e-16, 1.5153e-14,\n           2.2904e-18, 8.3059e-16, 1.7762e-13, 5.3746e-18, 8.2874e-23, 0.0000e+00,\n           7.8516e-34, 1.5088e-17, 1.0190e-14, 1.3779e-21, 4.2935e-22, 4.1900e-17,\n           2.1123e-35, 5.1378e-14, 1.0513e-11, 6.7798e-17, 7.1895e-14, 0.0000e+00,\n           1.4407e-15, 6.0830e-18, 6.2498e-43, 1.1224e-42, 0.0000e+00, 4.6866e-37,\n           2.1123e-35, 0.0000e+00, 9.9430e-01, 0.0000e+00, 9.9425e-01, 1.8515e-22,\n           9.9395e-01, 2.5548e-16, 1.4013e-45, 0.0000e+00, 1.8710e-18, 2.7808e-11,\n           2.1657e-19, 9.8021e-01, 7.7216e-24, 9.8703e-01, 9.9423e-01, 9.8905e-01,\n           1.4013e-45, 9.9434e-01, 9.9365e-01, 0.0000e+00, 9.9442e-01, 3.2370e-20,\n           9.9299e-01, 0.0000e+00, 9.9057e-01, 3.9999e-14, 0.0000e+00, 0.0000e+00,\n           1.6807e-18, 0.0000e+00, 9.9434e-01, 7.6713e-37, 9.2993e-01, 1.3012e-40,\n           5.1624e-19, 1.9825e-16, 5.6985e-13, 4.1436e-20, 4.2039e-44, 9.9077e-01,\n           9.9336e-01, 1.4854e-14, 0.0000e+00, 4.9170e-22, 1.4013e-45, 0.0000e+00,\n           1.9512e-22, 2.5801e-17, 0.0000e+00, 1.5264e-09, 7.0065e-45, 9.9155e-01,\n           9.9442e-01, 1.4193e-14, 7.2081e-15, 1.0190e-14, 3.4253e-13, 2.1454e-42,\n           0.0000e+00, 1.9787e-15, 9.5532e-01, 3.1838e-19, 0.0000e+00, 9.9440e-01,\n           1.8128e-16, 9.9302e-01, 6.1692e-14, 8.6240e-14, 9.9408e-01, 7.8896e-11,\n           3.2266e-14, 3.7586e-15, 0.0000e+00, 0.0000e+00, 0.0000e+00, 9.9333e-01,\n           0.0000e+00, 8.9289e-01, 0.0000e+00, 9.9396e-01, 0.0000e+00],\n          [2.8266e-25, 6.2266e-32, 5.6461e-26, 3.4510e-34, 9.8093e-27, 2.5477e-22,\n           1.2017e-33, 9.2651e-01, 9.4309e-01, 1.2960e-14, 9.8266e-01, 4.1412e-20,\n           6.1410e-09, 3.3297e-28, 3.0903e-31, 9.8879e-01, 1.3262e-11, 1.5626e-33,\n           2.0316e-35, 8.8123e-30, 8.4328e-25, 9.8339e-01, 9.5692e-01, 1.7669e-03,\n           2.0316e-35, 9.7521e-01, 9.8722e-01, 4.4310e-16, 9.5122e-01, 1.2145e-06,\n           9.8037e-01, 9.7997e-01, 6.9207e-10, 5.2034e-11, 9.8683e-01, 3.8278e-29,\n           9.8880e-01, 9.8132e-01, 9.8861e-01, 5.5049e-03, 9.8718e-01, 9.8563e-01,\n           6.1896e-07, 4.5295e-21, 9.8535e-01, 6.7877e-28, 9.8874e-01, 9.8716e-01,\n           9.8660e-01, 9.8870e-01, 9.8408e-01, 9.8739e-01, 9.2854e-01, 2.0337e-33,\n           1.0874e-03, 9.8809e-01, 9.8749e-01, 9.6180e-01, 9.5114e-01, 9.8855e-01,\n           2.3426e-04, 9.8589e-01, 9.7198e-01, 9.8869e-01, 9.8546e-01, 2.6109e-12,\n           9.8855e-01, 9.8749e-01, 1.1288e-07, 1.4702e-07, 4.4310e-16, 4.5247e-05,\n           2.3426e-04, 3.0118e-18, 3.5859e-21, 7.2305e-23, 1.5089e-23, 9.4093e-01,\n           3.4611e-20, 9.8884e-01, 7.6911e-09, 2.8676e-09, 9.8638e-01, 9.6673e-01,\n           9.8308e-01, 2.6543e-14, 8.6957e-01, 1.0004e-15, 6.4139e-21, 2.1230e-16,\n           8.3377e-09, 3.8386e-23, 1.2108e-19, 1.7649e-23, 1.6416e-22, 9.7814e-01,\n           8.3901e-26, 6.1877e-11, 4.4980e-17, 9.8619e-01, 4.8637e-10, 1.7261e-34,\n           9.8625e-01, 1.8752e-09, 3.7462e-23, 5.6048e-05, 1.1087e-34, 1.2315e-06,\n           9.8464e-01, 9.8884e-01, 9.8177e-01, 9.7893e-01, 3.3270e-08, 1.4332e-27,\n           3.0670e-19, 9.8718e-01, 7.2305e-23, 9.5257e-01, 5.6853e-09, 7.8765e-12,\n           9.4164e-01, 9.8836e-01, 1.6736e-26, 9.2268e-01, 1.4656e-08, 1.2414e-17,\n           2.7454e-22, 9.8722e-01, 9.8774e-01, 9.8749e-01, 9.8286e-01, 1.9666e-07,\n           4.2508e-25, 9.8843e-01, 2.0530e-33, 9.8382e-01, 1.1540e-09, 9.0232e-22,\n           9.8883e-01, 9.0168e-26, 9.8566e-01, 9.8520e-01, 1.8285e-20, 9.5941e-01,\n           9.8643e-01, 9.8813e-01, 4.1804e-22, 3.0267e-14, 2.2409e-12, 3.4120e-19,\n           2.3414e-35, 3.1313e-10, 5.7767e-13, 3.3269e-20, 1.1703e-15],\n          [6.6790e-04, 3.3904e-06, 3.9373e-04, 5.0745e-07, 2.1997e-04, 5.7049e-03,\n           8.0413e-07, 8.6185e-04, 4.2200e-04, 4.2210e-01, 5.0140e-06, 2.5310e-02,\n           8.6348e-01, 6.9836e-05, 6.0303e-06, 2.9600e-08, 7.5337e-01, 8.8568e-07,\n           1.7681e-07, 1.9786e-05, 9.5204e-04, 3.9664e-06, 1.8246e-04, 7.1418e-01,\n           1.7681e-07, 2.5945e-05, 6.2261e-07, 2.4203e-01, 2.6766e-04, 8.7069e-01,\n           2.8565e-10, 1.0320e-05, 8.4007e-01, 7.9113e-01, 8.1898e-07, 3.3066e-05,\n           7.4157e-08, 3.5875e-10, 1.3013e-07, 6.4773e-01, 3.7304e-09, 1.5381e-09,\n           8.7346e-01, 1.3439e-02, 1.8316e-06, 8.9121e-05, 2.5137e-08, 3.6848e-09,\n           9.4784e-07, 2.2336e-08, 8.1768e-10, 5.4690e-07, 7.9854e-04, 9.7565e-07,\n           7.3699e-01, 2.8205e-07, 4.7059e-09, 1.2401e-04, 2.6905e-04, 1.4700e-07,\n           7.9241e-01, 1.7420e-09, 6.9969e-11, 1.0828e-07, 1.4187e-09, 6.9577e-01,\n           1.5835e-08, 5.0505e-07, 8.7551e-01, 8.7564e-01, 2.4203e-01, 8.3100e-01,\n           7.9241e-01, 7.9299e-02, 0.0000e+00, 3.8809e-03, 0.0000e+00, 4.6978e-04,\n           2.8026e-45, 4.6812e-08, 8.6514e-01, 8.5688e-01, 1.0804e-06, 3.9133e-11,\n           4.3942e-06, 7.8209e-37, 3.7112e-03, 7.1478e-39, 0.0000e+00, 7.8236e-40,\n           8.6570e-01, 0.0000e+00, 1.9618e-44, 2.5040e-03, 0.0000e+00, 1.5315e-05,\n           0.0000e+00, 7.9527e-01, 8.5841e-41, 2.0302e-09, 8.3490e-01, 3.9256e-07,\n           1.1580e-06, 8.5249e-01, 0.0000e+00, 8.2692e-01, 0.0000e+00, 8.7062e-01,\n           2.4924e-06, 5.4923e-08, 4.0336e-10, 1.3014e-05, 8.7287e-01, 0.0000e+00,\n           7.2868e-44, 3.7304e-09, 3.8809e-03, 2.4589e-04, 8.6288e-01, 7.3646e-01,\n           4.5379e-04, 2.0019e-07, 2.6296e-04, 3.5662e-12, 8.6918e-01, 1.3773e-41,\n           0.0000e+00, 3.8365e-09, 5.8274e-09, 4.7059e-09, 5.4892e-10, 8.7558e-01,\n           7.6269e-04, 1.2994e-08, 0.0000e+00, 3.4160e-06, 8.4683e-01, 0.0000e+00,\n           5.8113e-08, 0.0000e+00, 1.5577e-09, 1.2696e-09, 1.4013e-45, 2.1008e-11,\n           2.3160e-09, 8.7216e-09, 6.6272e-03, 4.7103e-01, 6.8960e-01, 8.4078e-44,\n           1.8646e-07, 6.2008e-31, 6.2941e-01, 2.8026e-45, 2.8948e-01]],\n         grad_fn=<ExpBackward>)}}"
     },
     "metadata": {},
     "output_type": "execute_result",
     "execution_count": 34
    }
   ],
   "source": [
    "pt = retrieve_posterior_probs(inp, res, 1)\n",
    "pt"
   ],
   "metadata": {
    "collapsed": false,
    "pycharm": {
     "name": "#%%\n",
     "is_executing": false
    }
   }
  },
  {
   "cell_type": "code",
   "execution_count": 30,
   "outputs": [],
   "source": [
    "def retrieve_posterior_probs(data, parameters, tail):\n",
    "    lks = compute_likelihood_from_params(data, parameters, tail, tsum = False)\n",
    "    res = {k : 0 for k in data.keys()}\n",
    "    for k in res:\n",
    "        lks_k = lks[k]\n",
    "        norm_fact = log_sum_exp(lks_k)\n",
    "        res[k] = torch.exp(lks_k - norm_fact)\n",
    "    parameters[\"posteriors\"] = res\n",
    "    return parameters"
   ],
   "metadata": {
    "collapsed": false,
    "pycharm": {
     "name": "#%%\n",
     "is_executing": false
    }
   }
  },
  {
   "cell_type": "code",
   "execution_count": 25,
   "outputs": [],
   "source": [
    "\n",
    "def beta_lk(beta_a, beta_b, weights, K, data):\n",
    "    lk = torch.ones(K, len(data))\n",
    "    if K == 1:\n",
    "        return torch.log(weights) + dist.Beta(beta_a, beta_b).log_prob(data)\n",
    "    for k in range(K):\n",
    "        lk[k, :] = torch.log(weights[k]) + dist.Beta(beta_a[k], beta_b[k]).log_prob(data)\n",
    "    return lk\n",
    "\n",
    "def final_lk(pareto, beta, weights):\n",
    "    lk = torch.ones(1 + beta.shape[0], beta.shape[1])\n",
    "    lk[0, :] = torch.log(weights[0]) + pareto\n",
    "    lk[1:(1 + beta.shape[1]), :] = torch.log(weights[1]) + beta\n",
    "    print(lk.shape)\n",
    "    return lk\n",
    "\n",
    "def compute_likelihood_from_params(data, params, tail, tsum = True):\n",
    "\n",
    "    theoretical_num_clones = get_theo_clones(data)\n",
    "    clones_count = get_clones_counts(theoretical_num_clones)\n",
    "    if tsum:\n",
    "        lk = 0\n",
    "    else :\n",
    "        lk = [None] * len(theoretical_num_clones)\n",
    "    for i,k in enumerate(data):\n",
    "\n",
    "        if tail:\n",
    "            tmp = compute_likelihood_from_params_tail(data[k], params, i, theoretical_num_clones, clones_count)\n",
    "            if tsum:\n",
    "                tmp = log_sum_exp(tmp)\n",
    "                lk += torch.sum(tmp)\n",
    "            else:\n",
    "                lk[i] = tmp\n",
    "\n",
    "        else:\n",
    "            tmp = compute_likelihood_from_params_no_tail(data[k], params, i, theoretical_num_clones, clones_count)\n",
    "            if tsum:\n",
    "                tmp = log_sum_exp(tmp)\n",
    "                lk += torch.sum(tmp)\n",
    "            else:\n",
    "                lk[i] = tmp\n",
    "\n",
    "    if not tsum:\n",
    "        ks = data.keys()\n",
    "        lk = {k:v for k,v in zip(ks, lk)}\n",
    "    return lk\n",
    "\n",
    "\n",
    "\n",
    "def compute_likelihood_from_params_tail(data, params, i, theo_clones, counts_clone):\n",
    "    j = counts_clone[i]\n",
    "    if theo_clones[i] == 2:\n",
    "        beta = beta_lk(params['a_2'][:,j] * params['b_2'][:,j],\n",
    "                       (1 - params['a_2'][:,j]) * params['b_2'][:, j],\n",
    "                       params['param_weights_{}'.format(theo_clones[i])][j, :],\n",
    "                       len(params['a_2'][:, j]),\n",
    "                       data)\n",
    "        pareto = dist.Pareto(torch.min(data) - 1e-5, params['ap']).log_prob(data)\n",
    "        lk = final_lk(pareto, beta, params['param_tail_weights'][i, :])\n",
    "    else:\n",
    "        beta = beta_lk(params['a_1'][:, j] * params['b_1'][:, j],\n",
    "                       (1 - params['a_1'][:, j]) * params['b_1'][:, j],\n",
    "                       params['param_weights_{}'.format(theo_clones[i])][j,:],\n",
    "                       len(params['a_1'][:, j]),\n",
    "                       data)\n",
    "        pareto = dist.Pareto(torch.min(data) - 1e-5, params['ap']).log_prob(data)\n",
    "        lk = final_lk(pareto, beta, params['param_tail_weights'][i, :])\n",
    "    return lk\n",
    "\n",
    "def compute_likelihood_from_params_no_tail(data, params, i, theo_clones, counts_clone):\n",
    "    j = counts_clone[i]\n",
    "    if theo_clones[i] == 2:\n",
    "        lk = beta_lk(params['a_2'][:, j] * params['b_2'][:, j],\n",
    "                       (1 - params['a_2'][:, j]) * params['b_2'][:, j],\n",
    "                       params['param_weights_{}'.format(theo_clones[i])][j, :],\n",
    "                       len(params['a_2'][:, j]),\n",
    "                       data)\n",
    "    else:\n",
    "        lk = beta_lk(params['a_1'][:, j] * params['b_1'][:, j],\n",
    "                       (1 - params['a_1'][:, j]) * params['b_1'][:, j],\n",
    "                       params['param_weights_{}'.format(theo_clones[i])][j, :],\n",
    "                       len(params['a_1'][:, j]),\n",
    "                       data)\n",
    "    return lk\n"
   ],
   "metadata": {
    "collapsed": false,
    "pycharm": {
     "name": "#%%\n",
     "is_executing": false
    }
   }
  },
  {
   "cell_type": "code",
   "execution_count": 43,
   "outputs": [],
   "source": [
    "def format_parameters_for_export(data, params, tail):\n",
    "    res = {k : 0 for k in data.keys()}\n",
    "    theoretical_num_clones = get_theo_clones(data)\n",
    "    clones_count = get_clones_counts(theoretical_num_clones)\n",
    "    for i, k in enumerate(res):\n",
    "        res[k] = format_parameters_for_export_aux(data, params,k, i, theoretical_num_clones, clones_count, tail)\n",
    "    return res\n",
    "\n",
    "\n",
    "def format_parameters_for_export_aux(data, params,k, i, theo_clones, counts_clone, tail):\n",
    "\n",
    "    j = counts_clone[i]\n",
    "    if theo_clones[i] == 2:\n",
    "        beta_concentration1 = params['a_2'][:,j] * params['b_2'][:,j]\n",
    "        beta_concentration2 = (1 - params['a_2'][:,j]) * params['b_2'][:, j]\n",
    "    else:\n",
    "        beta_concentration1 = params['a_1'][:, j] * params['b_1'][:, j]\n",
    "        beta_concentration2 = (1 - params['a_1'][:, j]) * params['b_1'][:, j]\n",
    "\n",
    "    mixture_weights = params['param_weights_{}'.format(theo_clones[i])][j, :].detach().numpy()\n",
    "    if tail:\n",
    "        tail_weights = params['param_tail_weights'][i, :].detach().numpy()\n",
    "        mixture_weights = mixture_weights * tail_weights[1]\n",
    "        mixture_weights = np.insert(mixture_weights, 0, tail_weights[0])\n",
    "\n",
    "\n",
    "\n",
    "\n",
    "    res = {\"cluster_probs\" : torch.transpose(params[\"posteriors\"][k], 0, 1).detach().numpy(),\n",
    "           \"cluster_assignments\" : np.argmax(torch.transpose(params[\"posteriors\"][k], 0, 1).detach().numpy(), axis = 1),\n",
    "           \"mixture_probs\" : mixture_weights,\n",
    "          \"beta_concentration1\" : beta_concentration1,\n",
    "          \"beta_concetration2\" : beta_concentration2\n",
    "        }\n",
    "    if tail:\n",
    "        res[\"tail_shape\"] = params['ap']\n",
    "        res[\"tail_scale\"] = np.min(data[k].detach().numpy())\n",
    "\n",
    "    return res"
   ],
   "metadata": {
    "collapsed": false,
    "pycharm": {
     "name": "#%%\n",
     "is_executing": false
    }
   }
  },
  {
   "cell_type": "code",
   "execution_count": 44,
   "outputs": [
    {
     "data": {
      "text/plain": "{'1:0': {'cluster_probs': array([[3.5018180e-02, 7.4760320e-10, 9.6498179e-01],\n         [3.0425757e-02, 5.4476416e-15, 9.6957421e-01],\n         [3.9041635e-02, 8.3558546e-16, 9.6095836e-01],\n         ...,\n         [6.5347319e-04, 9.9934661e-01, 2.4708868e-34],\n         [4.1044827e-04, 9.9958950e-01, 1.3651740e-25],\n         [4.2287575e-04, 9.9957716e-01, 1.0798802e-24]], dtype=float32),\n  'cluster_assignments': array([2, 2, 2, 2, 2, 2, 2, 2, 0, 2, 1, 2, 0, 0, 1, 1, 1, 2, 2, 2, 0, 0,\n         0, 1, 2, 2, 2, 2, 0, 1, 1, 0, 1, 1, 1, 1, 1, 2, 1, 0, 1, 0, 1, 1,\n         0, 1, 1, 0, 0, 2, 1, 1, 1, 0, 1, 1, 1, 1, 1, 2, 1, 1, 1, 1, 1, 1,\n         1, 1, 1, 0, 1, 1, 1, 1, 1, 1, 1, 0, 0, 1, 1, 1, 1, 1, 1, 1, 1, 1,\n         1, 1, 1, 1, 1, 0, 0, 2, 1, 1, 1, 0, 1, 1, 1, 0, 1, 1, 1, 1, 1, 1,\n         1, 1, 1, 0, 0, 0, 1, 2, 0, 2, 1, 0, 1, 1, 1, 1, 0, 1, 0, 1, 1, 1,\n         1, 1, 0, 1, 1, 1, 1, 1, 1, 1, 2, 1, 0, 1, 2, 1, 2, 1, 2, 0, 1, 1,\n         1, 1, 0, 1, 1, 1, 1, 2, 1, 1, 2, 1, 1, 1, 2, 1, 1, 1, 1, 0, 2, 0,\n         1, 1, 1, 2, 1, 1, 0, 1, 0, 2, 1, 1, 0, 0, 0, 1, 0, 1, 1, 1, 1, 1,\n         1, 1, 1, 0, 1, 1, 1, 1, 1, 1, 1, 1, 1, 1, 0, 1, 1, 1, 1, 1, 2, 0,\n         0, 1, 1, 1, 0, 1, 1, 1, 1, 0, 1, 1, 1, 1, 1, 0, 1, 1, 1, 1, 1, 1,\n         0, 1, 1, 1, 1, 1, 0, 2, 0, 1, 1, 1, 1, 1, 1, 1, 1, 1, 1, 0, 1, 1,\n         1, 1, 0, 0, 1, 1, 1, 1, 1, 2, 1, 1, 0, 0, 1, 1, 1, 1, 1, 2, 1, 0,\n         1, 1, 1, 0, 1, 1, 1, 1, 1, 1, 1, 1, 1, 0, 1, 1, 2, 1, 1, 1, 1, 0,\n         2, 0, 1, 2, 1, 1, 1, 2, 1, 1, 2, 0, 1, 1, 0, 1, 0, 2, 0, 1, 1, 1,\n         1, 1, 1, 1, 1, 1, 2, 0, 1, 0, 1, 0, 2, 1, 1, 0, 0, 0, 0, 2, 0, 0,\n         1, 1, 2, 1, 1, 1, 1, 1, 1, 1, 1, 1, 1, 1, 2, 1, 0, 1, 2, 2, 1, 1,\n         1, 0, 1, 1, 1, 1, 2, 1, 1, 1, 1, 1, 2, 1, 1, 1, 1, 1, 2, 1, 1, 1,\n         1, 1, 1, 1, 1, 0, 2, 1, 2, 1, 1, 0, 1, 1, 1, 2, 1, 1, 1, 2, 0, 0,\n         1, 1, 1, 1, 1, 0, 1, 0, 1, 1, 1, 0, 1, 1, 0, 1, 1, 1, 1, 0, 1, 0,\n         1, 1, 0, 0, 1, 1, 1, 1, 0, 1, 1, 1, 0, 1, 1, 0, 1, 1, 1, 0, 1, 2,\n         1, 1, 1, 1, 1, 1, 1, 1, 2, 1, 0, 0, 1, 1, 1, 2, 1, 1, 1, 1, 1, 2,\n         1, 1, 1, 2, 1, 1, 1, 1, 0, 0, 0, 1, 1, 0, 1, 1, 1, 2, 1, 1, 2, 2,\n         0, 1, 1, 1, 2, 1, 1, 1, 1, 1, 1, 1]),\n  'mixture_probs': array([0.19540879, 0.6826543 , 0.12193686], dtype=float32),\n  'beta_concentration1': tensor([58.0950, 34.2595], dtype=torch.float64, grad_fn=<MulBackward0>),\n  'beta_concetration2': tensor([ 6.0930, 42.9503], dtype=torch.float64, grad_fn=<MulBackward0>),\n  'tail_shape': tensor(1.5720, grad_fn=<AddBackward0>),\n  'tail_scale': 0.04754369},\n '1:1': {'cluster_probs': array([[2.1792112e-03, 9.9782085e-01, 1.9146812e-08],\n         [9.9951077e-01, 2.2296140e-26, 4.8926874e-04],\n         [1.0000000e+00, 8.5941635e-42, 2.1988877e-09],\n         ...,\n         [2.1996318e-01, 3.4271318e-02, 7.4576557e-01],\n         [1.0000000e+00, 2.4285581e-39, 1.7381211e-08],\n         [2.1723919e-03, 9.9782753e-01, 1.3682468e-07]], dtype=float32),\n  'cluster_assignments': array([1, 0, 0, ..., 2, 0, 1]),\n  'mixture_probs': array([0.17334077, 0.71313655, 0.11352264], dtype=float32),\n  'beta_concentration1': tensor([62.8853, 25.4510], dtype=torch.float64, grad_fn=<MulBackward0>),\n  'beta_concetration2': tensor([72.5886, 86.8512], dtype=torch.float64, grad_fn=<MulBackward0>),\n  'tail_shape': tensor(1.5720, grad_fn=<AddBackward0>),\n  'tail_scale': 0.044045046},\n '2:1': {'cluster_probs': array([[9.99332070e-01, 0.00000000e+00, 2.82659463e-25, 6.67900837e-04],\n         [9.99996662e-01, 0.00000000e+00, 6.22657183e-32, 3.39042299e-06],\n         [9.99606311e-01, 0.00000000e+00, 5.64610923e-26, 3.93728493e-04],\n         [9.99999523e-01, 0.00000000e+00, 3.45096213e-34, 5.07447453e-07],\n         [9.99779940e-01, 0.00000000e+00, 9.80929662e-27, 2.19965470e-04],\n         [9.94295061e-01, 0.00000000e+00, 2.54773269e-22, 5.70493983e-03],\n         [9.99999166e-01, 0.00000000e+00, 1.20169539e-33, 8.04130309e-07],\n         [7.26329684e-02, 7.37992693e-23, 9.26505208e-01, 8.61849927e-04],\n         [5.64842932e-02, 2.17727175e-22, 9.43093717e-01, 4.22004348e-04],\n         [5.77903509e-01, 0.00000000e+00, 1.29599632e-14, 4.22096550e-01],\n         [1.73316728e-02, 1.77018641e-19, 9.82663214e-01, 5.01402337e-06],\n         [9.74689841e-01, 0.00000000e+00, 4.14117602e-20, 2.53101699e-02],\n         [1.36523545e-01, 1.40129846e-45, 6.14102813e-09, 8.63476396e-01],\n         [9.99930143e-01, 0.00000000e+00, 3.32968611e-28, 6.98360818e-05],\n         [9.99993920e-01, 0.00000000e+00, 3.09027802e-31, 6.03028184e-06],\n         [1.12122493e-02, 5.29906035e-16, 9.88787711e-01, 2.96001783e-08],\n         [2.46633977e-01, 0.00000000e+00, 1.32615264e-11, 7.53365993e-01],\n         [9.99999166e-01, 0.00000000e+00, 1.56257821e-33, 8.85677025e-07],\n         [1.00000000e+00, 0.00000000e+00, 2.03160350e-35, 1.76805955e-07],\n         [9.99980211e-01, 0.00000000e+00, 8.81229107e-30, 1.97859827e-05],\n         [9.99047995e-01, 0.00000000e+00, 8.43276432e-25, 9.52036877e-04],\n         [1.66074298e-02, 2.53260085e-19, 9.83388603e-01, 3.96644191e-06],\n         [4.28938679e-02, 7.70521265e-22, 9.56923664e-01, 1.82462856e-04],\n         [2.84048349e-01, 2.50263813e-33, 1.76692533e-03, 7.14184761e-01],\n         [1.00000000e+00, 0.00000000e+00, 2.03160350e-35, 1.76805955e-07],\n         [2.47645620e-02, 1.45703164e-20, 9.75209475e-01, 2.59453336e-05],\n         [1.27790682e-02, 4.39404297e-18, 9.87220407e-01, 6.22611651e-07],\n         [7.57974803e-01, 0.00000000e+00, 4.43096064e-16, 2.42025226e-01],\n         [4.85079698e-02, 4.32662060e-22, 9.51224387e-01, 2.67664116e-04],\n         [1.29305989e-01, 1.26137881e-40, 1.21454445e-06, 8.70692790e-01],\n         [1.96290035e-02, 1.00922959e-12, 9.80370998e-01, 2.85655000e-10],\n         [2.00236402e-02, 5.89330191e-20, 9.79966044e-01, 1.03201637e-05],\n         [1.59932122e-01, 0.00000000e+00, 6.92069069e-10, 8.40067923e-01],\n         [2.08867684e-01, 0.00000000e+00, 5.20339431e-11, 7.91132271e-01],\n         [1.31719885e-02, 2.87220166e-18, 9.86827195e-01, 8.18980652e-07],\n         [9.99966979e-01, 0.00000000e+00, 3.82782639e-29, 3.30661205e-05],\n         [1.12012736e-02, 1.23250030e-16, 9.88798499e-01, 7.41571071e-08],\n         [1.86812207e-02, 6.91933435e-13, 9.81318712e-01, 3.58747060e-10],\n         [1.13913473e-02, 5.07543135e-17, 9.88608539e-01, 1.30132776e-07],\n         [3.46764982e-01, 3.93821082e-32, 5.50492480e-03, 6.47730112e-01],\n         [1.28188664e-02, 1.48541373e-14, 9.87181067e-01, 3.73038800e-09],\n         [1.43685434e-02, 6.29758764e-14, 9.85631526e-01, 1.53808977e-09],\n         [1.26541987e-01, 2.77891498e-41, 6.18964748e-07, 8.73457372e-01],\n         [9.86561060e-01, 0.00000000e+00, 4.52954248e-21, 1.34389251e-02],\n         [1.46469083e-02, 8.28793873e-19, 9.85351205e-01, 1.83162831e-06],\n         [9.99910831e-01, 0.00000000e+00, 6.78767672e-28, 8.91210657e-05],\n         [1.12555856e-02, 6.87687892e-16, 9.88744318e-01, 2.51371137e-08],\n         [1.28363473e-02, 1.51533212e-14, 9.87163663e-01, 3.68483977e-09],\n         [1.34028895e-02, 2.29042548e-18, 9.86596167e-01, 9.47843205e-07],\n         [1.12955719e-02, 8.30592885e-16, 9.88704324e-01, 2.23360139e-08],\n         [1.59189962e-02, 1.77617131e-13, 9.84081089e-01, 8.17682366e-10],\n         [1.26110204e-02, 5.37460396e-18, 9.87388372e-01, 5.46902697e-07],\n         [7.06578121e-02, 8.28735237e-23, 9.28543627e-01, 7.98542111e-04],\n         [9.99999046e-01, 0.00000000e+00, 2.03366823e-33, 9.75654302e-07],\n         [2.61922002e-01, 7.85162360e-34, 1.08744274e-03, 7.36990571e-01],\n         [1.19083580e-02, 1.50878306e-17, 9.88091409e-01, 2.82048916e-07],\n         [1.25123318e-02, 1.01898487e-14, 9.87487674e-01, 4.70590367e-09],\n         [3.80761847e-02, 1.37790609e-21, 9.61799800e-01, 1.24006299e-04],\n         [4.85917628e-02, 4.29349097e-22, 9.51139152e-01, 2.69048673e-04],\n         [1.14525221e-02, 4.18999737e-17, 9.88547385e-01, 1.47001316e-07],\n         [2.07355559e-01, 2.11225946e-35, 2.34257663e-04, 7.92410195e-01],\n         [1.41109768e-02, 5.13783352e-14, 9.85888958e-01, 1.74195680e-09],\n         [2.80193985e-02, 1.05126637e-11, 9.71980631e-01, 6.99692596e-11],\n         [1.13123190e-02, 6.77982178e-17, 9.88687634e-01, 1.08275223e-07],\n         [1.45443846e-02, 7.18947810e-14, 9.85455632e-01, 1.41869350e-09],\n         [3.04225087e-01, 0.00000000e+00, 2.61088113e-12, 6.95774913e-01],\n         [1.14505449e-02, 1.44070331e-15, 9.88549352e-01, 1.58351625e-08],\n         [1.25127854e-02, 6.08302625e-18, 9.87486780e-01, 5.05050878e-07],\n         [1.24485068e-01, 6.24979115e-43, 1.12883974e-07, 8.75514746e-01],\n         [1.24363676e-01, 1.12244007e-42, 1.47015470e-07, 8.75636220e-01],\n         [7.57974803e-01, 0.00000000e+00, 4.43096064e-16, 2.42025226e-01],\n         [1.68953389e-01, 4.68660527e-37, 4.52471759e-05, 8.31001341e-01],\n         [2.07355559e-01, 2.11225946e-35, 2.34257663e-04, 7.92410195e-01],\n         [9.20700788e-01, 0.00000000e+00, 3.01182189e-18, 7.92992488e-02],\n         [5.69947204e-03, 9.94300544e-01, 3.58585663e-21, 0.00000000e+00],\n         [9.96119142e-01, 0.00000000e+00, 7.23050847e-23, 3.88087588e-03],\n         [5.75173274e-03, 9.94248271e-01, 1.50885331e-23, 0.00000000e+00],\n         [5.86023442e-02, 1.85147447e-22, 9.40927982e-01, 4.69784660e-04],\n         [6.04728051e-03, 9.93952751e-01, 3.46107232e-20, 2.80259693e-45],\n         [1.11569278e-02, 2.55479642e-16, 9.88843083e-01, 4.68124242e-08],\n         [1.34861216e-01, 1.40129846e-45, 7.69107977e-09, 8.65138829e-01],\n         [1.43119514e-01, 0.00000000e+00, 2.86761126e-09, 8.56880426e-01],\n         [1.36235263e-02, 1.87096757e-18, 9.86375391e-01, 1.08044640e-06],\n         [3.32662202e-02, 2.78078654e-11, 9.66733754e-01, 3.91328116e-11],\n         [1.69162564e-02, 2.16569468e-19, 9.83079374e-01, 4.39416226e-06],\n         [1.97916459e-02, 9.80208278e-01, 2.65426600e-14, 7.82085166e-37],\n         [1.26716122e-01, 7.72159379e-24, 8.69572759e-01, 3.71116376e-03],\n         [1.29685365e-02, 9.87031519e-01, 1.00041209e-15, 7.14784830e-39],\n         [5.76591864e-03, 9.94234025e-01, 6.41392656e-21, 0.00000000e+00],\n         [1.09522827e-02, 9.89047706e-01, 2.12304825e-16, 7.82361748e-40],\n         [1.34301305e-01, 1.40129846e-45, 8.33768787e-09, 8.65698636e-01],\n         [5.65834716e-03, 9.94341612e-01, 3.83857066e-23, 0.00000000e+00],\n         [6.35153241e-03, 9.93648469e-01, 1.21076404e-19, 1.96181785e-44],\n         [9.97496009e-01, 0.00000000e+00, 1.76490336e-23, 2.50401092e-03],\n         [5.58243971e-03, 9.94417489e-01, 1.64157360e-22, 0.00000000e+00],\n         [2.18475387e-02, 3.23703303e-20, 9.78137195e-01, 1.53150922e-05],\n         [7.00779306e-03, 9.92992282e-01, 8.39005218e-26, 0.00000000e+00],\n         [2.04727039e-01, 0.00000000e+00, 6.18768717e-11, 7.95272887e-01],\n         [9.43089277e-03, 9.90569115e-01, 4.49798980e-17, 8.58407413e-41],\n         [1.38124079e-02, 3.99987626e-14, 9.86187518e-01, 2.03022044e-09],\n         [1.65098131e-01, 0.00000000e+00, 4.86365226e-10, 8.34901810e-01],\n         [9.99999762e-01, 0.00000000e+00, 1.72607593e-34, 3.92558292e-07],\n         [1.37447165e-02, 1.68065967e-18, 9.86254096e-01, 1.15801720e-06],\n         [1.47506073e-01, 0.00000000e+00, 1.87522753e-09, 8.52493823e-01],\n         [5.66009572e-03, 9.94339883e-01, 3.74620483e-23, 0.00000000e+00],\n         [1.73025668e-01, 7.67133827e-37, 5.60480112e-05, 8.26918244e-01],\n         [7.00685084e-02, 9.29931641e-01, 1.10865475e-34, 0.00000000e+00],\n         [1.29375979e-01, 1.30120372e-40, 1.23146560e-06, 8.70622814e-01],\n         [1.53570687e-02, 5.16235821e-19, 9.84640479e-01, 2.49243521e-06],\n         [1.11607593e-02, 1.98251013e-16, 9.88839209e-01, 5.49231487e-08],\n         [1.82269458e-02, 5.69849994e-13, 9.81773078e-01, 4.03364786e-10],\n         [2.10608244e-02, 4.14356224e-20, 9.78926122e-01, 1.30137869e-05],\n         [1.27126455e-01, 4.20389539e-44, 3.32698384e-08, 8.72873485e-01],\n         [9.23166517e-03, 9.90768373e-01, 1.43316295e-27, 0.00000000e+00],\n         [6.63815811e-03, 9.93361831e-01, 3.06703165e-19, 7.28675201e-44],\n         [1.28188664e-02, 1.48541373e-14, 9.87181067e-01, 3.73038800e-09],\n         [9.96119142e-01, 0.00000000e+00, 7.23050847e-23, 3.88087588e-03],\n         [4.71873283e-02, 4.91697532e-22, 9.52566743e-01, 2.45894043e-04],\n         [1.37115523e-01, 1.40129846e-45, 5.68534242e-09, 8.62884402e-01],\n         [2.63536364e-01, 0.00000000e+00, 7.87650587e-12, 7.36463606e-01],\n         [5.79092354e-02, 1.95117273e-22, 9.41636920e-01, 4.53786779e-04],\n         [1.16409129e-02, 2.58010272e-17, 9.88358855e-01, 2.00190968e-07],\n         [9.99737084e-01, 0.00000000e+00, 1.67360893e-26, 2.62958056e-04],\n         [7.73180872e-02, 1.52642299e-09, 9.22681928e-01, 3.56621568e-12],\n         [1.30817041e-01, 7.00649232e-45, 1.46561696e-08, 8.69182944e-01],\n         [8.45331047e-03, 9.91546690e-01, 1.24138469e-17, 1.37733626e-41],\n         [5.57559729e-03, 9.94424403e-01, 2.74543992e-22, 0.00000000e+00],\n         [1.27800675e-02, 1.41926638e-14, 9.87219930e-01, 3.83652665e-09],\n         [1.22614661e-02, 7.20814789e-15, 9.87738609e-01, 5.82740878e-09],\n         [1.25123318e-02, 1.01898487e-14, 9.87487674e-01, 4.70590367e-09],\n         [1.71360262e-02, 3.42527303e-13, 9.82863963e-01, 5.48923018e-10],\n         [1.24416940e-01, 2.14538795e-42, 1.96663166e-07, 8.75582814e-01],\n         [9.99237239e-01, 0.00000000e+00, 4.25083566e-25, 7.62689626e-04],\n         [1.15666809e-02, 1.97873334e-15, 9.88433301e-01, 1.29939624e-08],\n         [4.46804836e-02, 9.55319464e-01, 2.05296746e-33, 0.00000000e+00],\n         [1.61805525e-02, 3.18378716e-19, 9.83816087e-01, 3.41597502e-06],\n         [1.53166309e-01, 0.00000000e+00, 1.15401466e-09, 8.46833706e-01],\n         [5.59939258e-03, 9.94400561e-01, 9.02319854e-22, 0.00000000e+00],\n         [1.11652575e-02, 1.81281780e-16, 9.88834858e-01, 5.81129562e-08],\n         [6.98004942e-03, 9.93019998e-01, 9.01684840e-26, 0.00000000e+00],\n         [1.43422447e-02, 6.16916457e-14, 9.85657811e-01, 1.55768731e-09],\n         [1.47958370e-02, 8.62403410e-14, 9.85204279e-01, 1.26960020e-09],\n         [5.92463976e-03, 9.94075358e-01, 1.82853832e-20, 1.40129846e-45],\n         [4.05923761e-02, 7.88956053e-11, 9.59407568e-01, 2.10081813e-11],\n         [1.35723287e-02, 3.22657008e-14, 9.86427724e-01, 2.31603869e-09],\n         [1.18659595e-02, 3.75864518e-15, 9.88134086e-01, 8.72162076e-09],\n         [9.93372798e-01, 0.00000000e+00, 4.18035973e-22, 6.62724394e-03],\n         [5.28974831e-01, 0.00000000e+00, 3.02673163e-14, 4.71025139e-01],\n         [3.10397267e-01, 0.00000000e+00, 2.24085550e-12, 6.89602733e-01],\n         [6.67442381e-03, 9.93325591e-01, 3.41201947e-19, 8.40779079e-44],\n         [9.99999762e-01, 0.00000000e+00, 2.34139620e-35, 1.86462060e-07],\n         [1.07111156e-01, 8.92888844e-01, 3.13133408e-10, 6.20076185e-31],\n         [3.70585620e-01, 0.00000000e+00, 5.77671266e-13, 6.29414439e-01],\n         [6.03898987e-03, 9.93960977e-01, 3.32688100e-20, 2.80259693e-45],\n         [7.10523546e-01, 0.00000000e+00, 1.17034553e-15, 2.89476484e-01]],\n        dtype=float32),\n  'cluster_assignments': array([0, 0, 0, 0, 0, 0, 0, 2, 2, 0, 2, 0, 3, 0, 0, 2, 3, 0, 0, 0, 0, 2,\n         2, 3, 0, 2, 2, 0, 2, 3, 2, 2, 3, 3, 2, 0, 2, 2, 2, 3, 2, 2, 3, 0,\n         2, 0, 2, 2, 2, 2, 2, 2, 2, 0, 3, 2, 2, 2, 2, 2, 3, 2, 2, 2, 2, 3,\n         2, 2, 3, 3, 0, 3, 3, 0, 1, 0, 1, 2, 1, 2, 3, 3, 2, 2, 2, 1, 2, 1,\n         1, 1, 3, 1, 1, 0, 1, 2, 1, 3, 1, 2, 3, 0, 2, 3, 1, 3, 1, 3, 2, 2,\n         2, 2, 3, 1, 1, 2, 0, 2, 3, 3, 2, 2, 0, 2, 3, 1, 1, 2, 2, 2, 2, 3,\n         0, 2, 1, 2, 3, 1, 2, 1, 2, 2, 1, 2, 2, 2, 0, 0, 3, 1, 0, 1, 3, 1,\n         0]),\n  'mixture_probs': array([0.24638872, 0.15948947, 0.41759947, 0.17652236], dtype=float32),\n  'beta_concentration1': tensor([102.5005,  67.7254,  29.9897], grad_fn=<MulBackward0>),\n  'beta_concetration2': tensor([ 57.4682, 149.3264, 173.2952], grad_fn=<MulBackward0>),\n  'tail_shape': tensor(1.5720, grad_fn=<AddBackward0>),\n  'tail_scale': 0.045875}}"
     },
     "metadata": {},
     "output_type": "execute_result",
     "execution_count": 44
    }
   ],
   "source": [
    "format_parameters_for_export(inp, pt ,1)"
   ],
   "metadata": {
    "collapsed": false,
    "pycharm": {
     "name": "#%%\n",
     "is_executing": false
    }
   }
  },
  {
   "cell_type": "code",
   "execution_count": 48,
   "outputs": [
    {
     "data": {
      "text/plain": "dict_keys(['ap', 'param_tail_weights', 'param_weights_2', 'param_weights_1', 'a_1', 'b_1', 'a_2', 'b_2', 'posteriors'])"
     },
     "metadata": {},
     "output_type": "execute_result",
     "execution_count": 48
    }
   ],
   "source": [
    "pt.keys()"
   ],
   "metadata": {
    "collapsed": false,
    "pycharm": {
     "name": "#%%\n",
     "is_executing": false
    }
   }
  },
  {
   "cell_type": "code",
   "execution_count": 45,
   "outputs": [],
   "source": [
    "def calculate_number_of_params(params):\n",
    "\n",
    "    res = 0\n",
    "    for i in params:\n",
    "        if type(params[i]) is dict:\n",
    "            for k in params[i]:\n",
    "                res += np.prod(params[i][k].shape)\n",
    "        else:\n",
    "            res += np.prod(params[i].shape)\n",
    "    return res"
   ],
   "metadata": {
    "collapsed": false,
    "pycharm": {
     "name": "#%%\n",
     "is_executing": false
    }
   }
  },
  {
   "cell_type": "code",
   "execution_count": null,
   "outputs": [],
   "source": [
    "\n"
   ],
   "metadata": {
    "collapsed": false,
    "pycharm": {
     "name": "#%%\n"
    }
   }
  }
 ],
 "metadata": {
  "kernelspec": {
   "display_name": "Python 3",
   "language": "python",
   "name": "python3"
  },
  "language_info": {
   "codemirror_mode": {
    "name": "ipython",
    "version": 3
   },
   "file_extension": ".py",
   "mimetype": "text/x-python",
   "name": "python",
   "nbconvert_exporter": "python",
   "pygments_lexer": "ipython3",
   "version": "3.8.5"
  },
  "pycharm": {
   "stem_cell": {
    "cell_type": "raw",
    "source": [],
    "metadata": {
     "collapsed": false
    }
   }
  }
 },
 "nbformat": 4,
 "nbformat_minor": 5
}