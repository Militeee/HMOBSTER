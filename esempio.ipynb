{
 "cells": [
  {
   "cell_type": "code",
   "execution_count": 1,
   "id": "saved-junior",
   "metadata": {
    "pycharm": {
     "is_executing": false
    }
   },
   "outputs": [],
   "source": [
    "import pandas as pd\n",
    "import numpy as np\n",
    "import seaborn as sns\n",
    "import matplotlib.pyplot as plt\n",
    "\n",
    "import pyro as pyro\n",
    "import numpy as np\n",
    "from pyro.infer import MCMC, NUTS, Predictive, HMC, config_enumerate\n",
    "from pyro.infer.autoguide import AutoDelta, init_to_sample\n",
    "import pyro.distributions as dist\n",
    "import pyro.poutine as poutine\n",
    "import torch\n",
    "from torch.distributions import constraints"
   ]
  },
  {
   "cell_type": "code",
   "execution_count": 2,
   "id": "minute-separation",
   "metadata": {
    "pycharm": {
     "is_executing": false
    }
   },
   "outputs": [
    {
     "data": {
      "text/plain": "tensor([0.7553, 0.7659, 0.6390, 0.8742, 0.7593, 0.6098])"
     },
     "metadata": {},
     "output_type": "execute_result",
     "execution_count": 2
    }
   ],
   "source": [
    "torch.rand([3,6]).amax(dim = 0)\n"
   ]
  },
  {
   "cell_type": "code",
   "execution_count": 3,
   "id": "western-association",
   "metadata": {
    "pycharm": {
     "is_executing": false
    }
   },
   "outputs": [],
   "source": [
    "from pandas.core.common import flatten\n",
    "\n",
    "def flatten_list(l):\n",
    "    return list(flatten(l))\n",
    "\n",
    "\n",
    "def log_sum_exp(args):\n",
    "    c = torch.amax(args, dim = 0)  \n",
    "    return c + torch.log(torch.sum(torch.exp(args - c), axis = 0))\n",
    "                     \n",
    "    \n",
    "def beta_lk(beta_a, beta_b, weights, K, data):\n",
    "    lk = torch.ones(K, len(data))\n",
    "    for k in range(K):\n",
    "        lk[k,:] = torch.log(weights[k]) + dist.Beta(beta_a[k], beta_b[k]).log_prob(data)\n",
    "    return log_sum_exp(lk)\n",
    "\n",
    "def final_lk(pareto, beta, weights):\n",
    "    lk = torch.ones(2, len(beta))\n",
    "    lk[0,:] = torch.log(weights[0]) + pareto\n",
    "    lk[1,:] = torch.log(weights[1]) + beta\n",
    "    return log_sum_exp(lk)\n",
    "\n",
    "def retrieve_posterior_probs():\n",
    "    pass\n",
    "        \n",
    "    \n",
    "@config_enumerate\n",
    "def model(data, K = 1 , tail = 1, purity =  0.96, clonal_beta_var = 1., alpha_prior_sd = 0.3,number_of_trials_clonal_mean = 500.,\n",
    "          number_of_trials_clonal = 900., number_of_trials_k = 300., prior_lims_clonal = [0.1,100000.],\n",
    "          prior_lims_k = [0.1,100000.] ):\n",
    "    \"\"\"\n",
    "    Parameters\n",
    "    ----------\n",
    "    param1 :\n",
    "    The first parameter.\n",
    "    param2 : \n",
    "    The second parameter.\n",
    "    \n",
    "    \"\"\"\n",
    "    karyos = list(data.keys())\n",
    "    major = [int(str(i).split(\":\")[0]) for i in karyos]\n",
    "    minor = [int(str(i).split(\":\")[1]) for i in karyos]\n",
    "    \n",
    "    betas_subclone_mean2 = 0\n",
    "    betas_subclone_n_samples2 = 0\n",
    "    betas_subclone_mean = 0\n",
    "    betas_subclone_n_samples = 0\n",
    "    \n",
    "    lk = np.zeros(len(karyos))\n",
    "    \n",
    "    theoretical_num_clones = [1 if (mn == 0 or mn == mj) else 2 for mj,mn in zip(major,minor)]\n",
    "    theoretical_clonal_means = [(purity - 0.0001) if (mn == 0 or mn == mj) else torch.tensor([(mj/(mj + mn)) * purity, (mn/(mn + mj)) * purity]) for mj,mn in zip(major, minor)]\n",
    "    theoretical_clonal_means = [0.5 * purity if (mn == mj) else j for mj,mn,j in zip(major, minor, theoretical_clonal_means)]\n",
    "\n",
    "    counts_clones = dict()\n",
    "    for i in theoretical_num_clones:\n",
    "        counts_clones[i] = counts_clones.get(i, 0) + 1\n",
    "        \n",
    "    index_2 = [i for i, j in enumerate(theoretical_num_clones) if j == 2]\n",
    "    index_1 = [i for i, j in enumerate(theoretical_num_clones) if j == 1]\n",
    "    \n",
    "\n",
    "    alpha_prior =  pyro.sample('u', dist.Uniform(0.5, 5))\n",
    "\n",
    "    for kr in pyro.plate(\"kr\",len(karyos)):\n",
    "        \n",
    "        \n",
    "        alpha =  pyro.sample('alpha_{}'.format(kr), dist.LogNormal(torch.log(alpha_prior), alpha_prior_sd))\n",
    "\n",
    "        if theoretical_num_clones[kr] == 2:\n",
    "            weights_2 = pyro.sample('weights_{}'.format(kr), dist.Dirichlet(torch.ones(K + 2)))\n",
    "\n",
    "            with pyro.plate(\"clones_{}\".format(kr), 2 + K):\n",
    "                \n",
    "                \n",
    "                k_means = [(torch.min(theoretical_clonal_means[kr] - 0.05) / 2).tolist()] * K\n",
    "                bm_12 = torch.tensor(flatten_list([theoretical_clonal_means[kr].tolist(),k_means])) * number_of_trials_clonal_mean\n",
    "                bm_22 = number_of_trials_clonal_mean - bm_12\n",
    "                betas_subclone_mean2 = pyro.sample('beta_clone_mean_{}'.format(kr), dist.Beta(bm_12, bm_22))\n",
    "                bns_12 = torch.tensor((2 * [prior_lims_clonal[0]]) + (K * [prior_lims_k[0]]))\n",
    "                bns_22 = torch.tensor((2 * [prior_lims_clonal[1]]) + (K * [prior_lims_k[1]]))\n",
    "                betas_subclone_n_samples2 = pyro.sample('beta_clone_n_samples_{}'.format(kr), dist.Uniform(bns_12,bns_22))\n",
    "                \n",
    "        else:\n",
    "            weights_1 = pyro.sample('weights_{}'.format(kr), dist.Dirichlet(torch.ones(K + 1)))\n",
    "\n",
    "            with pyro.plate(\"clones_{}\".format(kr), 1 + K):\n",
    "\n",
    "                k_means = [(theoretical_clonal_means[kr] - 0.05) / 2] * K\n",
    "                bm_11 =  torch.tensor(flatten_list([theoretical_clonal_means[kr],k_means])) * number_of_trials_clonal_mean\n",
    "                bm_21 = number_of_trials_clonal_mean - bm_11\n",
    "                betas_subclone_mean = pyro.sample('beta_clone_mean_{}'.format(kr),dist.Beta(bm_11, bm_21))\n",
    "                bns_11 = torch.tensor((1 * [prior_lims_clonal[0]]) + (K * [prior_lims_k[0]]))\n",
    "                bns_21 = torch.tensor((1 * [prior_lims_clonal[1]]) + (K * [prior_lims_k[1]]))\n",
    "                betas_subclone_n_samples = pyro.sample('beta_clone_n_samples_{}'.format(kr), dist.Uniform(bns_11, bns_21))\n",
    "                \n",
    "                \n",
    "        tail_probs = pyro.sample('weights_tail_{}'.format(kr), dist.Dirichlet(torch.ones(2)))\n",
    "        with pyro.plate('data_{}'.format(kr), len(data[karyos[kr]])):\n",
    "        \n",
    "            if(tail == 1):\n",
    "                if theoretical_num_clones[kr] == 2:\n",
    "                    beta = beta_lk(betas_subclone_mean2 * betas_subclone_n_samples2,\n",
    "                                                                (1 - betas_subclone_mean2) * betas_subclone_n_samples2,\n",
    "                                                                weights_2,K + theoretical_num_clones[kr], \n",
    "                                                                data[karyos[kr]])\n",
    "                    pareto = dist.Pareto(torch.min(data[karyos[kr]]) - 1e-5, alpha).log_prob(data[karyos[kr]])\n",
    "                    pyro.factor(\"lik_{}\".format(kr),torch.sum(final_lk(pareto, beta, tail_probs)))\n",
    "                  \n",
    "\n",
    "                else:                    \n",
    "                    beta = beta_lk(betas_subclone_mean * betas_subclone_n_samples,\n",
    "                                                                (1 - betas_subclone_mean) * betas_subclone_n_samples,\n",
    "                                                                weights_1,K + theoretical_num_clones[kr], \n",
    "                                                                data[karyos[kr]])\n",
    "                    pareto = dist.Pareto(torch.min(data[karyos[kr]]) - 1e-5, alpha).log_prob(data[karyos[kr]])\n",
    "                    pyro.factor(\"lik_{}\".format(kr),torch.sum(final_lk(pareto, beta, tail_probs)))\n",
    "                                \n",
    "            else:\n",
    "\n",
    "                if theoretical_num_clones[kr] == 2:\n",
    "                    pyro.factor(\"lik_{}\".format(kr), torch.sum(beta_lk(betas_subclone_mean2 * betas_subclone_n_samples2,\n",
    "                                                                (1 - betas_subclone_mean2) * betas_subclone_n_samples2,\n",
    "                                                                weights_2,K + theoretical_num_clones[kr], \n",
    "                                                                data[karyos[kr]])))\n",
    "                else:\n",
    "                    pyro.factor(\"lik_{}\".format(kr), torch.sum(beta_lk(betas_subclone_mean * betas_subclone_n_samples, \n",
    "                                                                (1 - betas_subclone_mean) * betas_subclone_n_samples, \n",
    "                                                                weights_1,\n",
    "                                                                K + theoretical_num_clones[kr], \n",
    "                                                                data[karyos[kr]])))\n",
    "                    \n",
    "@config_enumerate\n",
    "def guide(data, K = 1 , tail = 1, purity =  0.96, clonal_beta_var = 1., alpha_prior_sd = 0.3,number_of_trials_clonal_mean = 100.,\n",
    "          number_of_trials_clonal = 900., number_of_trials_k = 300., prior_lims_clonal = [1.,10000.],\n",
    "          prior_lims_k = [1.,10000.]):\n",
    "    \"\"\"\n",
    "    Parameters\n",
    "    ----------\n",
    "    param1 :\n",
    "    The first parameter.\n",
    "    param2 : \n",
    "    The second parameter.\n",
    "    \n",
    "    \"\"\"\n",
    "    karyos = list(data.keys())\n",
    "    major = [int(str(i).split(\":\")[0]) for i in karyos]\n",
    "    minor = [int(str(i).split(\":\")[1]) for i in karyos]\n",
    "    \n",
    "    \n",
    "    lk = np.zeros(len(karyos))\n",
    "    \n",
    "    theoretical_num_clones = [1 if (mn == 0 or mn == mj) else 2 for mj,mn in zip(major,minor)]\n",
    "    theoretical_clonal_means = [(purity - 0.0001) if (mn == 0 or mn == mj) else torch.tensor([(mj/(mj + mn)) * purity, (mn/(mn + mj)) * purity]) for mj,mn in zip(major, minor)]\n",
    "    theoretical_clonal_means = [0.5 * purity if (mn == mj) else j for mj,mn,j in zip(major, minor, theoretical_clonal_means)]\n",
    "    \n",
    "    counts_clones = dict()\n",
    "    for i in theoretical_num_clones:\n",
    "        counts_clones[i] = counts_clones.get(i, 0) + 1\n",
    "        \n",
    "    index_2 = [i for i, j in enumerate(theoretical_num_clones) if j == 2]\n",
    "    index_1 = [i for i, j in enumerate(theoretical_num_clones) if j == 1]\n",
    "    \n",
    "    ap = pyro.param(\"ap\", torch.tensor(1.5),  constraint = constraints.interval(0.5,5))\n",
    "    \n",
    "    alpha_prior =  pyro.sample('u', dist.Delta(ap))\n",
    "    \n",
    "\n",
    "    \n",
    "\n",
    "    \n",
    "        \n",
    "    idx1 = 0\n",
    "    idx2 = 0\n",
    "    \n",
    "    weights_tail = pyro.param(\"param_tail_weights\", 1/torch.ones([len(karyos),2]), constraint = constraints.simplex)\n",
    "    weights_param_2 = pyro.param(\"param_weights_2\", (1/(K + 2)) * torch.ones([ len(index_2), K + 2]), constraint = constraints.simplex)\n",
    "    weights_param_1 = pyro.param(\"param_weights_1\",(1/(K + 1)) * torch.ones([len(index_1), K + 1]), constraint = constraints.simplex)\n",
    "    \n",
    "\n",
    "    for kr in pyro.plate(\"kr\",len(karyos)):\n",
    "                \n",
    "        pyro.sample('alpha_{}'.format(kr), dist.LogNormal(torch.log(alpha_prior), alpha_prior_sd))\n",
    "\n",
    "        \n",
    "        if theoretical_num_clones[kr] == 2:\n",
    "            \n",
    "            pyro.sample('weights_{}'.format(kr), dist.Delta(weights_param_2[idx2]).to_event(1))\n",
    "\n",
    "            # Mean parameter when the number of clonal picks is 2 \n",
    "            a_2_theo = torch.cat([theoretical_clonal_means[i] for i in index_2]).reshape([2, counts_clones[2]])\n",
    "            max_lim_2 = torch.tensor([torch.min(theoretical_clonal_means[i]) for i in index_2])\n",
    "            a_2_k = dist.Uniform(0.1, max_lim_2 - (0.3 * max_lim_2)).sample([K])\n",
    "\n",
    "            # Number of trials parameter when the number of clonal picks is 2 \n",
    "            b_2_theo = torch.ones([2,len(index_2)]) * number_of_trials_clonal_mean\n",
    "            b_2_k = torch.ones([K,len(index_2)]) * number_of_trials_k\n",
    "            \n",
    "            \n",
    "            \n",
    "            a21 =  pyro.param('a_2', \n",
    "                                 torch.cat((a_2_theo, a_2_k)).reshape([2 + K,len(index_2)]), \n",
    "                                 constraint = constraints.unit_interval)\n",
    "            a22 =  pyro.param('b_2', \n",
    "                                 torch.cat((b_2_theo, b_2_k)).reshape([2 + K,len(index_2)]),\n",
    "                                 constraint = constraints.positive)\n",
    "    \n",
    "            \n",
    "            with pyro.plate(\"clones_{}\".format(kr), 2 + K):\n",
    "                pyro.sample('beta_clone_mean_{}'.format(kr),dist.Delta(a21[:,idx2]))\n",
    "                pyro.sample('beta_clone_n_samples_{}'.format(kr),dist.Delta(a22[:,idx2]))\n",
    "            idx2 += 1 \n",
    "                \n",
    "        else:\n",
    "            pyro.sample('weights_{}'.format(kr), dist.Delta(weights_param_1[idx1]).to_event(1))\n",
    "\n",
    "            \n",
    "            # Mean parameter when the number of clonal picks is 1\n",
    "            a_1_theo = torch.tensor([theoretical_clonal_means[i] for i in index_1]).reshape([1, counts_clones[1]])\n",
    "            max_lim_1 = torch.tensor([np.min(theoretical_clonal_means[i]) for i in index_1])\n",
    "            a_1_k = dist.Uniform(0.1, max_lim_1 - (0.3 * max_lim_1)).sample([K])\n",
    "\n",
    "            # Number of trials parameter when the number of clonal picks is 1 \n",
    "            b_1_theo = torch.ones([1,len(index_1)]) * number_of_trials_clonal_mean\n",
    "            b_1_k = torch.ones([K,len(index_1)]) * number_of_trials_k \n",
    "            \n",
    "            \n",
    "            a11 =  pyro.param('a_1', \n",
    "                         torch.cat((a_1_theo, a_1_k)).reshape([1 + K,len(index_1)]), \n",
    "                         constraint = constraints.unit_interval)\n",
    "            a12 =  pyro.param('b_1', \n",
    "                         torch.cat((b_1_theo, b_1_k)).reshape([1 + K,len(index_1)]),\n",
    "                         constraint = constraints.positive)\n",
    "\n",
    "            with pyro.plate(\"clones_{}\".format(kr), 1 + K):\n",
    "                pyro.sample('beta_clone_mean_{}'.format(kr),dist.Delta(a11[:,idx1]))\n",
    "                pyro.sample('beta_clone_n_samples_{}'.format(kr),dist.Delta(a12[:,idx1]))\n",
    "            idx1 += 1 \n",
    "                \n",
    "            \n",
    "        #K = K + tail\n",
    "        pyro.sample('weights_tail_{}'.format(kr), dist.Delta(weights_tail[kr]).to_event(1))\n",
    "        \n",
    "\n",
    "        \n"
   ]
  },
  {
   "cell_type": "code",
   "execution_count": 4,
   "id": "expensive-farming",
   "metadata": {
    "pycharm": {
     "is_executing": false
    }
   },
   "outputs": [],
   "source": [
    "import pickle\n",
    "flh = open(\"example.pkl\", \"rb\")\n",
    "inp = pickle.load(flh)"
   ]
  },
  {
   "cell_type": "code",
   "execution_count": 5,
   "id": "adequate-aquarium",
   "metadata": {
    "pycharm": {
     "is_executing": false
    }
   },
   "outputs": [],
   "source": [
    "inp = {k : (torch.tensor(v) - 0.001) for k,v in zip(inp.keys(),inp.values())}\n"
   ]
  },
  {
   "cell_type": "code",
   "execution_count": 6,
   "id": "beneficial-silence",
   "metadata": {
    "pycharm": {
     "is_executing": false
    }
   },
   "outputs": [],
   "source": [
    "def run(model, data,N_warm = 2000, N_samples = 3000, seed = 3, tail = 1, purity = 1):\n",
    "    pyro.set_rng_seed(seed)\n",
    "    kernel = HMC(model)\n",
    "    mcmc = MCMC(kernel,warmup_steps = N_warm, num_samples = N_samples)\n",
    "    mcmc.run(data , tail = tail, purity = purity)\n",
    "    mcmc.print_summary()\n",
    "    samples = mcmc.get_samples()\n",
    "    return (mcmc, samples)"
   ]
  },
  {
   "cell_type": "code",
   "execution_count": 7,
   "id": "simple-fraction",
   "metadata": {
    "pycharm": {
     "is_executing": false
    }
   },
   "outputs": [],
   "source": [
    "svi = pyro.infer.SVI(model=model,\n",
    "                     guide=guide,\n",
    "                     optim=pyro.optim.Adam({\"lr\": 0.02}),\n",
    "                     loss=pyro.infer.TraceGraph_ELBO())"
   ]
  },
  {
   "cell_type": "code",
   "execution_count": 8,
   "id": "victorian-bunny",
   "metadata": {
    "pycharm": {
     "is_executing": false
    }
   },
   "outputs": [
    {
     "name": "stdout",
     "text": [
      "\n",
      "...................................................................................................\n",
      "...................................................................................................\n",
      "...................................................................................................\n",
      "...................................................................................................\n",
      "..................................................................................................."
     ],
     "output_type": "stream"
    }
   ],
   "source": [
    "pyro.clear_param_store()\n",
    "losses = []\n",
    "for i in range(500):\n",
    "    loss = svi.step(inp, tail = 1, K = 1)\n",
    "    losses.append(loss)\n",
    "    #plot_results(inp, tail = True)\n",
    "    print('.' if i % 100 else '\\n', end='')"
   ]
  },
  {
   "cell_type": "code",
   "execution_count": 9,
   "id": "convinced-toner",
   "metadata": {
    "pycharm": {
     "is_executing": false
    }
   },
   "outputs": [
    {
     "data": {
      "text/plain": "<Figure size 432x288 with 1 Axes>",
      "image/png": "[encoded data removed]"
     },
     "metadata": {
      "needs_background": "light"
     },
     "output_type": "display_data"
    }
   ],
   "source": [
    "plt.plot(losses)\n",
    "plt.xlabel('iters')\n",
    "plt.ylabel('loss')\n",
    "plt.title('Convergence of SVI');"
   ]
  },
  {
   "cell_type": "code",
   "execution_count": 10,
   "id": "connected-parameter",
   "metadata": {
    "pycharm": {
     "is_executing": false
    }
   },
   "outputs": [],
   "source": [
    "from scipy.stats import beta,pareto\n",
    "import matplotlib.patches as mpatches\n",
    "\n",
    "plt.rcParams[\"figure.figsize\"] = (10,8)\n",
    "\n",
    "def plot_results(data, bins = 50, tail = True):\n",
    "    \n",
    "    fig, axs = plt.subplots(3)\n",
    "    idx1 = 0\n",
    "    idx2 = 0\n",
    "    for i,kr in enumerate(data):\n",
    "        \n",
    "        axs[i].hist(data[kr].detach().numpy(), bins=bins, density=True, alpha=0.48)\n",
    "        xmin, xmax = plt.xlim()\n",
    "        karyos = list(data.keys())\n",
    "        major = [int(str(i).split(\":\")[0]) for i in karyos]\n",
    "        minor = [int(str(i).split(\":\")[1]) for i in karyos]\n",
    "        theoretical_num_clones = [1 if (mn == 0 or mn == mj) else 2 for mj,mn in zip(major,minor)]\n",
    "        assignment_probs = pyro.param('param_weights_{}'.format(theoretical_num_clones[i])).detach().numpy()\n",
    "        if tail:\n",
    "            tail_probs = pyro.param('param_tail_weights').detach().numpy()\n",
    "\n",
    "        \n",
    "        for j in range(assignment_probs.shape[1]):\n",
    "            if theoretical_num_clones[i] == 1:\n",
    "                b1 = pyro.param('b_1') \n",
    "                a1 = pyro.param('a_1') \n",
    "                beta_mean = a1[j,idx1].detach().numpy()\n",
    "                beta_samples = b1[j,idx1].detach().numpy()\n",
    "                iw = idx1\n",
    "                cl = \"tab:green\" if j < 1 else \"tab:red\"\n",
    "                \n",
    "            else:\n",
    "                b2 = pyro.param('b_2') \n",
    "                a2 = pyro.param('a_2') \n",
    "                beta_mean = a2[j,idx2].detach().numpy()\n",
    "                beta_samples = b2[j,idx2].detach().numpy()\n",
    "                iw = idx2\n",
    "                cl = \"tab:green\" if j < 2 else \"tab:red\"\n",
    "             \n",
    "            x = np.linspace(0.05, 1, 200)\n",
    "            if tail:\n",
    "                p = beta.pdf(x, beta_mean * beta_samples, (1 - beta_mean) * beta_samples) * assignment_probs[iw,j] * tail_probs[i,1]\n",
    "            else:\n",
    "                p = beta.pdf(x, beta_mean * beta_samples, (1 - beta_mean) * beta_samples) * assignment_probs[iw,j] \n",
    "\n",
    "            axs[i].plot(x, p, linewidth=3, color = cl)\n",
    "        if tail:\n",
    "            alpha = pyro.param('ap'.format(i)).detach().numpy()\n",
    "            x = np.linspace(0.05, 1, 200)\n",
    "            p = pareto.pdf(x,alpha,scale = torch.min(data[kr])) * tail_probs[i,0]\n",
    "            axs[i].plot(x, p, linewidth=3, color = \"tab:pink\")\n",
    "        if theoretical_num_clones[i] == 1:\n",
    "            idx1+=1\n",
    "        else:\n",
    "            idx2+=1\n",
    "    pink_patch = mpatches.Patch(color='tab:pink', label='Tail')\n",
    "    red_patch = mpatches.Patch(color='tab:red', label='Subclonal')\n",
    "    green_patch = mpatches.Patch(color='tab:green', label='Clonal')\n",
    "\n",
    "    plt.legend(handles = [pink_patch,red_patch, green_patch ])\n",
    "\n",
    "        \n",
    "    plt.savefig(\"results1.png\", dpi = 300)"
   ]
  },
  {
   "cell_type": "code",
   "execution_count": 11,
   "id": "simplified-printer",
   "metadata": {
    "pycharm": {
     "is_executing": false
    }
   },
   "outputs": [
    {
     "data": {
      "text/plain": "<Figure size 720x576 with 3 Axes>",
      "image/png": "[encoded data removed]"
     },
     "metadata": {
      "needs_background": "light"
     },
     "output_type": "display_data"
    }
   ],
   "source": [
    "plot_results(inp, tail = True, bins = 60)"
   ]
  },
  {
   "cell_type": "code",
   "execution_count": 12,
   "id": "assisted-cycle",
   "metadata": {
    "pycharm": {
     "is_executing": false
    }
   },
   "outputs": [],
   "source": [
    "#run(model, inp, N_warm = 0)"
   ]
  },
  {
   "cell_type": "code",
   "execution_count": 13,
   "id": "postal-tuition",
   "metadata": {
    "pycharm": {
     "is_executing": false
    }
   },
   "outputs": [
    {
     "data": {
      "text/plain": "tensor([[0.8484, 0.1516],\n        [0.8605, 0.1395]], grad_fn=<DivBackward0>)"
     },
     "metadata": {},
     "output_type": "execute_result",
     "execution_count": 13
    }
   ],
   "source": [
    "pyro.param('param_weights_1') "
   ]
  },
  {
   "cell_type": "code",
   "execution_count": 14,
   "id": "pregnant-volume",
   "metadata": {
    "pycharm": {
     "is_executing": false
    }
   },
   "outputs": [
    {
     "data": {
      "text/plain": "tensor(1.5848, grad_fn=<AddBackward0>)"
     },
     "metadata": {},
     "output_type": "execute_result",
     "execution_count": 14
    }
   ],
   "source": [
    "pyro.param('ap') "
   ]
  },
  {
   "cell_type": "code",
   "execution_count": 15,
   "id": "furnished-narrative",
   "metadata": {
    "pycharm": {
     "is_executing": false
    }
   },
   "outputs": [
    {
     "data": {
      "text/plain": "(array([8.780e+02, 4.870e+02, 3.110e+02, 8.150e+02, 3.102e+03, 3.880e+02,\n        5.000e+00, 3.000e+00, 2.000e+00, 8.000e+00]),\n array([0.04404505, 0.13954054, 0.23503605, 0.33053154, 0.42602703,\n        0.5215225 , 0.61701804, 0.7125135 , 0.808009  , 0.9035045 ,\n        0.999     ], dtype=float32),\n <BarContainer object of 10 artists>)"
     },
     "metadata": {},
     "output_type": "execute_result",
     "execution_count": 15
    },
    {
     "data": {
      "text/plain": "<Figure size 720x576 with 1 Axes>",
      "image/png": "[encoded data removed]"
     },
     "metadata": {
      "needs_background": "light"
     },
     "output_type": "display_data"
    }
   ],
   "source": [
    "plt.hist(inp[\"1:1\"].detach().numpy())"
   ]
  },
  {
   "cell_type": "code",
   "execution_count": 16,
   "id": "challenging-satin",
   "metadata": {
    "pycharm": {
     "is_executing": false
    }
   },
   "outputs": [
    {
     "data": {
      "text/plain": "{'ap': tensor(1.5848, grad_fn=<AddBackward0>),\n 'param_tail_weights': tensor([[0.1952, 0.8048],\n         [0.1729, 0.8271],\n         [0.2481, 0.7519]], grad_fn=<DivBackward0>),\n 'param_weights_2': tensor([[0.2108, 0.5530, 0.2361]], grad_fn=<DivBackward0>),\n 'param_weights_1': tensor([[0.8484, 0.1516],\n         [0.8605, 0.1395]], grad_fn=<DivBackward0>),\n 'a_1': tensor([[0.9051, 0.4642],\n         [0.4438, 0.2267]], dtype=torch.float64, grad_fn=<ClampBackward>),\n 'b_1': tensor([[ 64.2156, 135.6828],\n         [ 77.2952, 105.7849]], grad_fn=<AddBackward0>),\n 'a_2': tensor([[0.6408],\n         [0.3125],\n         [0.1475]], grad_fn=<ClampBackward>),\n 'b_2': tensor([[161.3179],\n         [217.2962],\n         [198.0625]], grad_fn=<AddBackward0>)}"
     },
     "metadata": {},
     "output_type": "execute_result",
     "execution_count": 16
    }
   ],
   "source": [
    "param_names = pyro.get_param_store()\n",
    "res = {nms: pyro.param(nms) for nms in param_names}\n",
    "res"
   ]
  },
  {
   "cell_type": "code",
   "execution_count": 17,
   "outputs": [],
   "source": [
    "\n",
    "def compute_likelihood_from_params_tail(data, params, i, theo_clones, counts_clone):\n",
    "    j = counts_clone[i]\n",
    "    if theo_clones[i] == 2:\n",
    "        beta = beta_lk(params['a_2'][:,j] * params['b_2'][:,j],\n",
    "                       (1 - params['a_2'][:,j]) * params['b_2'][:, j],\n",
    "                       params['param_weights_{}'.format(theo_clones[i])][j, :],\n",
    "                       len(params['a_2'][:, j]),\n",
    "                       data)\n",
    "        pareto = dist.Pareto(torch.min(data) - 1e-5, params['ap']).log_prob(data)\n",
    "        lk = final_lk(pareto, beta, params['param_tail_weights'][i, :])\n",
    "    else:\n",
    "        beta = beta_lk(params['a_1'][:, j] * params['b_1'][:, j],\n",
    "                       (1 - params['a_1'][:, i]) * params['b_1'][:, j],\n",
    "                       params['param_weights_{}'.format(theo_clones[i])][j,:],\n",
    "                       len(params['a_1'][:, j]),\n",
    "                       data)\n",
    "        pareto = dist.Pareto(torch.min(data) - 1e-5, params['ap']).log_prob(data)\n",
    "        lk = final_lk(pareto, beta, params['param_tail_weights'][i, :])\n",
    "    return lk"
   ],
   "metadata": {
    "collapsed": false,
    "pycharm": {
     "name": "#%%\n",
     "is_executing": false
    }
   }
  },
  {
   "cell_type": "code",
   "execution_count": 18,
   "outputs": [
    {
     "traceback": [
      "\u001b[0;31m---------------------------------------------------------------------------\u001b[0m",
      "\u001b[0;31mNameError\u001b[0m                                 Traceback (most recent call last)",
      "\u001b[0;32m<ipython-input-18-456236e80af3>\u001b[0m in \u001b[0;36m<module>\u001b[0;34m\u001b[0m\n\u001b[0;32m----> 1\u001b[0;31m \u001b[0mcompute_likelihood_from_params_tail\u001b[0m\u001b[0;34m(\u001b[0m\u001b[0minp\u001b[0m\u001b[0;34m[\u001b[0m\u001b[0;34m\"2:1\"\u001b[0m\u001b[0;34m]\u001b[0m\u001b[0;34m,\u001b[0m \u001b[0mres\u001b[0m\u001b[0;34m,\u001b[0m \u001b[0;36m2\u001b[0m\u001b[0;34m,\u001b[0m\u001b[0mget_theo_clones\u001b[0m\u001b[0;34m(\u001b[0m\u001b[0minp\u001b[0m\u001b[0;34m)\u001b[0m\u001b[0;34m,\u001b[0m \u001b[0mget_clones_counts\u001b[0m\u001b[0;34m(\u001b[0m\u001b[0mget_theo_clones\u001b[0m\u001b[0;34m(\u001b[0m\u001b[0minp\u001b[0m\u001b[0;34m)\u001b[0m\u001b[0;34m)\u001b[0m\u001b[0;34m)\u001b[0m\u001b[0;34m\u001b[0m\u001b[0;34m\u001b[0m\u001b[0m\n\u001b[0m\u001b[1;32m      2\u001b[0m \u001b[0;34m\u001b[0m\u001b[0m\n",
      "\u001b[0;31mNameError\u001b[0m: name 'get_theo_clones' is not defined"
     ],
     "ename": "NameError",
     "evalue": "name 'get_theo_clones' is not defined",
     "output_type": "error"
    }
   ],
   "source": [
    "compute_likelihood_from_params_tail(inp[\"2:1\"], res, 2,get_theo_clones(inp), get_clones_counts(get_theo_clones(inp)))"
   ],
   "metadata": {
    "collapsed": false,
    "pycharm": {
     "name": "#%%\n",
     "is_executing": false
    }
   }
  },
  {
   "cell_type": "code",
   "execution_count": null,
   "outputs": [],
   "source": [
    "res['param_tail_weights'][0,:]"
   ],
   "metadata": {
    "collapsed": false,
    "pycharm": {
     "name": "#%%\n",
     "is_executing": false
    }
   }
  },
  {
   "cell_type": "code",
   "execution_count": 19,
   "outputs": [],
   "source": [
    "params = res\n"
   ],
   "metadata": {
    "collapsed": false,
    "pycharm": {
     "name": "#%%\n",
     "is_executing": false
    }
   }
  },
  {
   "cell_type": "code",
   "execution_count": 20,
   "outputs": [],
   "source": [
    "def get_clones_counts(theoretical_num_clones):\n",
    "    uniques = list(set(theoretical_num_clones))\n",
    "    uniques = {k : 0 for k in uniques}\n",
    "    res = [None] * len(theoretical_num_clones)\n",
    "    for i in range(len(theoretical_num_clones)):\n",
    "        res[i] = uniques[theoretical_num_clones[i]]\n",
    "        uniques[theoretical_num_clones[i]] += 1\n",
    "    return(res)"
   ],
   "metadata": {
    "collapsed": false,
    "pycharm": {
     "name": "#%%\n",
     "is_executing": false
    }
   }
  },
  {
   "cell_type": "code",
   "execution_count": 21,
   "outputs": [],
   "source": [
    "def get_theo_clones(data):\n",
    "    karyos = list(data.keys())\n",
    "    major = [int(str(i).split(\":\")[0]) for i in karyos]\n",
    "    minor = [int(str(i).split(\":\")[1]) for i in karyos]\n",
    "    theoretical_num_clones = [1 if (mn == 0 or mn == mj) else 2 for mj, mn in zip(major, minor)]\n",
    "    return theoretical_num_clones\n"
   ],
   "metadata": {
    "collapsed": false,
    "pycharm": {
     "name": "#%%\n",
     "is_executing": false
    }
   }
  },
  {
   "cell_type": "code",
   "execution_count": null,
   "outputs": [],
   "source": [
    "theo_clones = get_clones_counts(get_theo_clones(inp))"
   ],
   "metadata": {
    "collapsed": false,
    "pycharm": {
     "name": "#%%\n",
     "is_executing": false
    }
   }
  },
  {
   "cell_type": "code",
   "execution_count": null,
   "outputs": [],
   "source": [
    "beta = beta_lk(params['a_2'][:,0] * params['b_2'][:,0],\n",
    "                       (1 - params['a_2'][:,0]) * params['b_2'][:, 0],\n",
    "                       params['param_weights_{}'.format(get_theo_clones(inp)[2])][0, :],\n",
    "                       len(params['a_2'][:,0]),\n",
    "                       inp[\"2:1\"])"
   ],
   "metadata": {
    "collapsed": false,
    "pycharm": {
     "name": "#%%\n",
     "is_executing": false
    }
   }
  },
  {
   "cell_type": "code",
   "execution_count": 55,
   "outputs": [
    {
     "name": "stdout",
     "text": [
      "torch.Size([3, 518])\n",
      "torch.Size([3, 5999])\n",
      "torch.Size([4, 155])\n"
     ],
     "output_type": "stream"
    },
    {
     "data": {
      "text/plain": "tensor([1.0000, 1.0000, 1.0000, 1.0000, 1.0000, 1.0000, 1.0000, 1.0000, 1.0000,\n        1.0000, 1.0000, 1.0000, 1.0000, 1.0000, 1.0000, 1.0000, 1.0000, 1.0000,\n        1.0000, 1.0000, 1.0000, 1.0000, 1.0000, 1.0000, 1.0000, 1.0000, 1.0000,\n        1.0000, 1.0000, 1.0000, 1.0000, 1.0000, 1.0000, 1.0000, 1.0000, 1.0000,\n        1.0000, 1.0000, 1.0000, 1.0000, 1.0000, 1.0000, 1.0000, 1.0000, 1.0000,\n        1.0000, 1.0000, 1.0000, 1.0000, 1.0000, 1.0000, 1.0000, 1.0000, 1.0000,\n        1.0000, 1.0000, 1.0000, 1.0000, 1.0000, 1.0000, 1.0000, 1.0000, 1.0000,\n        1.0000, 1.0000, 1.0000, 1.0000, 1.0000, 1.0000, 1.0000, 1.0000, 1.0000,\n        1.0000, 1.0000, 1.0000, 1.0000, 1.0000, 1.0000, 1.0000, 1.0000, 1.0000,\n        1.0000, 1.0000, 1.0000, 1.0000, 1.0000, 1.0000, 1.0000, 1.0000, 1.0000,\n        1.0000, 1.0000, 1.0000, 1.0000, 1.0000, 1.0000, 1.0000, 1.0000, 1.0000,\n        1.0000, 1.0000, 1.0000, 1.0000, 1.0000, 1.0000, 1.0000, 1.0000, 1.0000,\n        1.0000, 1.0000, 1.0000, 1.0000, 1.0000, 1.0000, 1.0000, 1.0000, 1.0000,\n        1.0000, 1.0000, 1.0000, 1.0000, 1.0000, 1.0000, 1.0000, 1.0000, 1.0000,\n        1.0000, 1.0000, 1.0000, 1.0000, 1.0000, 1.0000, 1.0000, 1.0000, 1.0000,\n        1.0000, 1.0000, 1.0000, 1.0000, 1.0000, 1.0000, 1.0000, 1.0000, 1.0000,\n        1.0000, 1.0000, 1.0000, 1.0000, 1.0000, 1.0000, 1.0000, 1.0000, 1.0000,\n        1.0000, 1.0000], grad_fn=<SumBackward1>)"
     },
     "metadata": {},
     "output_type": "execute_result",
     "execution_count": 55
    }
   ],
   "source": [
    "pt = retrieve_posterior_probs(inp, params, True)\n",
    "pt[\"posteriors\"][\"2:1\"].sum(axis =0)"
   ],
   "metadata": {
    "collapsed": false,
    "pycharm": {
     "name": "#%%\n",
     "is_executing": false
    }
   }
  },
  {
   "cell_type": "code",
   "execution_count": 36,
   "outputs": [],
   "source": [
    "def retrieve_posterior_probs(data, parameters, tail):\n",
    "    lks = compute_likelihood_from_params(data, parameters, tail, tsum = False)\n",
    "    res = {k : 0 for k in data.keys()}\n",
    "    for k in res:\n",
    "        lks_k = lks[k]\n",
    "        norm_fact = log_sum_exp(lks_k)\n",
    "        res[k] = torch.exp(lks_k - norm_fact)\n",
    "    parameters[\"posteriors\"] = res\n",
    "    return parameters"
   ],
   "metadata": {
    "collapsed": false,
    "pycharm": {
     "name": "#%%\n",
     "is_executing": false
    }
   }
  },
  {
   "cell_type": "code",
   "execution_count": 53,
   "outputs": [],
   "source": [
    "\n",
    "def beta_lk(beta_a, beta_b, weights, K, data):\n",
    "    lk = torch.ones(K, len(data))\n",
    "    if K == 1:\n",
    "        return torch.log(weights) + dist.Beta(beta_a, beta_b).log_prob(data)\n",
    "    for k in range(K):\n",
    "        lk[k, :] = torch.log(weights[k]) + dist.Beta(beta_a[k], beta_b[k]).log_prob(data)\n",
    "    return lk\n",
    "\n",
    "def final_lk(pareto, beta, weights):\n",
    "    lk = torch.ones(1 + beta.shape[0], beta.shape[1])\n",
    "    lk[0, :] = torch.log(weights[0]) + pareto\n",
    "    lk[1:(1 + beta.shape[1]), :] = torch.log(weights[1]) + beta\n",
    "    print(lk.shape)\n",
    "    return lk\n",
    "\n",
    "def compute_likelihood_from_params(data, params, tail, tsum = True):\n",
    "\n",
    "    theoretical_num_clones = get_theo_clones(data)\n",
    "    clones_count = get_clones_counts(theoretical_num_clones)\n",
    "    if tsum:\n",
    "        lk = 0\n",
    "    else :\n",
    "        lk = [None] * len(theoretical_num_clones)\n",
    "    for i,k in enumerate(data):\n",
    "\n",
    "        if tail:\n",
    "            tmp = compute_likelihood_from_params_tail(data[k], params, i, theoretical_num_clones, clones_count)\n",
    "            if tsum:\n",
    "                tmp = log_sum_exp(tmp)\n",
    "                lk += torch.sum(tmp)\n",
    "            else:\n",
    "                lk[i] = tmp\n",
    "\n",
    "        else:\n",
    "            tmp = compute_likelihood_from_params_no_tail(data[k], params, i, theoretical_num_clones, clones_count)\n",
    "            if tsum:\n",
    "                tmp = log_sum_exp(tmp)\n",
    "                lk += torch.sum(tmp)\n",
    "            else:\n",
    "                lk[i] = tmp\n",
    "\n",
    "    if not tsum:\n",
    "        ks = data.keys()\n",
    "        lk = {k:v for k,v in zip(ks, lk)}\n",
    "    return lk\n",
    "\n",
    "\n",
    "\n",
    "def compute_likelihood_from_params_tail(data, params, i, theo_clones, counts_clone):\n",
    "    j = counts_clone[i]\n",
    "    if theo_clones[i] == 2:\n",
    "        beta = beta_lk(params['a_2'][:,j] * params['b_2'][:,j],\n",
    "                       (1 - params['a_2'][:,j]) * params['b_2'][:, j],\n",
    "                       params['param_weights_{}'.format(theo_clones[i])][j, :],\n",
    "                       len(params['a_2'][:, j]),\n",
    "                       data)\n",
    "        pareto = dist.Pareto(torch.min(data) - 1e-5, params['ap']).log_prob(data)\n",
    "        lk = final_lk(pareto, beta, params['param_tail_weights'][i, :])\n",
    "    else:\n",
    "        beta = beta_lk(params['a_1'][:, j] * params['b_1'][:, j],\n",
    "                       (1 - params['a_1'][:, j]) * params['b_1'][:, j],\n",
    "                       params['param_weights_{}'.format(theo_clones[i])][j,:],\n",
    "                       len(params['a_1'][:, j]),\n",
    "                       data)\n",
    "        pareto = dist.Pareto(torch.min(data) - 1e-5, params['ap']).log_prob(data)\n",
    "        lk = final_lk(pareto, beta, params['param_tail_weights'][i, :])\n",
    "    return lk\n",
    "\n",
    "def compute_likelihood_from_params_no_tail(data, params, i, theo_clones, counts_clone):\n",
    "    j = counts_clone[i]\n",
    "    if theo_clones[i] == 2:\n",
    "        lk = beta_lk(params['a_2'][:, j] * params['b_2'][:, j],\n",
    "                       (1 - params['a_2'][:, j]) * params['b_2'][:, j],\n",
    "                       params['param_weights_{}'.format(theo_clones[i])][j, :],\n",
    "                       len(params['a_2'][:, j]),\n",
    "                       data)\n",
    "    else:\n",
    "        lk = beta_lk(params['a_1'][:, j] * params['b_1'][:, j],\n",
    "                       (1 - params['a_1'][:, j]) * params['b_1'][:, j],\n",
    "                       params['param_weights_{}'.format(theo_clones[i])][j, :],\n",
    "                       len(params['a_1'][:, j]),\n",
    "                       data)\n",
    "    return lk\n"
   ],
   "metadata": {
    "collapsed": false,
    "pycharm": {
     "name": "#%%\n",
     "is_executing": false
    }
   }
  },
  {
   "cell_type": "code",
   "execution_count": null,
   "outputs": [],
   "source": [
    "\n"
   ],
   "metadata": {
    "collapsed": false,
    "pycharm": {
     "name": "#%%\n"
    }
   }
  }
 ],
 "metadata": {
  "kernelspec": {
   "display_name": "Python 3",
   "language": "python",
   "name": "python3"
  },
  "language_info": {
   "codemirror_mode": {
    "name": "ipython",
    "version": 3
   },
   "file_extension": ".py",
   "mimetype": "text/x-python",
   "name": "python",
   "nbconvert_exporter": "python",
   "pygments_lexer": "ipython3",
   "version": "3.8.5"
  },
  "pycharm": {
   "stem_cell": {
    "cell_type": "raw",
    "source": [],
    "metadata": {
     "collapsed": false
    }
   }
  }
 },
 "nbformat": 4,
 "nbformat_minor": 5
}