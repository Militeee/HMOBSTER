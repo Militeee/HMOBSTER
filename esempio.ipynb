{
 "cells": [
  {
   "cell_type": "code",
   "execution_count": 1,
   "outputs": [],
   "source": [
    "import numpy\n",
    "import torch\n",
    "import mobster as mb\n",
    "\n",
    "import numpy as np\n"
   ],
   "metadata": {
    "collapsed": false,
    "pycharm": {
     "name": "#%%\n"
    }
   }
  },
  {
   "cell_type": "code",
   "execution_count": 2,
   "outputs": [],
   "source": [
    "data = mb.load_example_data(\"./\")"
   ],
   "metadata": {
    "collapsed": false,
    "pycharm": {
     "name": "#%%\n"
    }
   }
  },
  {
   "cell_type": "code",
   "execution_count": 3,
   "outputs": [
    {
     "name": "stdout",
     "output_type": "stream",
     "text": [
      "Running MOBSTER on 4 karyotypes with 1 subclones.\n",
      "Fitting a model with tail\n"
     ]
    },
    {
     "name": "stderr",
     "output_type": "stream",
     "text": [
      "ELBO: 46671.487134339  :  58%|█████▊    | 584/1000 [01:07<00:48,  8.60it/s]"
     ]
    },
    {
     "name": "stdout",
     "output_type": "stream",
     "text": [
      "Computing cluster assignements.\n"
     ]
    },
    {
     "name": "stderr",
     "output_type": "stream",
     "text": [
      "\n"
     ]
    },
    {
     "name": "stdout",
     "output_type": "stream",
     "text": [
      "Computing information criteria.\n",
      "Done!\n",
      "\n"
     ]
    }
   ],
   "source": [
    "import pyro\n",
    "\n",
    "pyro.enable_validation(True)\n",
    "fitted = mb.fit_mobster(data,1,1, subclonal_prior=\"Beta\", multi_tail = False, purity = 0.9,  truncated_pareto=True, max_it = 1000, lr = 0.01,  e = 0.005, lrd_gamma = 0.1,\n",
    "        number_of_trials_k= 1000, prior_lims_k=[1,1000000], prior_lims_clonal=[1,1000000.], number_of_trials_clonal_mean= 1000)\n"
   ],
   "metadata": {
    "collapsed": false,
    "pycharm": {
     "name": "#%%\n"
    }
   }
  },
  {
   "cell_type": "code",
   "execution_count": 6,
   "outputs": [],
   "source": [
    "\n",
    "\n",
    "mb.plot_results(data, fitted, output= \"cane.png\", drivers=None)"
   ],
   "metadata": {
    "collapsed": false,
    "pycharm": {
     "name": "#%%\n"
    }
   }
  },
  {
   "cell_type": "code",
   "execution_count": 4,
   "outputs": [
    {
     "data": {
      "text/plain": "{'1:0': {'cluster_probs': array([[4.1139135e-03, 2.7543779e-03, 2.9391225e-03, ..., 5.3838454e-03,\n          1.0000000e+00, 3.7982892e-02],\n         [9.6902275e-01, 9.7670627e-01, 9.7569078e-01, ..., 9.6167892e-01,\n          3.0396763e-31, 7.9033858e-01],\n         [2.6863437e-02, 2.0539468e-02, 2.1370202e-02, ..., 3.2937229e-02,\n          2.1590541e-08, 1.7167842e-01]], dtype=float32),\n  'cluster_assignments': array(['C1', 'C1', 'C1', ..., 'C1', 'Tail', 'C1'], dtype=object),\n  'cluster_types': array(['Tail', 'C1', 'S1'], dtype='<U4'),\n  'mixture_probs': array([0.02426884, 0.92924947, 0.04648174], dtype=float32),\n  'beta_concentration1': array([1197.4833], dtype=float32),\n  'beta_concentration2': array([354.43954], dtype=float32),\n  'dispersion_noise': 0.050639689637180484,\n  'ccf_subclones': array([0.77497447], dtype=float32),\n  'loc_subclones': array([0.697477], dtype=float32),\n  'n_trials_subclonal': array([30.826311], dtype=float32),\n  'tail_shape': array([0.6377746], dtype=float32),\n  'tail_scale': 0.078125,\n  'tail_noise': 0.016914047123104112,\n  'tail_higher': array(0.77161264, dtype=float32),\n  'multi_tail_weights': array(1)},\n '1:1': {'cluster_probs': array([[2.4516441e-04, 9.2998520e-04, 6.5626297e-04, ..., 8.2579814e-04,\n          4.5804339e-04, 5.8944063e-04],\n         [9.8895001e-01, 9.8541158e-01, 9.8833388e-01, ..., 9.8661542e-01,\n          9.9022686e-01, 9.8974895e-01],\n         [1.0804774e-02, 1.3658325e-02, 1.1009838e-02, ..., 1.2558669e-02,\n          9.3149459e-03, 9.6615637e-03]], dtype=float32),\n  'cluster_assignments': array(['C1', 'C1', 'C1', ..., 'C1', 'C1', 'C1'], dtype=object),\n  'cluster_types': array(['Tail', 'C1', 'S1'], dtype='<U4'),\n  'mixture_probs': array([0.0032998 , 0.9651741 , 0.03152617], dtype=float32),\n  'beta_concentration1': array([1616.9508], dtype=float32),\n  'beta_concentration2': array([2085.4429], dtype=float32),\n  'dispersion_noise': 0.04363835518838459,\n  'ccf_subclones': array([0.77497447], dtype=float32),\n  'loc_subclones': array([0.3487385], dtype=float32),\n  'n_trials_subclonal': array([18.587688], dtype=float32),\n  'tail_shape': array([0.6377746], dtype=float32),\n  'tail_scale': 0.05,\n  'tail_noise': 0.02115481206123843,\n  'tail_higher': array(0.4367312, dtype=float32),\n  'multi_tail_weights': array(1)},\n '2:0': {'cluster_probs': array([[4.53212671e-03, 2.15238970e-15, 1.42490391e-20, ...,\n          6.65789646e-11, 6.50448850e-25, 8.57448729e-04],\n         [9.80417013e-01, 1.13993155e-11, 4.94794243e-16, ...,\n          2.42649577e-07, 4.41106825e-20, 9.97050345e-01],\n         [3.06359000e-29, 1.00000000e+00, 1.00000000e+00, ...,\n          9.99999762e-01, 1.00000000e+00, 7.98143827e-21],\n         [1.50509048e-02, 1.21109340e-13, 6.11483969e-15, ...,\n          7.89243948e-10, 1.66802062e-17, 2.09212350e-03]], dtype=float32),\n  'cluster_assignments': array(['C1', 'C2', 'C2', ..., 'C2', 'C2', 'C1'], dtype=object),\n  'cluster_types': array(['Tail', 'C1', 'C2', 'S1'], dtype='<U4'),\n  'mixture_probs': array([0.00164499, 0.23059839, 0.76442343, 0.00333313], dtype=float32),\n  'beta_concentration1': array([ 930.3694, 1853.3693], dtype=float32),\n  'beta_concentration2': array([1187.7635 ,  264.76385], dtype=float32),\n  'dispersion_noise': 0.06994514523488625,\n  'ccf_subclones': array([0.77497447], dtype=float32),\n  'loc_subclones': array([0.3487385], dtype=float32),\n  'n_trials_subclonal': array([105.35426], dtype=float32),\n  'tail_shape': array([0.6377746], dtype=float32),\n  'tail_scale': 0.15873016,\n  'tail_noise': 0.0229573148811206,\n  'tail_higher': array(0.4392403, dtype=float32),\n  'multi_tail_weights': array(1)},\n '2:1': {'cluster_probs': array([[5.6721427e-04, 3.8953735e-25, 5.7566602e-04, ..., 3.9876191e-04,\n          4.4219266e-03, 5.8651163e-04],\n         [9.9290043e-01, 1.0336130e-18, 9.9216920e-01, ..., 9.9391198e-01,\n          9.4556284e-01, 9.9263889e-01],\n         [2.7717803e-14, 1.0000000e+00, 8.1480145e-08, ..., 1.3676550e-10,\n          2.5971550e-18, 5.8377402e-14],\n         [6.5323678e-03, 6.0047007e-09, 7.2549577e-03, ..., 5.6891809e-03,\n          5.0015427e-02, 6.7746546e-03]], dtype=float32),\n  'cluster_assignments': array(['C1', 'C2', 'C1', ..., 'C1', 'C1', 'C1'], dtype=object),\n  'cluster_types': array(['Tail', 'C1', 'C2', 'S1'], dtype='<U4'),\n  'mixture_probs': array([0.00250959, 0.8122914 , 0.1668734 , 0.01832559], dtype=float32),\n  'beta_concentration1': array([ 568.10754, 1138.747  ], dtype=float32),\n  'beta_concentration2': array([1305.528  ,  734.88855], dtype=float32),\n  'dispersion_noise': 0.04291504166120291,\n  'ccf_subclones': array([0.77497447], dtype=float32),\n  'loc_subclones': array([0.23249234], dtype=float32),\n  'n_trials_subclonal': array([58.412235], dtype=float32),\n  'tail_shape': array([0.6377746], dtype=float32),\n  'tail_scale': 0.05,\n  'tail_noise': 0.019839215052931767,\n  'tail_higher': array(0.30321133, dtype=float32),\n  'multi_tail_weights': array(1)}}"
     },
     "execution_count": 4,
     "metadata": {},
     "output_type": "execute_result"
    }
   ],
   "source": [
    "fitted[\"model_parameters\"]\n",
    "\n"
   ],
   "metadata": {
    "collapsed": false,
    "pycharm": {
     "name": "#%%\n"
    }
   }
  }
 ],
 "metadata": {
  "kernelspec": {
   "name": "python3",
   "language": "python",
   "display_name": "Python 3"
  },
  "language_info": {
   "codemirror_mode": {
    "name": "ipython",
    "version": 3
   },
   "file_extension": ".py",
   "mimetype": "text/x-python",
   "name": "python",
   "nbconvert_exporter": "python",
   "pygments_lexer": "ipython3",
   "version": "3.8.5"
  }
 },
 "nbformat": 4,
 "nbformat_minor": 5
}