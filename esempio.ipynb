{
 "cells": [
  {
   "cell_type": "code",
   "execution_count": 1,
   "id": "bf79dfec",
   "metadata": {
    "pycharm": {
     "name": "#%%\n"
    }
   },
   "outputs": [
    {
     "name": "stderr",
     "output_type": "stream",
     "text": [
      "/Users/salvatore.milite/miniforge3/envs/SUSA/lib/python3.9/site-packages/scipy/__init__.py:146: UserWarning: A NumPy version >=1.16.5 and <1.23.0 is required for this version of SciPy (detected version 1.23.1\n",
      "  warnings.warn(f\"A NumPy version >={np_minversion} and <{np_maxversion}\"\n"
     ]
    }
   ],
   "source": [
    "import numpy\n",
    "import torch\n",
    "import mobster as mb\n",
    "\n",
    "import numpy as np\n",
    "\n",
    "%load_ext autoreload\n",
    "%autoreload 2"
   ]
  },
  {
   "cell_type": "code",
   "execution_count": 2,
   "id": "3e61590f",
   "metadata": {
    "pycharm": {
     "name": "#%%\n"
    }
   },
   "outputs": [],
   "source": [
    "data = mb.load_example_data(\"./\")\n",
    "data[\"3:0\"] = data[\"1:0\"]"
   ]
  },
  {
   "cell_type": "code",
   "execution_count": 3,
   "id": "fe899da3",
   "metadata": {
    "pycharm": {
     "name": "#%%\n"
    }
   },
   "outputs": [
    {
     "name": "stdout",
     "output_type": "stream",
     "text": [
      "Running MOBSTER on 4 karyotypes with 2 subclones.\n",
      "Fitting a model with tail\n"
     ]
    },
    {
     "name": "stderr",
     "output_type": "stream",
     "text": [
      "ELBO: 7915.019757977  : 100%|██████████| 1/1 [00:00<00:00, 24.66it/s]"
     ]
    },
    {
     "name": "stdout",
     "output_type": "stream",
     "text": [
      "Computing cluster assignements.\n",
      "Computing information criteria.\n",
      "Done!\n",
      "\n"
     ]
    },
    {
     "name": "stderr",
     "output_type": "stream",
     "text": [
      "\n"
     ]
    }
   ],
   "source": [
    "import pyro\n",
    "\n",
    "pyro.enable_validation(True)\n",
    "fitted = mb.fit_mobster(data,2,1, subclonal_prior=\"Beta\", multi_tail = False,\n",
    "                        purity = 0.89,  truncated_pareto=False, max_it = 1,\n",
    "                        lr = 0.00001,  e = 1e-10, lrd_gamma = 0.1,k_means_init = False,\n",
    "        number_of_trials_subclonal= 1500, prior_lims_k=[1.,100000.],\n",
    "                        prior_lims_clonal=[1,100000.],\n",
    "                        number_of_trials_clonal_mean= 300, CUDA = False)\n"
   ]
  },
  {
   "cell_type": "code",
   "execution_count": 4,
   "id": "254f51db",
   "metadata": {
    "pycharm": {
     "name": "#%%\n"
    }
   },
   "outputs": [],
   "source": [
    "\n",
    "\n",
    "\n",
    "mb.plot_results(data, fitted, output= \"cane.png\", drivers=None)"
   ]
  },
  {
   "cell_type": "code",
   "execution_count": 32,
   "id": "5b4b6f32",
   "metadata": {},
   "outputs": [],
   "source": []
  },
  {
   "cell_type": "code",
   "execution_count": null,
   "outputs": [],
   "source": [],
   "metadata": {
    "collapsed": false,
    "pycharm": {
     "name": "#%%\n"
    }
   }
  }
 ],
 "metadata": {
  "kernelspec": {
   "name": "python3",
   "language": "python",
   "display_name": "Python 3 (ipykernel)"
  },
  "language_info": {
   "codemirror_mode": {
    "name": "ipython",
    "version": 3
   },
   "file_extension": ".py",
   "mimetype": "text/x-python",
   "name": "python",
   "nbconvert_exporter": "python",
   "pygments_lexer": "ipython3",
   "version": "3.9.7"
  }
 },
 "nbformat": 4,
 "nbformat_minor": 5
}