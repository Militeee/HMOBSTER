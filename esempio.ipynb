{
 "cells": [
  {
   "cell_type": "code",
   "execution_count": 1,
   "outputs": [
    {
     "name": "stderr",
     "text": [
      "\n",
      "Bad key \"text.kerning_factor\" on line 4 in\n",
      "/Users/salvatore/miniconda3/envs/hmobster/lib/python3.7/site-packages/matplotlib/mpl-data/stylelib/_classic_test_patch.mplstyle.\n",
      "You probably need to get an updated matplotlibrc file from\n",
      "https://github.com/matplotlib/matplotlib/blob/v3.1.3/matplotlibrc.template\n",
      "or from the matplotlib source distribution\n"
     ],
     "output_type": "stream"
    }
   ],
   "source": [
    "import mobster as mb\n",
    "\n",
    "import numpy as np\n"
   ],
   "metadata": {
    "collapsed": false,
    "pycharm": {
     "name": "#%%\n",
     "is_executing": false
    }
   }
  },
  {
   "cell_type": "code",
   "execution_count": 2,
   "outputs": [],
   "source": [
    "data = mb.load_example_data(\"./\")\n",
    "\n"
   ],
   "metadata": {
    "collapsed": false,
    "pycharm": {
     "name": "#%%\n",
     "is_executing": false
    }
   }
  },
  {
   "cell_type": "code",
   "execution_count": 3,
   "outputs": [
    {
     "name": "stdout",
     "text": [
      "Running MOBSTER on 2 karyotypes with 2 subclones.\n",
      "Fitting a model without tail\n",
      "\n",
      "Computing cluster assignements.\n",
      "Computing information criteria.\n",
      "Done!\n"
     ],
     "output_type": "stream"
    },
    {
     "name": "stderr",
     "text": [
      "ELBO: -5284.579052702  : 100%|██████████| 200/200 [00:04<00:00, 43.36it/s]\n"
     ],
     "output_type": "stream"
    }
   ],
   "source": [
    "fitted = mb.fit_mobster(data,2,0,purity = 0.95,  truncated_pareto=True, max_it = 200, lr = 0.01,  e = 0.000001, lrd_gamma = 0.1,   \n",
    "        number_of_trials_k= 300, prior_lims_k=[0.1,10000], prior_lims_clonal=[0.1,10000.], number_of_trials_clonal_mean= 300.)"
   ],
   "metadata": {
    "collapsed": false,
    "pycharm": {
     "name": "#%%\n",
     "is_executing": false
    }
   }
  },
  {
   "cell_type": "code",
   "execution_count": 4,
   "outputs": [],
   "source": [
    "\n",
    "\n",
    "mb.plot_results(data, fitted, output= \"cane.png\", drivers=None)"
   ],
   "metadata": {
    "collapsed": false,
    "pycharm": {
     "name": "#%%\n",
     "is_executing": false
    }
   }
  },
  {
   "cell_type": "code",
   "execution_count": 5,
   "outputs": [
    {
     "data": {
      "text/plain": "{'cluster_probs': array([[1.84872732e-07, 2.42316976e-01, 2.40424416e-11, ...,\n         3.97846699e-01, 7.39545491e-12, 3.69519992e-09],\n        [9.99999762e-01, 7.57654488e-01, 1.00000000e+00, ...,\n         1.35921471e-16, 1.00000000e+00, 1.20259434e-41],\n        [5.00170740e-30, 5.58710201e-19, 5.51846402e-37, ...,\n         3.78905224e-06, 6.68485733e-38, 9.99997973e-01],\n        [1.41790076e-13, 2.84890702e-05, 5.42620607e-19, ...,\n         6.02149487e-01, 1.02620285e-19, 2.02035949e-06]], dtype=float32),\n 'cluster_assignments': array(['C2', 'C2', 'C2', ..., 'S2', 'C2', 'S1'], dtype=object),\n 'cluster_types': array(['C1', 'C2', 'S1', 'S2'], dtype='<U2'),\n 'mixture_probs': array([0.3843188 , 0.39734086, 0.08379222, 0.13454814], dtype=float32),\n 'beta_concentration1': array([44.780575, 84.10113 , 13.701508, 42.99995 ], dtype=float32),\n 'beta_concentration2': array([ 95.30993,  55.98937, 126.38899, 120.55843], dtype=float32),\n 'ccf_subclones': array([0.29370776, 0.7894978 ], dtype=float32)}"
     },
     "metadata": {},
     "output_type": "execute_result",
     "execution_count": 5
    }
   ],
   "source": [
    "fitted[\"model_parameters\"][\"2:1\"]\n",
    "\n"
   ],
   "metadata": {
    "collapsed": false,
    "pycharm": {
     "name": "#%%\n",
     "is_executing": false
    }
   }
  },
  {
   "cell_type": "code",
   "execution_count": 4,
   "outputs": [],
   "source": [],
   "metadata": {
    "collapsed": false,
    "pycharm": {
     "name": "#%%\n",
     "is_executing": false
    }
   }
  }
 ],
 "metadata": {
  "kernelspec": {
   "name": "python3",
   "language": "python",
   "display_name": "Python 3"
  },
  "language_info": {
   "codemirror_mode": {
    "name": "ipython",
    "version": 3
   },
   "file_extension": ".py",
   "mimetype": "text/x-python",
   "name": "python",
   "nbconvert_exporter": "python",
   "pygments_lexer": "ipython3",
   "version": "3.8.5"
  },
  "pycharm": {
   "stem_cell": {
    "cell_type": "raw",
    "source": [],
    "metadata": {
     "collapsed": false
    }
   }
  }
 },
 "nbformat": 4,
 "nbformat_minor": 5
}