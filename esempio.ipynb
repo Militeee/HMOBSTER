{
 "cells": [
  {
   "cell_type": "code",
   "execution_count": 5,
   "id": "bf79dfec",
   "metadata": {
    "pycharm": {
     "name": "#%%\n"
    }
   },
   "outputs": [
    {
     "name": "stderr",
     "output_type": "stream",
     "text": [
      "/Users/salvatore.milite/miniforge3/envs/SUSA/lib/python3.9/site-packages/scipy/__init__.py:146: UserWarning: A NumPy version >=1.16.5 and <1.23.0 is required for this version of SciPy (detected version 1.23.1\n",
      "  warnings.warn(f\"A NumPy version >={np_minversion} and <{np_maxversion}\"\n"
     ]
    },
    {
     "name": "stdout",
     "output_type": "stream",
     "text": [
      "The autoreload extension is already loaded. To reload it, use:\n",
      "  %reload_ext autoreload\n"
     ]
    }
   ],
   "source": [
    "import numpy\n",
    "import torch\n",
    "import mobster as mb\n",
    "\n",
    "import numpy as np\n",
    "\n",
    "%load_ext autoreload\n",
    "%autoreload 2"
   ]
  },
  {
   "cell_type": "code",
   "execution_count": 6,
   "id": "3e61590f",
   "metadata": {
    "pycharm": {
     "name": "#%%\n"
    }
   },
   "outputs": [],
   "source": [
    "data = mb.load_example_data(\"./\")"
   ]
  },
  {
   "cell_type": "code",
   "execution_count": 7,
   "id": "fe899da3",
   "metadata": {
    "pycharm": {
     "name": "#%%\n"
    }
   },
   "outputs": [
    {
     "name": "stdout",
     "output_type": "stream",
     "text": [
      "Running MOBSTER on 3 karyotypes with 3 subclones.\n",
      "Fitting a model with tail\n"
     ]
    },
    {
     "name": "stderr",
     "output_type": "stream",
     "text": [
      "ELBO: 8001.246683230  : 100%|██████████| 1000/1000 [00:26<00:00, 37.32it/s]"
     ]
    },
    {
     "name": "stdout",
     "output_type": "stream",
     "text": [
      "Computing cluster assignements.\n",
      "Computing information criteria.\n",
      "Done!\n",
      "\n"
     ]
    },
    {
     "name": "stderr",
     "output_type": "stream",
     "text": [
      "\n"
     ]
    },
    {
     "name": "stdout",
     "output_type": "stream",
     "text": [
      "Running MOBSTER on 3 karyotypes with 3 subclones.\n",
      "Fitting a model with tail\n"
     ]
    },
    {
     "name": "stderr",
     "output_type": "stream",
     "text": [
      "ELBO: 8029.291644097  : 100%|██████████| 1000/1000 [00:26<00:00, 38.16it/s]"
     ]
    },
    {
     "name": "stdout",
     "output_type": "stream",
     "text": [
      "Computing cluster assignements.\n",
      "Computing information criteria.\n",
      "Done!\n",
      "\n"
     ]
    },
    {
     "name": "stderr",
     "output_type": "stream",
     "text": [
      "\n"
     ]
    }
   ],
   "source": [
    "import pyro\n",
    "\n",
    "pyro.enable_validation(True)\n",
    "fitted = mb.fit_mobster(data,3,1, subclonal_prior=\"Beta\", multi_tail = False,\n",
    "                        purity = 0.89,  truncated_pareto=True, max_it = 1000,\n",
    "                        lr = 0.01,  e = 1e-10, lrd_gamma = 0.1,k_means_init = False,\n",
    "        number_of_trials_subclonal= 1500, prior_lims_k=[1.,100000.],\n",
    "                        prior_lims_clonal=[1,100000.],\n",
    "                        number_of_trials_clonal_mean= 300, CUDA = False)\n"
   ]
  },
  {
   "cell_type": "code",
   "execution_count": 8,
   "id": "254f51db",
   "metadata": {
    "pycharm": {
     "name": "#%%\n"
    }
   },
   "outputs": [],
   "source": [
    "\n",
    "\n",
    "\n",
    "mb.plot_results(data, fitted, output= \"cane.png\", drivers=None)"
   ]
  },
  {
   "cell_type": "code",
   "execution_count": 7,
   "id": "5b4b6f32",
   "metadata": {},
   "outputs": [
    {
     "data": {
      "text/plain": "{'information_criteria': {'likelihood': array(-25926.11, dtype=float32),\n  'AIC': array(51910.22, dtype=float32),\n  'BIC': array(52125.203, dtype=float32),\n  'ICL': array(53386.734, dtype=float32)},\n 'model_parameters': {'1:0': {'cluster_probs': array([[2.8111458e-02, 3.2774903e-02, 8.1816560e-01, ..., 1.9158291e-02,\n           1.6867582e-01, 7.4379396e-01],\n          [7.8444111e-01, 7.4167842e-01, 4.9155627e-32, ..., 9.3255687e-01,\n           8.1106323e-01, 7.5887605e-23],\n          [1.8744735e-01, 2.2554666e-01, 1.8183434e-01, ..., 4.8284940e-02,\n           2.0260923e-02, 2.5620595e-01]], dtype=float32),\n   'cluster_assignments': array(['C1', 'C1', 'Tail', 'C1', 'C1', 'C1', 'C1', 'C1', 'C1', 'S1', 'C1',\n          'C1', 'C1', 'C1', 'C1', 'C1', 'Tail', 'C1', 'Tail', 'S1', 'S1',\n          'C1', 'S1', 'C1', 'C1', 'Tail', 'Tail', 'S1', 'Tail', 'C1', 'Tail',\n          'S1', 'Tail', 'Tail', 'Tail', 'S1', 'Tail', 'C1', 'C1', 'C1',\n          'Tail', 'C1', 'C1', 'C1', 'Tail', 'Tail', 'C1', 'S1', 'C1', 'S1',\n          'C1', 'C1', 'C1', 'C1', 'S1', 'Tail', 'C1', 'C1', 'Tail', 'Tail',\n          'Tail', 'C1', 'C1', 'C1', 'Tail', 'C1', 'C1', 'Tail', 'C1', 'C1',\n          'C1', 'S1', 'C1', 'C1', 'C1', 'C1', 'C1', 'C1', 'C1', 'S1', 'Tail',\n          'C1', 'Tail', 'C1', 'C1', 'Tail', 'C1', 'C1', 'C1', 'C1', 'S1',\n          'S1', 'C1', 'S1', 'C1', 'C1', 'C1', 'Tail', 'Tail', 'C1', 'C1',\n          'C1', 'S1', 'C1', 'C1', 'C1', 'C1', 'Tail', 'S1', 'C1', 'C1',\n          'Tail', 'C1', 'Tail', 'C1', 'C1', 'C1', 'C1', 'C1', 'C1', 'C1',\n          'C1', 'C1', 'Tail', 'C1', 'C1', 'C1', 'C1', 'S1', 'C1', 'Tail',\n          'C1', 'C1', 'C1', 'Tail', 'S1', 'C1', 'C1', 'C1', 'C1', 'C1', 'C1',\n          'C1', 'C1', 'C1', 'S1', 'C1', 'C1', 'Tail', 'Tail', 'C1', 'C1',\n          'C1', 'S1', 'Tail', 'C1', 'C1', 'Tail', 'Tail', 'C1', 'C1', 'C1',\n          'C1', 'Tail', 'C1', 'C1', 'C1', 'Tail', 'Tail', 'Tail', 'Tail',\n          'S1', 'C1', 'C1', 'Tail', 'C1', 'Tail', 'C1', 'C1', 'C1', 'C1',\n          'S1', 'C1', 'C1', 'Tail', 'Tail', 'Tail', 'Tail', 'Tail', 'C1',\n          'S1', 'C1', 'C1', 'Tail', 'C1', 'C1', 'C1', 'C1', 'C1', 'C1', 'C1',\n          'C1', 'C1', 'Tail', 'C1', 'Tail', 'C1', 'C1', 'C1', 'C1', 'C1',\n          'C1', 'Tail', 'S1', 'C1', 'C1', 'C1', 'C1', 'Tail', 'C1', 'C1',\n          'C1', 'C1', 'Tail', 'Tail', 'S1', 'Tail', 'Tail', 'C1', 'C1',\n          'Tail', 'C1', 'S1', 'C1', 'C1', 'C1', 'S1', 'Tail', 'Tail', 'C1',\n          'Tail', 'C1', 'Tail', 'Tail', 'C1', 'Tail', 'S1', 'C1', 'C1', 'S1',\n          'C1', 'Tail', 'C1', 'S1', 'C1', 'C1', 'C1', 'Tail', 'Tail', 'C1',\n          'S1', 'S1', 'C1', 'S1', 'Tail', 'C1', 'C1', 'Tail', 'C1', 'Tail',\n          'C1', 'S1', 'C1', 'Tail', 'S1', 'C1', 'C1', 'C1', 'C1', 'Tail',\n          'S1', 'S1', 'C1', 'C1', 'C1', 'Tail', 'C1', 'S1', 'C1', 'C1', 'C1',\n          'Tail', 'S1', 'C1', 'Tail', 'C1', 'C1', 'S1', 'C1', 'Tail', 'Tail',\n          'C1', 'S1', 'C1', 'Tail', 'C1', 'Tail', 'C1', 'S1', 'C1', 'Tail',\n          'Tail', 'S1', 'Tail', 'C1', 'S1', 'Tail', 'C1', 'C1', 'C1', 'C1',\n          'Tail', 'C1', 'C1', 'C1', 'Tail', 'S1', 'Tail', 'Tail', 'S1', 'S1',\n          'S1', 'Tail', 'C1', 'C1', 'S1', 'C1', 'Tail', 'Tail', 'S1', 'C1',\n          'C1', 'Tail', 'Tail', 'Tail', 'Tail', 'Tail', 'C1', 'C1', 'C1',\n          'C1', 'S1', 'Tail', 'C1', 'C1', 'C1', 'C1', 'C1', 'S1', 'C1', 'C1',\n          'S1', 'C1', 'C1', 'C1', 'Tail', 'Tail', 'C1', 'C1', 'C1', 'S1',\n          'C1', 'C1', 'C1', 'Tail', 'Tail', 'C1', 'C1', 'Tail', 'Tail', 'C1',\n          'C1', 'C1', 'C1', 'C1', 'Tail', 'Tail', 'Tail', 'Tail', 'Tail',\n          'C1', 'Tail', 'Tail', 'S1', 'C1', 'C1', 'C1', 'C1', 'C1', 'Tail',\n          'C1', 'C1', 'S1', 'S1', 'C1', 'C1', 'S1', 'C1', 'C1', 'Tail',\n          'Tail', 'C1', 'S1', 'Tail', 'Tail', 'S1', 'C1', 'C1', 'C1', 'S1',\n          'C1', 'S1', 'C1', 'S1', 'C1', 'C1', 'C1', 'Tail', 'C1', 'C1',\n          'Tail', 'C1', 'Tail', 'C1', 'C1', 'Tail', 'C1', 'C1', 'Tail', 'C1',\n          'S1', 'Tail', 'C1', 'C1', 'C1', 'S1', 'C1', 'C1', 'S1', 'Tail',\n          'C1', 'S1', 'C1', 'C1', 'S1', 'C1', 'S1', 'Tail', 'C1', 'Tail',\n          'C1', 'C1', 'S1', 'C1', 'Tail', 'C1', 'Tail', 'Tail', 'Tail', 'C1',\n          'C1', 'Tail', 'C1', 'S1', 'C1', 'S1', 'C1', 'Tail', 'Tail', 'Tail',\n          'Tail', 'Tail', 'C1', 'C1', 'Tail', 'C1', 'C1', 'C1', 'Tail', 'C1',\n          'S1', 'C1', 'C1', 'C1', 'C1', 'Tail', 'S1', 'C1', 'S1', 'C1', 'S1',\n          'S1', 'S1', 'C1', 'C1', 'Tail', 'C1', 'C1', 'C1', 'Tail', 'C1',\n          'C1', 'C1', 'Tail', 'C1', 'S1', 'S1', 'C1', 'C1', 'C1', 'C1', 'C1',\n          'C1', 'C1', 'S1', 'C1', 'C1', 'C1', 'Tail', 'C1', 'Tail', 'C1',\n          'C1', 'Tail', 'C1', 'C1', 'C1', 'C1', 'C1', 'C1', 'Tail', 'S1',\n          'S1', 'Tail', 'C1', 'C1', 'C1', 'C1', 'C1', 'C1', 'C1', 'C1', 'S1',\n          'C1', 'Tail', 'C1', 'C1', 'C1', 'C1', 'Tail', 'Tail', 'C1', 'C1',\n          'S1', 'S1', 'C1', 'S1', 'C1', 'C1', 'C1', 'Tail', 'S1', 'Tail',\n          'Tail', 'C1', 'Tail', 'Tail', 'C1', 'Tail', 'C1', 'Tail', 'C1',\n          'C1', 'Tail', 'S1', 'Tail', 'Tail', 'S1', 'C1', 'Tail', 'Tail',\n          'Tail', 'C1', 'Tail', 'Tail', 'C1', 'Tail', 'C1', 'Tail', 'C1',\n          'C1', 'Tail', 'Tail', 'Tail', 'C1', 'C1', 'C1', 'C1', 'C1', 'C1',\n          'S1', 'C1', 'C1', 'C1', 'S1', 'Tail', 'Tail', 'S1', 'C1', 'C1',\n          'C1', 'S1', 'C1', 'C1', 'C1', 'S1', 'Tail', 'Tail', 'C1', 'C1',\n          'C1', 'C1', 'Tail', 'C1', 'Tail', 'S1', 'Tail', 'C1', 'C1', 'C1',\n          'S1', 'Tail', 'Tail', 'S1', 'C1', 'C1', 'C1', 'C1', 'S1', 'C1',\n          'C1', 'Tail', 'C1', 'Tail', 'C1', 'C1', 'Tail', 'Tail', 'C1',\n          'Tail', 'C1', 'Tail', 'Tail', 'C1', 'Tail', 'C1', 'C1', 'C1',\n          'Tail', 'C1', 'Tail', 'Tail', 'C1', 'Tail', 'C1', 'S1', 'C1', 'C1',\n          'C1', 'S1', 'Tail', 'C1', 'S1', 'C1', 'C1', 'Tail', 'Tail', 'C1',\n          'C1', 'C1', 'Tail', 'C1', 'C1', 'Tail', 'S1', 'C1', 'Tail', 'Tail',\n          'Tail', 'S1', 'Tail', 'C1', 'C1', 'C1', 'Tail', 'C1', 'S1', 'C1',\n          'C1', 'C1', 'C1', 'C1', 'Tail', 'C1', 'Tail', 'C1', 'C1', 'C1',\n          'Tail', 'Tail', 'C1', 'C1', 'C1', 'C1', 'C1', 'C1', 'C1', 'Tail',\n          'S1', 'Tail', 'Tail', 'C1', 'Tail', 'Tail', 'Tail', 'C1', 'Tail',\n          'Tail', 'Tail', 'Tail', 'Tail', 'C1', 'C1', 'Tail', 'C1', 'C1',\n          'Tail', 'C1', 'Tail', 'C1', 'C1', 'Tail', 'C1', 'Tail', 'Tail',\n          'C1', 'C1', 'C1', 'C1', 'S1', 'C1', 'C1', 'S1', 'S1', 'Tail', 'C1',\n          'C1', 'C1', 'S1', 'C1', 'C1', 'Tail'], dtype=object),\n   'cluster_types': array(['Tail', 'C1', 'S1'], dtype='<U4'),\n   'mixture_probs': array([0.33332843, 0.33333945, 0.3333321 ], dtype=float32),\n   'beta_concentration1': array([[240.5374]], dtype=float32),\n   'beta_concentration2': array([[59.45933]], dtype=float32),\n   'dispersion_noise': 0.04999945164328203,\n   'ccf_subclones': array([0.4995025], dtype=float32),\n   'loc_subclones': array([0.400502], dtype=float32),\n   'scale_subclonal': array([0.2000004], dtype=float32),\n   'tail_shape': array([0.999989], dtype=float32),\n   'tail_scale': array(0.09, dtype=float32),\n   'tail_noise': array(0.0200002, dtype=float32),\n   'tail_higher': array(0.999, dtype=float32),\n   'multi_tail_weights': array(1)},\n  '1:1': {'cluster_probs': array([[5.8038168e-02, 2.4833994e-01, 4.3514040e-01, ..., 6.9930241e-02,\n           4.2558077e-01, 6.4819127e-02],\n          [9.4196177e-01, 7.4964786e-01, 2.2945921e-11, ..., 9.3006909e-01,\n           3.3819796e-09, 9.3518102e-01],\n          [1.0040366e-11, 2.0121071e-03, 5.6485969e-01, ..., 7.9507049e-07,\n           5.7441932e-01, 4.4211140e-10]], dtype=float32),\n   'cluster_assignments': array(['C1', 'C1', 'S1', ..., 'C1', 'S1', 'C1'], dtype=object),\n   'cluster_types': array(['Tail', 'C1', 'S1'], dtype='<U4'),\n   'mixture_probs': array([0.33332843, 0.33333945, 0.3333321 ], dtype=float32),\n   'beta_concentration1': array([[133.49773]], dtype=float32),\n   'beta_concentration2': array([[166.499]], dtype=float32),\n   'dispersion_noise': 0.04999945164328203,\n   'ccf_subclones': array([0.4995025], dtype=float32),\n   'loc_subclones': array([0.22227861], dtype=float32),\n   'scale_subclonal': array([0.1999996], dtype=float32),\n   'tail_shape': array([0.999989], dtype=float32),\n   'tail_scale': array(0.08, dtype=float32),\n   'tail_noise': array(0.0200002, dtype=float32),\n   'tail_higher': array(0.999, dtype=float32),\n   'multi_tail_weights': array(1)},\n  '2:1': {'cluster_probs': array([[1.15042716e-01, 1.23268373e-01, 6.89084947e-01, ...,\n           8.26257840e-02, 1.18530206e-01, 1.89949527e-01],\n          [8.84957433e-01, 2.46751938e-06, 3.04257959e-01, ...,\n           3.99454470e-15, 8.81469905e-01, 8.10050249e-01],\n          [3.78039267e-12, 8.76729310e-01, 6.65727258e-03, ...,\n           9.17374194e-01, 9.03920849e-09, 6.88454779e-11],\n          [1.50888173e-16, 0.00000000e+00, 1.44711282e-25, ...,\n           0.00000000e+00, 5.24978146e-14, 1.09709770e-08]], dtype=float32),\n   'cluster_assignments': array(['C1', 'C2', 'Tail', 'C1', 'C2', 'Tail', 'C1', 'C1', 'C1', 'C1',\n          'Tail', 'C2', 'C1', 'C2', 'Tail', 'C2', 'S1', 'S1', 'Tail', 'C2',\n          'Tail', 'C1', 'C1', 'C1', 'Tail', 'C2', 'S1', 'C2', 'C1', 'Tail',\n          'S1', 'C1', 'C1', 'C1', 'Tail', 'C1', 'C1', 'Tail', 'Tail', 'S1',\n          'C1', 'C1', 'C1', 'Tail', 'C2', 'C2', 'S1', 'C1', 'Tail', 'Tail',\n          'S1', 'C1', 'Tail', 'C1', 'Tail', 'Tail', 'C1', 'C1', 'Tail', 'C1',\n          'C1', 'C1', 'S1', 'S1', 'Tail', 'C1', 'C1', 'C1', 'Tail', 'C1',\n          'Tail', 'S1', 'S1', 'C1', 'Tail', 'C1', 'C1', 'Tail', 'C2', 'S1',\n          'Tail', 'C1', 'C2', 'S1', 'C1', 'Tail', 'C1', 'S1', 'C1', 'C1',\n          'S1', 'Tail', 'C2', 'Tail', 'C2', 'C1', 'C2', 'Tail', 'C1', 'C1',\n          'C1', 'C2', 'C1', 'C1', 'S1', 'S1', 'S1', 'S1', 'S1', 'S1', 'Tail',\n          'C1', 'Tail', 'C1', 'Tail', 'Tail', 'Tail', 'C1', 'C2', 'C1', 'C2',\n          'C1', 'C1', 'C1', 'S1', 'C1', 'C1', 'S1', 'C1', 'C2', 'Tail', 'C1',\n          'Tail', 'Tail', 'C2', 'C1', 'C2', 'C1', 'C1', 'C2', 'C1', 'S1',\n          'C1', 'C1', 'C1', 'C2', 'C1', 'Tail', 'C1', 'C1', 'C2', 'C1', 'C1',\n          'C2', 'C1', 'C1', 'C2', 'C1', 'Tail', 'Tail', 'S1', 'C1', 'S1',\n          'Tail', 'C1', 'C1', 'C2', 'Tail', 'S1', 'C1', 'S1', 'C1', 'C1',\n          'C2', 'Tail', 'C1', 'C1', 'C2', 'C2', 'C1', 'S1', 'Tail', 'S1',\n          'C1', 'C2', 'C2', 'C2', 'C1', 'C1', 'Tail', 'C2', 'C1', 'Tail',\n          'C1', 'C1', 'C1', 'S1', 'S1', 'Tail', 'S1', 'S1', 'C1', 'S1', 'C1',\n          'C1', 'C1', 'C1', 'C1', 'C1', 'C1', 'C1', 'Tail', 'C2', 'S1',\n          'Tail', 'S1', 'S1', 'C1', 'C1', 'C2', 'Tail', 'C2', 'Tail', 'C1',\n          'C2', 'C1', 'C1', 'C1', 'C2', 'S1', 'C1', 'C1', 'C2', 'C2', 'S1',\n          'S1', 'S1', 'Tail', 'Tail', 'C1', 'C1', 'C1', 'Tail', 'C1', 'C2',\n          'C1', 'C2', 'Tail', 'C2', 'Tail', 'Tail', 'Tail', 'C1', 'C1', 'C1',\n          'C1', 'C1', 'Tail', 'S1', 'C1', 'C1', 'C1', 'Tail', 'Tail', 'C1',\n          'S1', 'C1', 'C1', 'S1', 'Tail', 'Tail', 'C2', 'C2', 'C2', 'Tail',\n          'Tail', 'C1', 'C1', 'Tail', 'C1', 'Tail', 'C1', 'S1', 'C1', 'S1',\n          'C1', 'C1', 'Tail', 'C2', 'C1', 'C2', 'C1', 'Tail', 'C1', 'C1',\n          'Tail', 'S1', 'S1', 'C1', 'Tail', 'C1', 'Tail', 'Tail', 'Tail',\n          'S1', 'S1', 'C1', 'S1', 'C1', 'C1', 'C2', 'C2', 'C1', 'C1', 'C1',\n          'C2', 'C1', 'C1', 'C2', 'S1', 'C1', 'C1', 'S1', 'Tail', 'C1', 'C2',\n          'Tail', 'C2', 'Tail', 'C1', 'S1', 'C1', 'C1', 'C1', 'C2', 'C1',\n          'C2', 'C2', 'C1', 'S1', 'C1', 'Tail', 'C1', 'C1', 'C2', 'S1', 'C1',\n          'C1', 'Tail', 'Tail', 'S1', 'C2', 'Tail', 'S1', 'C1', 'C1', 'C1',\n          'C1', 'C1', 'C1', 'Tail', 'C1', 'C1', 'C1', 'C1', 'C1', 'S1',\n          'Tail', 'C1', 'C1', 'C1', 'C1', 'C1', 'S1', 'Tail', 'C1', 'C1',\n          'S1', 'S1', 'Tail', 'C1', 'C1', 'C1', 'C1', 'C1', 'S1', 'Tail',\n          'C2', 'S1', 'S1', 'C1', 'C2', 'C1', 'Tail', 'C1', 'S1', 'C1', 'C2',\n          'C1', 'C1', 'C2', 'C1', 'C1', 'C2', 'C1', 'C2', 'S1', 'C1', 'C1',\n          'C2', 'C1', 'C2', 'S1', 'C1', 'C2', 'S1', 'C1', 'C1', 'C1', 'C1',\n          'S1', 'Tail', 'C1', 'C1', 'C1', 'C1', 'C1', 'C1', 'C2', 'C2', 'C1',\n          'S1', 'C2', 'C1', 'C1', 'C1', 'C1', 'C2', 'C1', 'C2', 'S1', 'C1',\n          'C1', 'C2', 'C1', 'C1', 'Tail', 'Tail', 'S1', 'S1', 'C1', 'C1',\n          'C2', 'C1', 'C1', 'Tail', 'C1', 'Tail', 'C1', 'C1', 'C1', 'C1',\n          'C1', 'C1', 'C1', 'C1', 'C2', 'C2', 'C1', 'C2', 'C1', 'C1', 'C2',\n          'C1', 'S1', 'Tail', 'C2', 'C1', 'S1', 'C1', 'S1', 'Tail', 'C1',\n          'Tail', 'C2', 'C2', 'C1', 'C2', 'C2', 'C1', 'C1'], dtype=object),\n   'cluster_types': array(['Tail', 'C1', 'C2', 'S1'], dtype='<U4'),\n   'mixture_probs': array([0.3333382 , 0.22222385, 0.22221898, 0.22221898], dtype=float32),\n   'beta_concentration1': array([[ 92.38724],\n          [184.77228]], dtype=float32),\n   'beta_concentration2': array([[207.6095 ],\n          [115.22446]], dtype=float32),\n   'dispersion_noise': 0.05000050068402975,\n   'ccf_subclones': array([0.4995025], dtype=float32),\n   'loc_subclones': array([0.15382603], dtype=float32),\n   'scale_subclonal': array([0.1999996], dtype=float32),\n   'tail_shape': array([0.999989], dtype=float32),\n   'tail_scale': array(0.07, dtype=float32),\n   'tail_noise': array(0.0200002, dtype=float32),\n   'tail_higher': array(0.999, dtype=float32),\n   'multi_tail_weights': array(1)}},\n 'run_parameters': {'K': 1,\n  'tail': 1,\n  'truncated_pareto': False,\n  'purity': 0.89,\n  'subclonal_prior': 'Moyal',\n  'multi_tail': False,\n  'alpha_precision_concentration': 5,\n  'alpha_precision_rate': 0.1,\n  'number_of_trials_clonal_mean': 300,\n  'number_of_trials_k': 300.0,\n  'prior_lims_clonal': [1, 100000.0],\n  'prior_lims_k': [1.0, 100000.0],\n  'number_of_trials_subclonal': 1500,\n  'max_min_subclonal_ccf': [0.05, 0.95],\n  'k_means_init': False,\n  'min_vaf_scale_tail': 0.1},\n 'loss': array([1.04897816e+08])}"
     },
     "execution_count": 7,
     "metadata": {},
     "output_type": "execute_result"
    }
   ],
   "source": [
    "fitted"
   ]
  },
  {
   "cell_type": "code",
   "execution_count": null,
   "outputs": [],
   "source": [],
   "metadata": {
    "collapsed": false,
    "pycharm": {
     "name": "#%%\n"
    }
   }
  }
 ],
 "metadata": {
  "kernelspec": {
   "name": "python3",
   "language": "python",
   "display_name": "Python 3 (ipykernel)"
  },
  "language_info": {
   "codemirror_mode": {
    "name": "ipython",
    "version": 3
   },
   "file_extension": ".py",
   "mimetype": "text/x-python",
   "name": "python",
   "nbconvert_exporter": "python",
   "pygments_lexer": "ipython3",
   "version": "3.9.7"
  }
 },
 "nbformat": 4,
 "nbformat_minor": 5
}