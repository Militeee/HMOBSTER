{
 "cells": [
  {
   "cell_type": "code",
   "execution_count": 1,
   "outputs": [],
   "source": [
    "import numpy\n",
    "import torch\n",
    "import mobster as mb\n",
    "\n",
    "import numpy as np\n"
   ],
   "metadata": {
    "collapsed": false,
    "pycharm": {
     "name": "#%%\n"
    }
   }
  },
  {
   "cell_type": "code",
   "execution_count": 2,
   "outputs": [],
   "source": [
    "data = mb.load_example_data(\"./\")"
   ],
   "metadata": {
    "collapsed": false,
    "pycharm": {
     "name": "#%%\n"
    }
   }
  },
  {
   "cell_type": "code",
   "execution_count": 3,
   "outputs": [
    {
     "name": "stdout",
     "output_type": "stream",
     "text": [
      "Running MOBSTER on 1 karyotypes with 1 subclones.\n",
      "Fitting a model with tail\n"
     ]
    },
    {
     "name": "stderr",
     "output_type": "stream",
     "text": [
      "ELBO: 1855.011836629  :  43%|████▎     | 433/1000 [00:03<00:05, 113.15it/s]"
     ]
    },
    {
     "name": "stdout",
     "output_type": "stream",
     "text": [
      "Computing cluster assignements.\n"
     ]
    },
    {
     "name": "stderr",
     "output_type": "stream",
     "text": [
      "\n"
     ]
    },
    {
     "name": "stdout",
     "output_type": "stream",
     "text": [
      "Computing information criteria.\n",
      "Done!\n",
      "\n"
     ]
    }
   ],
   "source": [
    "import pyro\n",
    "\n",
    "pyro.enable_validation(True)\n",
    "fitted = mb.fit_mobster(data,1,1,purity = 1,  truncated_pareto=True, max_it = 1000, lr = 0.01,  e = 0.0005, lrd_gamma = 0.1,\n",
    "        number_of_trials_k= 1000, prior_lims_k=[100,1000000], prior_lims_clonal=[100,1000000.], number_of_trials_clonal_mean= 1000)\n"
   ],
   "metadata": {
    "collapsed": false,
    "pycharm": {
     "name": "#%%\n"
    }
   }
  },
  {
   "cell_type": "code",
   "execution_count": 4,
   "outputs": [
    {
     "name": "stdout",
     "output_type": "stream",
     "text": [
      "0.3032043\n",
      "0.18950708\n"
     ]
    }
   ],
   "source": [
    "\n",
    "\n",
    "mb.plot_results(data, fitted, output= \"cane.png\", drivers=None)"
   ],
   "metadata": {
    "collapsed": false,
    "pycharm": {
     "name": "#%%\n"
    }
   }
  },
  {
   "cell_type": "code",
   "execution_count": 8,
   "outputs": [
    {
     "data": {
      "text/plain": "{'cluster_probs': array([[9.9133784e-01, 9.8905963e-01, 9.8382068e-01, ..., 3.5704809e-01,\n         4.0972710e-02, 9.3479693e-02],\n        [4.2058329e-18, 8.1323885e-17, 6.9522605e-17, ..., 6.4294833e-01,\n         9.5902723e-01, 9.0652025e-01],\n        [8.6623905e-03, 1.0940178e-02, 1.6179549e-02, ..., 3.6502088e-06,\n         5.1583488e-13, 4.7019961e-11]], dtype=float32),\n 'cluster_assignments': array(['Tail', 'Tail', 'Tail', 'Tail', 'Tail', 'Tail', 'Tail', 'Tail',\n        'Tail', 'Tail', 'Tail', 'Tail', 'Tail', 'Tail', 'Tail', 'Tail',\n        'Tail', 'Tail', 'Tail', 'Tail', 'Tail', 'Tail', 'Tail', 'Tail',\n        'Tail', 'Tail', 'Tail', 'Tail', 'Tail', 'Tail', 'Tail', 'Tail',\n        'Tail', 'Tail', 'Tail', 'Tail', 'Tail', 'Tail', 'Tail', 'Tail',\n        'Tail', 'Tail', 'Tail', 'Tail', 'Tail', 'Tail', 'Tail', 'Tail',\n        'Tail', 'Tail', 'Tail', 'Tail', 'Tail', 'Tail', 'Tail', 'Tail',\n        'Tail', 'Tail', 'Tail', 'Tail', 'Tail', 'Tail', 'Tail', 'Tail',\n        'S1', 'Tail', 'Tail', 'Tail', 'Tail', 'Tail', 'Tail', 'Tail',\n        'Tail', 'Tail', 'Tail', 'Tail', 'Tail', 'Tail', 'Tail', 'S1',\n        'Tail', 'S1', 'Tail', 'Tail', 'Tail', 'Tail', 'Tail', 'Tail',\n        'Tail', 'Tail', 'Tail', 'Tail', 'Tail', 'Tail', 'Tail', 'Tail',\n        'Tail', 'Tail', 'Tail', 'Tail', 'Tail', 'Tail', 'Tail', 'Tail',\n        'Tail', 'Tail', 'Tail', 'Tail', 'Tail', 'Tail', 'Tail', 'Tail',\n        'Tail', 'Tail', 'Tail', 'Tail', 'Tail', 'Tail', 'Tail', 'Tail',\n        'Tail', 'Tail', 'Tail', 'Tail', 'Tail', 'Tail', 'Tail', 'Tail',\n        'Tail', 'Tail', 'Tail', 'Tail', 'Tail', 'Tail', 'Tail', 'Tail',\n        'Tail', 'Tail', 'Tail', 'Tail', 'Tail', 'Tail', 'Tail', 'Tail',\n        'Tail', 'Tail', 'Tail', 'Tail', 'Tail', 'Tail', 'Tail', 'Tail',\n        'Tail', 'Tail', 'Tail', 'Tail', 'Tail', 'S1', 'S1', 'S1', 'Tail',\n        'S1', 'S1', 'Tail', 'S1', 'Tail', 'S1', 'S1', 'S1', 'S1', 'S1',\n        'S1', 'S1', 'S1', 'Tail', 'S1', 'S1', 'Tail', 'Tail', 'S1', 'S1',\n        'S1', 'S1', 'S1', 'S1', 'S1', 'S1', 'S1', 'Tail', 'Tail', 'Tail',\n        'Tail', 'Tail', 'Tail', 'Tail', 'Tail', 'Tail', 'Tail', 'S1', 'S1',\n        'S1', 'Tail', 'Tail', 'S1', 'S1', 'Tail', 'S1', 'S1', 'S1', 'S1',\n        'Tail', 'S1', 'S1', 'S1', 'S1', 'S1', 'S1', 'S1', 'S1', 'Tail',\n        'S1', 'Tail', 'S1', 'S1', 'S1', 'S1', 'S1', 'S1', 'S1', 'S1', 'S1',\n        'S1', 'S1', 'S1', 'Tail', 'S1', 'S1', 'S1', 'S1', 'S1', 'S1',\n        'Tail', 'S1', 'S1', 'S1', 'S1', 'Tail', 'S1', 'S1', 'S1', 'S1',\n        'S1', 'Tail', 'Tail', 'Tail', 'Tail', 'Tail', 'Tail', 'Tail',\n        'Tail', 'Tail', 'Tail', 'Tail', 'Tail', 'Tail', 'Tail', 'Tail',\n        'Tail', 'Tail', 'Tail', 'Tail', 'Tail', 'Tail', 'Tail', 'Tail',\n        'Tail', 'Tail', 'Tail', 'Tail', 'Tail', 'Tail', 'Tail', 'Tail',\n        'Tail', 'Tail', 'Tail', 'Tail', 'Tail', 'Tail', 'Tail', 'Tail',\n        'Tail', 'Tail', 'Tail', 'Tail', 'Tail', 'Tail', 'Tail', 'Tail',\n        'Tail', 'Tail', 'Tail', 'Tail', 'Tail', 'Tail', 'Tail', 'Tail',\n        'Tail', 'Tail', 'Tail', 'Tail', 'Tail', 'Tail', 'Tail', 'Tail',\n        'Tail', 'Tail', 'Tail', 'Tail', 'Tail', 'Tail', 'Tail', 'Tail',\n        'Tail', 'Tail', 'Tail', 'Tail', 'Tail', 'Tail', 'Tail', 'Tail',\n        'Tail', 'Tail', 'Tail', 'Tail', 'Tail', 'Tail', 'Tail', 'S1', 'S1',\n        'S1', 'Tail', 'Tail', 'S1', 'Tail', 'Tail', 'Tail', 'Tail', 'Tail',\n        'Tail', 'Tail', 'Tail', 'S1', 'Tail', 'Tail', 'S1', 'Tail', 'Tail',\n        'Tail', 'Tail', 'Tail', 'S1', 'Tail', 'Tail', 'Tail', 'Tail',\n        'Tail', 'S1', 'Tail', 'Tail', 'S1', 'Tail', 'Tail', 'Tail', 'Tail',\n        'Tail', 'S1', 'S1', 'Tail', 'Tail', 'S1', 'S1', 'S1', 'S1', 'Tail',\n        'S1', 'S1', 'S1', 'S1', 'S1', 'S1', 'S1', 'S1', 'S1', 'S1', 'S1',\n        'Tail', 'Tail', 'S1', 'S1', 'S1', 'Tail', 'S1', 'Tail', 'S1', 'S1',\n        'S1', 'S1', 'S1', 'S1', 'S1', 'S1', 'S1', 'S1', 'S1', 'S1', 'Tail',\n        'S1', 'S1', 'S1', 'S1', 'Tail', 'S1', 'S1', 'S1', 'C1', 'C1',\n        'Tail', 'Tail', 'Tail', 'C1', 'Tail', 'C1', 'Tail', 'C1', 'C1',\n        'C1', 'Tail', 'C1', 'C1', 'Tail', 'C1', 'Tail', 'Tail', 'Tail',\n        'C1', 'Tail', 'Tail', 'Tail', 'Tail', 'Tail', 'C1', 'C1', 'C1',\n        'C1', 'C1', 'C1', 'C1', 'C1', 'C1', 'C1', 'C1', 'C1', 'C1', 'C1',\n        'C1', 'C1', 'C1', 'C1', 'C1', 'C1', 'C1', 'C1', 'C1', 'C1', 'C1',\n        'C1', 'C1', 'C1', 'C1', 'C1', 'C1', 'C1', 'C1', 'C1', 'C1', 'C1',\n        'C1', 'C1', 'C1', 'C1', 'C1', 'C1', 'C1', 'C1', 'C1', 'C1', 'C1',\n        'C1', 'C1', 'C1', 'C1', 'C1', 'C1', 'C1', 'C1', 'C1', 'C1', 'C1',\n        'C1', 'C1', 'C1', 'C1', 'C1', 'C1', 'C1', 'C1', 'C1', 'C1', 'C1',\n        'C1', 'C1', 'C1', 'C1', 'C1', 'C1', 'C1', 'C1', 'C1', 'C1', 'C1',\n        'C1', 'C1', 'C1', 'C1', 'C1', 'C1', 'C1', 'C1', 'C1', 'C1', 'C1',\n        'C1', 'C1', 'C1', 'C1', 'C1', 'C1', 'C1', 'C1', 'C1', 'C1', 'Tail',\n        'C1', 'C1', 'C1', 'C1', 'C1', 'C1', 'C1', 'C1', 'C1', 'C1', 'C1',\n        'C1', 'C1', 'C1', 'C1', 'C1', 'C1', 'C1', 'C1', 'C1', 'C1', 'C1',\n        'C1', 'C1', 'C1', 'C1', 'C1', 'C1', 'C1', 'C1', 'C1', 'C1', 'C1',\n        'C1', 'C1', 'C1', 'C1', 'C1', 'C1', 'C1', 'C1', 'C1', 'C1', 'C1',\n        'C1', 'C1', 'C1', 'C1', 'C1', 'C1', 'C1', 'C1', 'C1', 'C1', 'C1',\n        'C1', 'C1', 'C1', 'C1', 'C1', 'C1', 'C1', 'C1', 'C1', 'C1', 'C1',\n        'C1', 'C1', 'C1', 'C1', 'C1', 'C1', 'C1', 'C1', 'C1', 'C1', 'C1',\n        'C1', 'C1', 'C1', 'C1', 'C1', 'C1', 'C1', 'C1', 'C1', 'C1', 'C1',\n        'C1', 'C1', 'C1', 'C1', 'C1', 'C1', 'C1', 'C1', 'C1', 'C1', 'C1',\n        'C1', 'C1', 'C1', 'C1', 'C1', 'C1', 'C1', 'C1', 'C1', 'C1', 'C1',\n        'C1', 'C1', 'C1', 'C1', 'C1', 'C1', 'C1', 'C1', 'C1', 'C1', 'C1',\n        'C1', 'C1', 'C1', 'C1', 'C1', 'C1', 'C1', 'C1', 'C1', 'C1', 'C1',\n        'C1', 'C1', 'C1', 'C1', 'C1', 'C1', 'C1', 'C1', 'C1', 'C1', 'C1',\n        'C1', 'C1', 'C1', 'C1', 'C1', 'C1', 'C1', 'C1', 'C1', 'C1', 'C1',\n        'C1', 'C1', 'C1', 'C1', 'C1', 'C1', 'C1', 'C1', 'C1', 'C1', 'C1',\n        'C1', 'C1', 'C1', 'C1', 'C1', 'C1', 'C1', 'C1', 'C1', 'C1', 'C1',\n        'C1', 'C1', 'C1', 'C1', 'C1', 'C1', 'C1', 'C1', 'C1', 'C1', 'C1',\n        'C1', 'C1', 'C1', 'C1', 'C1', 'C1', 'C1', 'C1', 'C1', 'C1', 'C1',\n        'C1', 'C1', 'C1', 'C1', 'C1', 'C1', 'C1', 'C1', 'C1', 'C1', 'C1',\n        'C1', 'C1', 'C1', 'C1', 'C1', 'C1', 'C1', 'C1', 'C1', 'C1', 'C1',\n        'C1', 'C1', 'C1', 'C1', 'C1', 'C1', 'C1', 'C1', 'C1', 'C1', 'C1',\n        'C1', 'C1', 'C1', 'C1', 'C1', 'C1', 'C1', 'C1', 'C1', 'C1', 'C1',\n        'C1', 'C1', 'C1', 'C1', 'C1', 'C1', 'C1', 'C1', 'C1', 'C1', 'C1',\n        'C1', 'C1', 'C1', 'C1', 'C1', 'C1', 'C1', 'C1', 'C1', 'C1', 'C1',\n        'C1', 'C1', 'C1', 'C1', 'C1', 'C1', 'C1', 'C1', 'C1', 'C1', 'C1',\n        'C1', 'C1', 'C1', 'C1', 'C1', 'C1', 'C1', 'C1', 'C1', 'C1', 'C1',\n        'C1', 'C1', 'C1', 'C1', 'C1', 'C1', 'C1', 'C1', 'C1', 'C1', 'C1',\n        'C1', 'C1', 'C1', 'C1', 'C1', 'C1', 'C1', 'C1', 'C1', 'C1', 'C1',\n        'C1', 'C1', 'C1', 'C1', 'C1', 'C1', 'C1', 'C1', 'C1', 'C1', 'C1',\n        'C1', 'C1', 'Tail', 'C1', 'C1', 'C1', 'C1', 'C1', 'C1', 'C1', 'C1',\n        'C1', 'C1', 'C1', 'C1', 'C1', 'C1', 'C1', 'C1', 'C1', 'C1', 'C1',\n        'C1', 'C1', 'C1', 'C1', 'C1', 'C1', 'C1', 'C1', 'C1', 'C1', 'C1',\n        'C1', 'C1', 'C1', 'C1', 'C1', 'C1', 'C1', 'C1', 'C1', 'C1', 'C1',\n        'C1', 'C1', 'C1', 'C1', 'C1', 'C1', 'C1', 'C1', 'C1', 'C1', 'C1',\n        'C1', 'C1', 'C1', 'C1', 'C1', 'C1', 'Tail', 'C1', 'C1', 'C1', 'C1',\n        'C1', 'C1', 'C1', 'C1', 'C1', 'C1', 'C1', 'C1', 'C1', 'C1', 'C1',\n        'C1', 'C1', 'C1', 'C1', 'C1', 'C1', 'C1', 'C1', 'C1', 'C1', 'C1',\n        'C1'], dtype=object),\n 'cluster_types': array(['Tail', 'C1', 'S1'], dtype='<U4'),\n 'mixture_probs': array([0.28833875, 0.5540367 , 0.15762454], dtype=float32),\n 'beta_concentration1': array([270.93625, 104.20774], dtype=float32),\n 'beta_concentration2': array([278.95212, 445.68063], dtype=float32),\n 'dispersion_noise': tensor([0.0778], grad_fn=<MulBackward0>),\n 'tail_shape': array([0.9531633], dtype=float32),\n 'tail_scale': 0.05042017,\n 'tail_noise': 0.01808443038742269,\n 'tail_higher': array([0.3032043 , 0.18950708], dtype=float32),\n 'multi_tail_weights': array([0.3043841, 0.6956159], dtype=float32),\n 'ccf_subclones': array([0.37901416], dtype=float32)}"
     },
     "execution_count": 8,
     "metadata": {},
     "output_type": "execute_result"
    }
   ],
   "source": [
    "fitted[\"model_parameters\"][\"1:1\"]"
   ],
   "metadata": {
    "collapsed": false,
    "pycharm": {
     "name": "#%%\n"
    }
   }
  },
  {
   "cell_type": "code",
   "execution_count": 10,
   "outputs": [],
   "source": [
    "import tkinter\n",
    "import matplotlib\n",
    "import matplotlib.pyplot as plt\n",
    "matplotlib.use('TkAgg')\n",
    "losses = fitted[\"loss\"]\n",
    "\n",
    "plt.plot(losses)\n",
    "plt.title(\"ELBO\")\n",
    "plt.xlabel(\"step\")\n",
    "plt.ylabel(\"loss\")\n",
    "plt.show()"
   ],
   "metadata": {
    "collapsed": false,
    "pycharm": {
     "name": "#%%\n"
    }
   }
  },
  {
   "cell_type": "code",
   "execution_count": 9,
   "outputs": [
    {
     "data": {
      "text/plain": "(array(['C1', 'S1', 'S2', 'Tail'], dtype=object),\n array([36110,   397,   333,   217]))"
     },
     "execution_count": 9,
     "metadata": {},
     "output_type": "execute_result"
    }
   ],
   "source": [
    "import numpy\n",
    "numpy.unique(fitted[\"model_parameters\"][\"1:1\"][\"cluster_assignments\"],return_counts=True)\n"
   ],
   "metadata": {
    "collapsed": false,
    "pycharm": {
     "name": "#%%\n"
    }
   }
  },
  {
   "cell_type": "code",
   "execution_count": 16,
   "outputs": [
    {
     "ename": "KeyError",
     "evalue": "'param_weights_2'",
     "output_type": "error",
     "traceback": [
      "\u001B[0;31m---------------------------------------------------------------------------\u001B[0m",
      "\u001B[0;31mKeyError\u001B[0m                                  Traceback (most recent call last)",
      "\u001B[0;32m/var/folders/36/hkmr20bj0b73djsjg63qpp4h0000gp/T/ipykernel_41390/1601396709.py\u001B[0m in \u001B[0;36m<module>\u001B[0;34m\u001B[0m\n\u001B[0;32m----> 1\u001B[0;31m \u001B[0mpyro\u001B[0m\u001B[0;34m.\u001B[0m\u001B[0mparam\u001B[0m\u001B[0;34m(\u001B[0m\u001B[0;34m\"param_weights_2\"\u001B[0m\u001B[0;34m)\u001B[0m\u001B[0;34m.\u001B[0m\u001B[0mdetach\u001B[0m\u001B[0;34m(\u001B[0m\u001B[0;34m)\u001B[0m\u001B[0;34m.\u001B[0m\u001B[0mtolist\u001B[0m\u001B[0;34m(\u001B[0m\u001B[0;34m)\u001B[0m\u001B[0;34m\u001B[0m\u001B[0;34m\u001B[0m\u001B[0m\n\u001B[0m\u001B[1;32m      2\u001B[0m \u001B[0;34m\u001B[0m\u001B[0m\n\u001B[1;32m      3\u001B[0m \u001B[0;34m\u001B[0m\u001B[0m\n",
      "\u001B[0;32m~/miniforge3/envs/HMOBSTER/lib/python3.9/site-packages/pyro/primitives.py\u001B[0m in \u001B[0;36mparam\u001B[0;34m(name, init_tensor, constraint, event_dim)\u001B[0m\n\u001B[1;32m     76\u001B[0m     \u001B[0;31m# Note effectful(-) requires the double passing of name below.\u001B[0m\u001B[0;34m\u001B[0m\u001B[0;34m\u001B[0m\u001B[0m\n\u001B[1;32m     77\u001B[0m     \u001B[0margs\u001B[0m \u001B[0;34m=\u001B[0m \u001B[0;34m(\u001B[0m\u001B[0mname\u001B[0m\u001B[0;34m,\u001B[0m\u001B[0;34m)\u001B[0m \u001B[0;32mif\u001B[0m \u001B[0minit_tensor\u001B[0m \u001B[0;32mis\u001B[0m \u001B[0;32mNone\u001B[0m \u001B[0;32melse\u001B[0m \u001B[0;34m(\u001B[0m\u001B[0mname\u001B[0m\u001B[0;34m,\u001B[0m \u001B[0minit_tensor\u001B[0m\u001B[0;34m)\u001B[0m\u001B[0;34m\u001B[0m\u001B[0;34m\u001B[0m\u001B[0m\n\u001B[0;32m---> 78\u001B[0;31m     \u001B[0;32mreturn\u001B[0m \u001B[0m_param\u001B[0m\u001B[0;34m(\u001B[0m\u001B[0;34m*\u001B[0m\u001B[0margs\u001B[0m\u001B[0;34m,\u001B[0m \u001B[0mconstraint\u001B[0m\u001B[0;34m=\u001B[0m\u001B[0mconstraint\u001B[0m\u001B[0;34m,\u001B[0m \u001B[0mevent_dim\u001B[0m\u001B[0;34m=\u001B[0m\u001B[0mevent_dim\u001B[0m\u001B[0;34m,\u001B[0m \u001B[0mname\u001B[0m\u001B[0;34m=\u001B[0m\u001B[0mname\u001B[0m\u001B[0;34m)\u001B[0m\u001B[0;34m\u001B[0m\u001B[0;34m\u001B[0m\u001B[0m\n\u001B[0m\u001B[1;32m     79\u001B[0m \u001B[0;34m\u001B[0m\u001B[0m\n\u001B[1;32m     80\u001B[0m \u001B[0;34m\u001B[0m\u001B[0m\n",
      "\u001B[0;32m~/miniforge3/envs/HMOBSTER/lib/python3.9/site-packages/pyro/poutine/runtime.py\u001B[0m in \u001B[0;36m_fn\u001B[0;34m(*args, **kwargs)\u001B[0m\n\u001B[1;32m    261\u001B[0m \u001B[0;34m\u001B[0m\u001B[0m\n\u001B[1;32m    262\u001B[0m         \u001B[0;32mif\u001B[0m \u001B[0;32mnot\u001B[0m \u001B[0mam_i_wrapped\u001B[0m\u001B[0;34m(\u001B[0m\u001B[0;34m)\u001B[0m\u001B[0;34m:\u001B[0m\u001B[0;34m\u001B[0m\u001B[0;34m\u001B[0m\u001B[0m\n\u001B[0;32m--> 263\u001B[0;31m             \u001B[0;32mreturn\u001B[0m \u001B[0mfn\u001B[0m\u001B[0;34m(\u001B[0m\u001B[0;34m*\u001B[0m\u001B[0margs\u001B[0m\u001B[0;34m,\u001B[0m \u001B[0;34m**\u001B[0m\u001B[0mkwargs\u001B[0m\u001B[0;34m)\u001B[0m\u001B[0;34m\u001B[0m\u001B[0;34m\u001B[0m\u001B[0m\n\u001B[0m\u001B[1;32m    264\u001B[0m         \u001B[0;32melse\u001B[0m\u001B[0;34m:\u001B[0m\u001B[0;34m\u001B[0m\u001B[0;34m\u001B[0m\u001B[0m\n\u001B[1;32m    265\u001B[0m             msg = {\n",
      "\u001B[0;32m~/miniforge3/envs/HMOBSTER/lib/python3.9/site-packages/pyro/params/param_store.py\u001B[0m in \u001B[0;36mget_param\u001B[0;34m(self, name, init_tensor, constraint, event_dim)\u001B[0m\n\u001B[1;32m    212\u001B[0m         \"\"\"\n\u001B[1;32m    213\u001B[0m         \u001B[0;32mif\u001B[0m \u001B[0minit_tensor\u001B[0m \u001B[0;32mis\u001B[0m \u001B[0;32mNone\u001B[0m\u001B[0;34m:\u001B[0m\u001B[0;34m\u001B[0m\u001B[0;34m\u001B[0m\u001B[0m\n\u001B[0;32m--> 214\u001B[0;31m             \u001B[0;32mreturn\u001B[0m \u001B[0mself\u001B[0m\u001B[0;34m[\u001B[0m\u001B[0mname\u001B[0m\u001B[0;34m]\u001B[0m\u001B[0;34m\u001B[0m\u001B[0;34m\u001B[0m\u001B[0m\n\u001B[0m\u001B[1;32m    215\u001B[0m         \u001B[0;32melse\u001B[0m\u001B[0;34m:\u001B[0m\u001B[0;34m\u001B[0m\u001B[0;34m\u001B[0m\u001B[0m\n\u001B[1;32m    216\u001B[0m             \u001B[0;32mreturn\u001B[0m \u001B[0mself\u001B[0m\u001B[0;34m.\u001B[0m\u001B[0msetdefault\u001B[0m\u001B[0;34m(\u001B[0m\u001B[0mname\u001B[0m\u001B[0;34m,\u001B[0m \u001B[0minit_tensor\u001B[0m\u001B[0;34m,\u001B[0m \u001B[0mconstraint\u001B[0m\u001B[0;34m)\u001B[0m\u001B[0;34m\u001B[0m\u001B[0;34m\u001B[0m\u001B[0m\n",
      "\u001B[0;32m~/miniforge3/envs/HMOBSTER/lib/python3.9/site-packages/pyro/params/param_store.py\u001B[0m in \u001B[0;36m__getitem__\u001B[0;34m(self, name)\u001B[0m\n\u001B[1;32m    103\u001B[0m         \u001B[0mGet\u001B[0m \u001B[0mthe\u001B[0m \u001B[0;34m*\u001B[0m\u001B[0mconstrained\u001B[0m\u001B[0;34m*\u001B[0m \u001B[0mvalue\u001B[0m \u001B[0mof\u001B[0m \u001B[0ma\u001B[0m \u001B[0mnamed\u001B[0m \u001B[0mparameter\u001B[0m\u001B[0;34m.\u001B[0m\u001B[0;34m\u001B[0m\u001B[0;34m\u001B[0m\u001B[0m\n\u001B[1;32m    104\u001B[0m         \"\"\"\n\u001B[0;32m--> 105\u001B[0;31m         \u001B[0munconstrained_value\u001B[0m \u001B[0;34m=\u001B[0m \u001B[0mself\u001B[0m\u001B[0;34m.\u001B[0m\u001B[0m_params\u001B[0m\u001B[0;34m[\u001B[0m\u001B[0mname\u001B[0m\u001B[0;34m]\u001B[0m\u001B[0;34m\u001B[0m\u001B[0;34m\u001B[0m\u001B[0m\n\u001B[0m\u001B[1;32m    106\u001B[0m \u001B[0;34m\u001B[0m\u001B[0m\n\u001B[1;32m    107\u001B[0m         \u001B[0;31m# compute the constrained value\u001B[0m\u001B[0;34m\u001B[0m\u001B[0;34m\u001B[0m\u001B[0m\n",
      "\u001B[0;31mKeyError\u001B[0m: 'param_weights_2'"
     ]
    }
   ],
   "source": [
    "pyro.param(\"param_weights_2\").detach().tolist()\n"
   ],
   "metadata": {
    "collapsed": false,
    "pycharm": {
     "name": "#%%\n"
    }
   }
  },
  {
   "cell_type": "code",
   "execution_count": 46,
   "outputs": [],
   "source": [],
   "metadata": {
    "collapsed": false,
    "pycharm": {
     "name": "#%%\n"
    }
   }
  },
  {
   "cell_type": "code",
   "execution_count": 44,
   "outputs": [],
   "source": [
    "\n",
    "def retrieve_params():\n",
    "    param_names = pyro.get_param_store()\n",
    "    res = {nms: pyro.param(nms) for nms in param_names}\n",
    "    return res"
   ],
   "metadata": {
    "collapsed": false,
    "pycharm": {
     "name": "#%%\n"
    }
   }
  },
  {
   "cell_type": "code",
   "execution_count": 47,
   "outputs": [
    {
     "data": {
      "text/plain": "[0.480760395526886, 0.5192395448684692, 1.0]"
     },
     "execution_count": 47,
     "metadata": {},
     "output_type": "execute_result"
    }
   ],
   "source": [
    "pars"
   ],
   "metadata": {
    "collapsed": false,
    "pycharm": {
     "name": "#%%\n"
    }
   }
  },
  {
   "cell_type": "code",
   "execution_count": 42,
   "outputs": [],
   "source": [],
   "metadata": {
    "collapsed": false,
    "pycharm": {
     "name": "#%%\n"
    }
   }
  },
  {
   "cell_type": "code",
   "execution_count": null,
   "outputs": [],
   "source": [],
   "metadata": {
    "collapsed": false,
    "pycharm": {
     "name": "#%%\n"
    }
   }
  }
 ],
 "metadata": {
  "kernelspec": {
   "name": "python3",
   "language": "python",
   "display_name": "Python 3"
  },
  "language_info": {
   "codemirror_mode": {
    "name": "ipython",
    "version": 3
   },
   "file_extension": ".py",
   "mimetype": "text/x-python",
   "name": "python",
   "nbconvert_exporter": "python",
   "pygments_lexer": "ipython3",
   "version": "3.8.5"
  }
 },
 "nbformat": 4,
 "nbformat_minor": 5
}