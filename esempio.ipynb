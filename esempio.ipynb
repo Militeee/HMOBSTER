{
 "cells": [
  {
   "cell_type": "code",
   "execution_count": 1,
   "outputs": [],
   "source": [
    "import numpy\n",
    "import torch\n",
    "import mobster as mb\n",
    "\n",
    "import numpy as np\n"
   ],
   "metadata": {
    "collapsed": false,
    "pycharm": {
     "name": "#%%\n"
    }
   }
  },
  {
   "cell_type": "code",
   "execution_count": 2,
   "outputs": [],
   "source": [
    "data = mb.load_example_data(\"./\")"
   ],
   "metadata": {
    "collapsed": false,
    "pycharm": {
     "name": "#%%\n"
    }
   }
  },
  {
   "cell_type": "code",
   "execution_count": 5,
   "outputs": [
    {
     "name": "stdout",
     "output_type": "stream",
     "text": [
      "Running MOBSTER on 1 karyotypes with 1 subclones.\n",
      "Fitting a model with tail\n"
     ]
    },
    {
     "name": "stderr",
     "output_type": "stream",
     "text": [
      "ELBO: 1895.364854318  : 100%|██████████| 300/300 [00:03<00:00, 95.00it/s] "
     ]
    },
    {
     "name": "stdout",
     "output_type": "stream",
     "text": [
      "{'multitail_weights': tensor([[0.4325, 0.5675]], grad_fn=<DivBackward0>), 'tail_mean': tensor([0.9182], grad_fn=<AddBackward0>), 'alpha_noise': tensor([49.8206], grad_fn=<AddBackward0>), 'avg_number_of_trials_beta': tensor([1184.4547], grad_fn=<AddBackward0>), 'prc_number_of_trials_beta': tensor([13.7204], grad_fn=<AddBackward0>), 'ccf_priors': tensor([0.3794], grad_fn=<ClampBackward1>), 'param_tail_weights': tensor([[0.2920, 0.7080]], grad_fn=<DivBackward0>), 'param_weights_1': tensor([[0.7849, 0.2151]], grad_fn=<DivBackward0>), 'a_1': tensor([[0.4929]], grad_fn=<ClampBackward1>), 'n_trials_subclonal_0': tensor([299.9209], requires_grad=True)}\n",
      "Computing cluster assignements.\n"
     ]
    },
    {
     "name": "stderr",
     "output_type": "stream",
     "text": [
      "\n"
     ]
    },
    {
     "name": "stdout",
     "output_type": "stream",
     "text": [
      "Computing information criteria.\n",
      "Done!\n",
      "\n"
     ]
    }
   ],
   "source": [
    "import pyro\n",
    "\n",
    "pyro.enable_validation(True)\n",
    "fitted = mb.fit_mobster(data,1,1, subclonal_prior=\"Moyal\",purity = 1,  truncated_pareto=True, max_it = 300, lr = 0.01,  e = 0.0000005, lrd_gamma = 0.1,\n",
    "        number_of_trials_k= 1000, prior_lims_k=[100,1000000], prior_lims_clonal=[100,1000000.], number_of_trials_clonal_mean= 1000)\n"
   ],
   "metadata": {
    "collapsed": false,
    "pycharm": {
     "name": "#%%\n"
    }
   }
  },
  {
   "cell_type": "code",
   "execution_count": null,
   "outputs": [],
   "source": [
    "\n",
    "\n",
    "mb.plot_results(data, fitted, output= \"cane.png\", drivers=None)"
   ],
   "metadata": {
    "collapsed": false,
    "pycharm": {
     "name": "#%%\n"
    }
   }
  },
  {
   "cell_type": "code",
   "execution_count": 6,
   "outputs": [
    {
     "data": {
      "text/plain": "{'cluster_probs': array([[9.8495191e-01, 9.8228878e-01, 9.7440338e-01, ..., 3.7723485e-01,\n         4.0441286e-02, 8.9967065e-02],\n        [1.2972568e-19, 4.2881639e-18, 3.0994127e-18, ..., 6.2274659e-01,\n         9.5955878e-01, 9.1003293e-01],\n        [1.5048128e-02, 1.7711407e-02, 2.5596738e-02, ..., 1.8666633e-05,\n         2.6537437e-11, 1.5042492e-09]], dtype=float32),\n 'cluster_assignments': array(['Tail', 'Tail', 'Tail', 'Tail', 'Tail', 'Tail', 'Tail', 'Tail',\n        'Tail', 'Tail', 'Tail', 'Tail', 'Tail', 'Tail', 'Tail', 'Tail',\n        'Tail', 'Tail', 'Tail', 'Tail', 'Tail', 'Tail', 'Tail', 'Tail',\n        'Tail', 'Tail', 'Tail', 'Tail', 'Tail', 'Tail', 'Tail', 'Tail',\n        'Tail', 'Tail', 'Tail', 'Tail', 'Tail', 'Tail', 'Tail', 'Tail',\n        'Tail', 'Tail', 'Tail', 'Tail', 'Tail', 'Tail', 'Tail', 'Tail',\n        'Tail', 'Tail', 'Tail', 'Tail', 'Tail', 'Tail', 'Tail', 'Tail',\n        'Tail', 'Tail', 'Tail', 'Tail', 'Tail', 'Tail', 'Tail', 'Tail',\n        'S1', 'Tail', 'Tail', 'Tail', 'Tail', 'Tail', 'Tail', 'Tail',\n        'Tail', 'Tail', 'Tail', 'Tail', 'Tail', 'Tail', 'Tail', 'S1',\n        'Tail', 'S1', 'Tail', 'Tail', 'Tail', 'Tail', 'Tail', 'Tail',\n        'Tail', 'Tail', 'Tail', 'Tail', 'Tail', 'Tail', 'Tail', 'Tail',\n        'Tail', 'Tail', 'Tail', 'Tail', 'Tail', 'Tail', 'Tail', 'Tail',\n        'Tail', 'Tail', 'Tail', 'Tail', 'Tail', 'Tail', 'Tail', 'Tail',\n        'Tail', 'Tail', 'Tail', 'Tail', 'Tail', 'Tail', 'Tail', 'Tail',\n        'Tail', 'Tail', 'Tail', 'Tail', 'Tail', 'Tail', 'Tail', 'Tail',\n        'Tail', 'Tail', 'Tail', 'Tail', 'Tail', 'Tail', 'Tail', 'Tail',\n        'Tail', 'Tail', 'Tail', 'Tail', 'Tail', 'Tail', 'Tail', 'Tail',\n        'Tail', 'Tail', 'Tail', 'Tail', 'Tail', 'Tail', 'Tail', 'Tail',\n        'Tail', 'Tail', 'Tail', 'Tail', 'Tail', 'S1', 'S1', 'S1', 'Tail',\n        'S1', 'S1', 'Tail', 'S1', 'Tail', 'S1', 'S1', 'S1', 'S1', 'S1',\n        'S1', 'S1', 'S1', 'Tail', 'S1', 'S1', 'Tail', 'Tail', 'S1', 'S1',\n        'S1', 'S1', 'S1', 'S1', 'S1', 'S1', 'S1', 'Tail', 'Tail', 'Tail',\n        'Tail', 'Tail', 'Tail', 'Tail', 'Tail', 'Tail', 'Tail', 'S1', 'S1',\n        'S1', 'Tail', 'Tail', 'S1', 'S1', 'Tail', 'S1', 'S1', 'S1', 'S1',\n        'Tail', 'S1', 'S1', 'S1', 'S1', 'S1', 'S1', 'S1', 'S1', 'Tail',\n        'S1', 'Tail', 'S1', 'S1', 'S1', 'S1', 'S1', 'S1', 'S1', 'S1', 'S1',\n        'S1', 'S1', 'S1', 'Tail', 'S1', 'S1', 'S1', 'S1', 'S1', 'S1',\n        'Tail', 'S1', 'S1', 'S1', 'S1', 'Tail', 'S1', 'S1', 'S1', 'S1',\n        'S1', 'Tail', 'Tail', 'Tail', 'Tail', 'Tail', 'Tail', 'Tail',\n        'Tail', 'Tail', 'Tail', 'Tail', 'Tail', 'Tail', 'Tail', 'Tail',\n        'Tail', 'Tail', 'Tail', 'Tail', 'Tail', 'Tail', 'Tail', 'Tail',\n        'Tail', 'Tail', 'Tail', 'Tail', 'Tail', 'Tail', 'Tail', 'Tail',\n        'Tail', 'Tail', 'Tail', 'Tail', 'Tail', 'Tail', 'Tail', 'Tail',\n        'Tail', 'Tail', 'Tail', 'Tail', 'Tail', 'Tail', 'Tail', 'Tail',\n        'Tail', 'Tail', 'Tail', 'Tail', 'Tail', 'Tail', 'Tail', 'Tail',\n        'Tail', 'Tail', 'Tail', 'Tail', 'Tail', 'Tail', 'Tail', 'Tail',\n        'Tail', 'Tail', 'Tail', 'Tail', 'Tail', 'Tail', 'Tail', 'Tail',\n        'Tail', 'Tail', 'Tail', 'Tail', 'Tail', 'Tail', 'Tail', 'Tail',\n        'Tail', 'Tail', 'Tail', 'Tail', 'Tail', 'Tail', 'Tail', 'S1', 'S1',\n        'S1', 'Tail', 'Tail', 'S1', 'Tail', 'Tail', 'Tail', 'Tail', 'Tail',\n        'Tail', 'Tail', 'Tail', 'S1', 'Tail', 'Tail', 'S1', 'Tail', 'Tail',\n        'Tail', 'Tail', 'Tail', 'S1', 'Tail', 'Tail', 'Tail', 'Tail',\n        'Tail', 'S1', 'Tail', 'Tail', 'S1', 'Tail', 'Tail', 'Tail', 'Tail',\n        'S1', 'S1', 'S1', 'Tail', 'Tail', 'S1', 'S1', 'S1', 'S1', 'Tail',\n        'S1', 'S1', 'S1', 'S1', 'S1', 'S1', 'S1', 'S1', 'S1', 'S1', 'S1',\n        'Tail', 'Tail', 'S1', 'S1', 'S1', 'Tail', 'S1', 'Tail', 'S1', 'S1',\n        'S1', 'S1', 'S1', 'S1', 'S1', 'S1', 'S1', 'S1', 'S1', 'S1', 'Tail',\n        'S1', 'S1', 'S1', 'S1', 'Tail', 'S1', 'S1', 'S1', 'C1', 'C1',\n        'Tail', 'Tail', 'Tail', 'C1', 'Tail', 'C1', 'Tail', 'C1', 'C1',\n        'C1', 'Tail', 'C1', 'C1', 'Tail', 'C1', 'Tail', 'Tail', 'Tail',\n        'C1', 'Tail', 'Tail', 'Tail', 'Tail', 'Tail', 'C1', 'C1', 'C1',\n        'C1', 'C1', 'C1', 'C1', 'C1', 'C1', 'C1', 'C1', 'C1', 'C1', 'C1',\n        'C1', 'C1', 'C1', 'C1', 'C1', 'C1', 'C1', 'C1', 'C1', 'C1', 'C1',\n        'C1', 'C1', 'C1', 'C1', 'C1', 'C1', 'C1', 'C1', 'C1', 'C1', 'C1',\n        'C1', 'C1', 'C1', 'C1', 'C1', 'C1', 'C1', 'C1', 'C1', 'C1', 'C1',\n        'C1', 'C1', 'C1', 'C1', 'C1', 'C1', 'C1', 'C1', 'C1', 'C1', 'C1',\n        'C1', 'C1', 'C1', 'C1', 'C1', 'C1', 'C1', 'C1', 'C1', 'C1', 'C1',\n        'C1', 'C1', 'C1', 'C1', 'C1', 'C1', 'C1', 'C1', 'C1', 'C1', 'C1',\n        'C1', 'C1', 'C1', 'C1', 'C1', 'C1', 'C1', 'C1', 'C1', 'C1', 'C1',\n        'C1', 'C1', 'C1', 'C1', 'C1', 'C1', 'C1', 'C1', 'C1', 'C1', 'Tail',\n        'C1', 'C1', 'C1', 'C1', 'C1', 'C1', 'C1', 'C1', 'C1', 'C1', 'C1',\n        'C1', 'C1', 'C1', 'C1', 'C1', 'C1', 'C1', 'C1', 'C1', 'C1', 'C1',\n        'C1', 'C1', 'C1', 'C1', 'C1', 'C1', 'C1', 'C1', 'C1', 'C1', 'C1',\n        'C1', 'C1', 'C1', 'C1', 'C1', 'C1', 'C1', 'C1', 'C1', 'C1', 'C1',\n        'C1', 'C1', 'C1', 'C1', 'C1', 'C1', 'C1', 'C1', 'C1', 'C1', 'C1',\n        'C1', 'C1', 'C1', 'C1', 'C1', 'C1', 'C1', 'C1', 'C1', 'C1', 'C1',\n        'C1', 'C1', 'C1', 'C1', 'C1', 'C1', 'C1', 'C1', 'C1', 'C1', 'C1',\n        'C1', 'C1', 'C1', 'C1', 'C1', 'C1', 'C1', 'C1', 'C1', 'C1', 'C1',\n        'C1', 'C1', 'C1', 'C1', 'C1', 'C1', 'C1', 'C1', 'C1', 'C1', 'C1',\n        'C1', 'C1', 'C1', 'C1', 'C1', 'C1', 'C1', 'C1', 'C1', 'C1', 'C1',\n        'C1', 'C1', 'C1', 'C1', 'C1', 'C1', 'C1', 'C1', 'C1', 'C1', 'C1',\n        'C1', 'C1', 'C1', 'C1', 'C1', 'C1', 'C1', 'C1', 'C1', 'C1', 'C1',\n        'C1', 'C1', 'C1', 'C1', 'C1', 'C1', 'C1', 'C1', 'C1', 'C1', 'C1',\n        'C1', 'C1', 'C1', 'C1', 'C1', 'C1', 'C1', 'C1', 'C1', 'C1', 'C1',\n        'C1', 'C1', 'C1', 'C1', 'C1', 'C1', 'C1', 'C1', 'C1', 'C1', 'C1',\n        'C1', 'C1', 'C1', 'C1', 'C1', 'C1', 'C1', 'C1', 'C1', 'C1', 'C1',\n        'C1', 'C1', 'C1', 'C1', 'C1', 'C1', 'C1', 'C1', 'C1', 'C1', 'C1',\n        'C1', 'C1', 'C1', 'C1', 'C1', 'C1', 'C1', 'C1', 'C1', 'C1', 'C1',\n        'C1', 'C1', 'C1', 'C1', 'C1', 'C1', 'C1', 'C1', 'C1', 'C1', 'C1',\n        'C1', 'C1', 'C1', 'C1', 'C1', 'C1', 'C1', 'C1', 'C1', 'C1', 'C1',\n        'C1', 'C1', 'C1', 'C1', 'C1', 'C1', 'C1', 'C1', 'C1', 'C1', 'C1',\n        'C1', 'C1', 'C1', 'C1', 'C1', 'C1', 'C1', 'C1', 'C1', 'C1', 'C1',\n        'C1', 'C1', 'C1', 'C1', 'C1', 'C1', 'C1', 'C1', 'C1', 'C1', 'C1',\n        'C1', 'C1', 'C1', 'C1', 'C1', 'C1', 'Tail', 'C1', 'C1', 'C1', 'C1',\n        'C1', 'C1', 'C1', 'C1', 'C1', 'C1', 'C1', 'C1', 'C1', 'C1', 'C1',\n        'C1', 'C1', 'C1', 'C1', 'C1', 'C1', 'C1', 'C1', 'C1', 'C1', 'C1',\n        'C1', 'C1', 'C1', 'C1', 'C1', 'C1', 'C1', 'C1', 'C1', 'C1', 'C1',\n        'C1', 'C1', 'C1', 'C1', 'C1', 'C1', 'C1', 'C1', 'C1', 'C1', 'C1',\n        'C1', 'C1', 'C1', 'C1', 'C1', 'C1', 'C1', 'C1', 'C1', 'C1', 'C1',\n        'C1', 'C1', 'Tail', 'C1', 'C1', 'C1', 'C1', 'C1', 'C1', 'C1', 'C1',\n        'C1', 'C1', 'C1', 'C1', 'C1', 'C1', 'C1', 'C1', 'C1', 'C1', 'C1',\n        'C1', 'C1', 'C1', 'C1', 'C1', 'C1', 'C1', 'C1', 'C1', 'C1', 'C1',\n        'C1', 'C1', 'C1', 'C1', 'C1', 'C1', 'C1', 'C1', 'C1', 'C1', 'C1',\n        'C1', 'C1', 'C1', 'C1', 'C1', 'C1', 'C1', 'C1', 'C1', 'C1', 'C1',\n        'C1', 'C1', 'C1', 'C1', 'C1', 'C1', 'Tail', 'C1', 'C1', 'C1', 'C1',\n        'C1', 'C1', 'C1', 'C1', 'C1', 'C1', 'C1', 'C1', 'C1', 'C1', 'C1',\n        'C1', 'C1', 'C1', 'C1', 'C1', 'C1', 'C1', 'C1', 'C1', 'C1', 'C1',\n        'C1'], dtype=object),\n 'cluster_types': array(['Tail', 'C1', 'S1'], dtype='<U4'),\n 'mixture_probs': array([0.29198152, 0.55573535, 0.15228315], dtype=float32),\n 'beta_concentration1': array([583.82043], dtype=float32),\n 'beta_concentration2': array([600.6343], dtype=float32),\n 'dispersion_noise': tensor([0.0729], grad_fn=<MulBackward0>),\n 'tail_shape': array([0.9181802], dtype=float32),\n 'tail_scale': 0.05042017,\n 'tail_noise': 0.02007203587092348,\n 'tail_higher': array([0.30321446, 0.18968785], dtype=float32),\n 'multi_tail_weights': array([0.432519  , 0.56748104], dtype=float32),\n 'ccf_subclones': array([0.3793757], dtype=float32),\n 'n_trials_subclonal': array([299.92093], dtype=float32)}"
     },
     "execution_count": 6,
     "metadata": {},
     "output_type": "execute_result"
    }
   ],
   "source": [
    "fitted[\"model_parameters\"][\"1:1\"]\n",
    "\n"
   ],
   "metadata": {
    "collapsed": false,
    "pycharm": {
     "name": "#%%\n"
    }
   }
  },
  {
   "cell_type": "code",
   "execution_count": 17,
   "outputs": [],
   "source": [],
   "metadata": {
    "collapsed": false,
    "pycharm": {
     "name": "#%%\n"
    }
   }
  },
  {
   "cell_type": "code",
   "execution_count": 18,
   "outputs": [
    {
     "data": {
      "text/plain": "tensor([ 6.5504e+00, -2.3366e-03,  1.9606e+00])"
     },
     "execution_count": 18,
     "metadata": {},
     "output_type": "execute_result"
    }
   ],
   "source": [
    "moy.rsample(torch.ones(3).size())"
   ],
   "metadata": {
    "collapsed": false,
    "pycharm": {
     "name": "#%%\n"
    }
   }
  },
  {
   "cell_type": "code",
   "execution_count": null,
   "outputs": [],
   "source": [],
   "metadata": {
    "collapsed": false,
    "pycharm": {
     "name": "#%%\n"
    }
   }
  }
 ],
 "metadata": {
  "kernelspec": {
   "name": "python3",
   "language": "python",
   "display_name": "Python 3"
  },
  "language_info": {
   "codemirror_mode": {
    "name": "ipython",
    "version": 3
   },
   "file_extension": ".py",
   "mimetype": "text/x-python",
   "name": "python",
   "nbconvert_exporter": "python",
   "pygments_lexer": "ipython3",
   "version": "3.8.5"
  }
 },
 "nbformat": 4,
 "nbformat_minor": 5
}